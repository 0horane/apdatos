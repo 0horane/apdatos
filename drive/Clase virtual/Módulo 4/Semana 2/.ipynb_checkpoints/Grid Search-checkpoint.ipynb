{
 "cells": [
  {
   "cell_type": "markdown",
   "id": "english-symposium",
   "metadata": {
    "id": "superb-ambassador"
   },
   "source": [
    "## Herramientas para mejorar entrenamiento. \n",
    "\n",
    "En esta Notebook entrenaremos diferentes modelos a fin de comparar su perfomance utilizando Grid Search para encontrar los mejores hiperparámetros\n",
    "\n",
    "Vamos a utilizar como ejemplo un modelo de Aprendizaje Automático Supervisado de Clasificación de Random Forest. Realizaremos los pasos de un Proyecto de Ciencia de Datos:\n",
    "\n",
    "1. Definición del Problema\n",
    "2. Búsqueda de datos \n",
    "3. Exploración y Limpieza de Datos\n",
    "4. Dividir los datos en **X** (variables predictoras) e **y** (variable a predecir). Dividir los datos en entrenamiento y testo con el méodo *train_test_split*\n",
    "5. Entrenamiento del modelo\n",
    "6. Testeo del Modelo \n",
    "\n",
    "### Definición del problema\n",
    "\n",
    "**¿Qué pasajeros sobrevivirían del hundimiento del Titanic en base a sus características?**\n",
    "\n",
    "### Búsqueda de datos\n",
    "\n",
    "El dataset que se utilizará es un listado de los pasajeros del Titanic y se indica si sobrevivieron o no al hundimiento y distintas características de los mismo. Hay varias versiones de este dataset, en este caso utilizaremos uno que tiene realizado una limpieza previa donde se han transformado alguna columnas armando grupos por Edad y dividiendo el dato de grupo familiar (\"SibSp_0\" y \"Parch_0\") y ya están realizadas todas las variables dummies. Fue extraído de [Kaggle](https://www.kaggle.com/datasets/ak1352/titanic-cl?select=train_cl.csv). \n"
   ]
  },
  {
   "cell_type": "code",
   "execution_count": 50,
   "id": "competent-stick",
   "metadata": {
    "id": "adopted-trailer"
   },
   "outputs": [],
   "source": [
    "#importamos las librerías que utilizaremos\n",
    "\n",
    "import pandas as pd\n",
    "import matplotlib.pyplot as plt\n",
    "import seaborn as sns"
   ]
  },
  {
   "cell_type": "code",
   "execution_count": 51,
   "id": "cognitive-farming",
   "metadata": {
    "id": "emerging-obligation"
   },
   "outputs": [],
   "source": [
    "data = pd.read_csv(\"titanic.csv\")"
   ]
  },
  {
   "cell_type": "code",
   "execution_count": 52,
   "id": "changed-nicaragua",
   "metadata": {
    "colab": {
     "base_uri": "https://localhost:8080/",
     "height": 141
    },
    "id": "ethical-paper",
    "outputId": "12ab1e16-50f5-43cc-9784-5b2a0bd217ac"
   },
   "outputs": [
    {
     "data": {
      "text/html": [
       "<div>\n",
       "<style scoped>\n",
       "    .dataframe tbody tr th:only-of-type {\n",
       "        vertical-align: middle;\n",
       "    }\n",
       "\n",
       "    .dataframe tbody tr th {\n",
       "        vertical-align: top;\n",
       "    }\n",
       "\n",
       "    .dataframe thead th {\n",
       "        text-align: right;\n",
       "    }\n",
       "</style>\n",
       "<table border=\"1\" class=\"dataframe\">\n",
       "  <thead>\n",
       "    <tr style=\"text-align: right;\">\n",
       "      <th></th>\n",
       "      <th>Unnamed: 0</th>\n",
       "      <th>Survived</th>\n",
       "      <th>Sex</th>\n",
       "      <th>Age</th>\n",
       "      <th>Fare</th>\n",
       "      <th>famiy</th>\n",
       "      <th>Embarked_0</th>\n",
       "      <th>AgeGroup_1</th>\n",
       "      <th>AgeGroup_2</th>\n",
       "      <th>AgeGroup_3</th>\n",
       "      <th>...</th>\n",
       "      <th>Pclass_2</th>\n",
       "      <th>Pclass_3</th>\n",
       "      <th>Parch_0</th>\n",
       "      <th>Parch_1</th>\n",
       "      <th>Parch_2</th>\n",
       "      <th>Parch_3</th>\n",
       "      <th>Parch_4</th>\n",
       "      <th>Parch_5</th>\n",
       "      <th>Parch_6</th>\n",
       "      <th>isAlone</th>\n",
       "    </tr>\n",
       "  </thead>\n",
       "  <tbody>\n",
       "    <tr>\n",
       "      <th>0</th>\n",
       "      <td>0</td>\n",
       "      <td>0</td>\n",
       "      <td>0</td>\n",
       "      <td>22.0</td>\n",
       "      <td>7.2500</td>\n",
       "      <td>2</td>\n",
       "      <td>1</td>\n",
       "      <td>0</td>\n",
       "      <td>0</td>\n",
       "      <td>0</td>\n",
       "      <td>...</td>\n",
       "      <td>0</td>\n",
       "      <td>1</td>\n",
       "      <td>1</td>\n",
       "      <td>0</td>\n",
       "      <td>0</td>\n",
       "      <td>0</td>\n",
       "      <td>0</td>\n",
       "      <td>0</td>\n",
       "      <td>0</td>\n",
       "      <td>0</td>\n",
       "    </tr>\n",
       "    <tr>\n",
       "      <th>1</th>\n",
       "      <td>1</td>\n",
       "      <td>1</td>\n",
       "      <td>1</td>\n",
       "      <td>38.0</td>\n",
       "      <td>71.2833</td>\n",
       "      <td>2</td>\n",
       "      <td>1</td>\n",
       "      <td>0</td>\n",
       "      <td>0</td>\n",
       "      <td>1</td>\n",
       "      <td>...</td>\n",
       "      <td>0</td>\n",
       "      <td>0</td>\n",
       "      <td>1</td>\n",
       "      <td>0</td>\n",
       "      <td>0</td>\n",
       "      <td>0</td>\n",
       "      <td>0</td>\n",
       "      <td>0</td>\n",
       "      <td>0</td>\n",
       "      <td>0</td>\n",
       "    </tr>\n",
       "    <tr>\n",
       "      <th>2</th>\n",
       "      <td>2</td>\n",
       "      <td>1</td>\n",
       "      <td>1</td>\n",
       "      <td>26.0</td>\n",
       "      <td>7.9250</td>\n",
       "      <td>1</td>\n",
       "      <td>1</td>\n",
       "      <td>0</td>\n",
       "      <td>0</td>\n",
       "      <td>1</td>\n",
       "      <td>...</td>\n",
       "      <td>0</td>\n",
       "      <td>1</td>\n",
       "      <td>1</td>\n",
       "      <td>0</td>\n",
       "      <td>0</td>\n",
       "      <td>0</td>\n",
       "      <td>0</td>\n",
       "      <td>0</td>\n",
       "      <td>0</td>\n",
       "      <td>1</td>\n",
       "    </tr>\n",
       "  </tbody>\n",
       "</table>\n",
       "<p>3 rows × 29 columns</p>\n",
       "</div>"
      ],
      "text/plain": [
       "   Unnamed: 0  Survived  Sex   Age     Fare  famiy  Embarked_0  AgeGroup_1  \\\n",
       "0           0         0    0  22.0   7.2500      2           1           0   \n",
       "1           1         1    1  38.0  71.2833      2           1           0   \n",
       "2           2         1    1  26.0   7.9250      1           1           0   \n",
       "\n",
       "   AgeGroup_2  AgeGroup_3  ...  Pclass_2  Pclass_3  Parch_0  Parch_1  Parch_2  \\\n",
       "0           0           0  ...         0         1        1        0        0   \n",
       "1           0           1  ...         0         0        1        0        0   \n",
       "2           0           1  ...         0         1        1        0        0   \n",
       "\n",
       "   Parch_3  Parch_4  Parch_5  Parch_6  isAlone  \n",
       "0        0        0        0        0        0  \n",
       "1        0        0        0        0        0  \n",
       "2        0        0        0        0        1  \n",
       "\n",
       "[3 rows x 29 columns]"
      ]
     },
     "execution_count": 52,
     "metadata": {},
     "output_type": "execute_result"
    }
   ],
   "source": [
    "#vemos los primeros 3 registros\n",
    "data.head(3)"
   ]
  },
  {
   "cell_type": "code",
   "execution_count": 53,
   "id": "logical-combination",
   "metadata": {
    "colab": {
     "base_uri": "https://localhost:8080/"
    },
    "id": "bound-makeup",
    "outputId": "81c79e1d-a064-476f-fb46-2e63fa17935c"
   },
   "outputs": [
    {
     "data": {
      "text/plain": [
       "(891, 29)"
      ]
     },
     "execution_count": 53,
     "metadata": {},
     "output_type": "execute_result"
    }
   ],
   "source": [
    "#vemos el tamaño del dataset \n",
    "\n",
    "data.shape"
   ]
  },
  {
   "cell_type": "code",
   "execution_count": 54,
   "id": "inside-essex",
   "metadata": {
    "colab": {
     "base_uri": "https://localhost:8080/"
    },
    "id": "constant-definition",
    "outputId": "40b68075-8285-4673-fa9c-29aea6cec682"
   },
   "outputs": [
    {
     "data": {
      "text/plain": [
       "Index(['Unnamed: 0', 'Survived', 'Sex', 'Age', 'Fare', 'famiy', 'Embarked_0',\n",
       "       'AgeGroup_1', 'AgeGroup_2', 'AgeGroup_3', 'AgeGroup_4', 'SibSp_0',\n",
       "       'SibSp_1', 'SibSp_2', 'SibSp_3', 'SibSp_4', 'SibSp_5', 'SibSp_8',\n",
       "       'Pclass_1', 'Pclass_2', 'Pclass_3', 'Parch_0', 'Parch_1', 'Parch_2',\n",
       "       'Parch_3', 'Parch_4', 'Parch_5', 'Parch_6', 'isAlone'],\n",
       "      dtype='object')"
      ]
     },
     "execution_count": 54,
     "metadata": {},
     "output_type": "execute_result"
    }
   ],
   "source": [
    "data.columns"
   ]
  },
  {
   "cell_type": "code",
   "execution_count": 55,
   "id": "worth-edwards",
   "metadata": {
    "colab": {
     "base_uri": "https://localhost:8080/"
    },
    "id": "surface-geology",
    "outputId": "11d796d6-b173-4443-bc0a-f942fc2d0c34"
   },
   "outputs": [
    {
     "data": {
      "text/plain": [
       "Unnamed: 0    0\n",
       "Survived      0\n",
       "Sex           0\n",
       "Age           0\n",
       "Fare          0\n",
       "famiy         0\n",
       "Embarked_0    0\n",
       "AgeGroup_1    0\n",
       "AgeGroup_2    0\n",
       "AgeGroup_3    0\n",
       "AgeGroup_4    0\n",
       "SibSp_0       0\n",
       "SibSp_1       0\n",
       "SibSp_2       0\n",
       "SibSp_3       0\n",
       "SibSp_4       0\n",
       "SibSp_5       0\n",
       "SibSp_8       0\n",
       "Pclass_1      0\n",
       "Pclass_2      0\n",
       "Pclass_3      0\n",
       "Parch_0       0\n",
       "Parch_1       0\n",
       "Parch_2       0\n",
       "Parch_3       0\n",
       "Parch_4       0\n",
       "Parch_5       0\n",
       "Parch_6       0\n",
       "isAlone       0\n",
       "dtype: int64"
      ]
     },
     "execution_count": 55,
     "metadata": {},
     "output_type": "execute_result"
    }
   ],
   "source": [
    "# Vemos si hay datos nulos\n",
    "\n",
    "data.isnull().sum()"
   ]
  },
  {
   "cell_type": "code",
   "execution_count": 56,
   "id": "damaged-bridges",
   "metadata": {
    "colab": {
     "base_uri": "https://localhost:8080/"
    },
    "id": "inclusive-vietnamese",
    "outputId": "572f6455-2856-4592-bd74-af1511b23d2b"
   },
   "outputs": [
    {
     "name": "stdout",
     "output_type": "stream",
     "text": [
      "<class 'pandas.core.frame.DataFrame'>\n",
      "RangeIndex: 891 entries, 0 to 890\n",
      "Data columns (total 29 columns):\n",
      " #   Column      Non-Null Count  Dtype  \n",
      "---  ------      --------------  -----  \n",
      " 0   Unnamed: 0  891 non-null    int64  \n",
      " 1   Survived    891 non-null    int64  \n",
      " 2   Sex         891 non-null    int64  \n",
      " 3   Age         891 non-null    float64\n",
      " 4   Fare        891 non-null    float64\n",
      " 5   famiy       891 non-null    int64  \n",
      " 6   Embarked_0  891 non-null    int64  \n",
      " 7   AgeGroup_1  891 non-null    int64  \n",
      " 8   AgeGroup_2  891 non-null    int64  \n",
      " 9   AgeGroup_3  891 non-null    int64  \n",
      " 10  AgeGroup_4  891 non-null    int64  \n",
      " 11  SibSp_0     891 non-null    int64  \n",
      " 12  SibSp_1     891 non-null    int64  \n",
      " 13  SibSp_2     891 non-null    int64  \n",
      " 14  SibSp_3     891 non-null    int64  \n",
      " 15  SibSp_4     891 non-null    int64  \n",
      " 16  SibSp_5     891 non-null    int64  \n",
      " 17  SibSp_8     891 non-null    int64  \n",
      " 18  Pclass_1    891 non-null    int64  \n",
      " 19  Pclass_2    891 non-null    int64  \n",
      " 20  Pclass_3    891 non-null    int64  \n",
      " 21  Parch_0     891 non-null    int64  \n",
      " 22  Parch_1     891 non-null    int64  \n",
      " 23  Parch_2     891 non-null    int64  \n",
      " 24  Parch_3     891 non-null    int64  \n",
      " 25  Parch_4     891 non-null    int64  \n",
      " 26  Parch_5     891 non-null    int64  \n",
      " 27  Parch_6     891 non-null    int64  \n",
      " 28  isAlone     891 non-null    int64  \n",
      "dtypes: float64(2), int64(27)\n",
      "memory usage: 202.0 KB\n"
     ]
    }
   ],
   "source": [
    "data.info()"
   ]
  },
  {
   "cell_type": "code",
   "execution_count": 57,
   "id": "referenced-bidding",
   "metadata": {
    "colab": {
     "base_uri": "https://localhost:8080/"
    },
    "id": "orange-fruit",
    "outputId": "7dbd5728-668a-4603-cfe7-4fe8b9ac4083"
   },
   "outputs": [
    {
     "data": {
      "text/plain": [
       "0    549\n",
       "1    342\n",
       "Name: Survived, dtype: int64"
      ]
     },
     "execution_count": 57,
     "metadata": {},
     "output_type": "execute_result"
    }
   ],
   "source": [
    "# Vemos la distribución de la variable target\n",
    "\n",
    "data[\"Survived\"].value_counts()"
   ]
  },
  {
   "cell_type": "code",
   "execution_count": 58,
   "id": "mounted-charity",
   "metadata": {
    "colab": {
     "base_uri": "https://localhost:8080/",
     "height": 352
    },
    "id": "controlled-product",
    "outputId": "109b0705-a943-486c-ba4a-6e245b50eb6a"
   },
   "outputs": [
    {
     "data": {
      "text/plain": [
       "<AxesSubplot:xlabel='Survived', ylabel='count'>"
      ]
     },
     "execution_count": 58,
     "metadata": {},
     "output_type": "execute_result"
    },
    {
     "data": {
      "image/png": "[encoded data removed]",
      "text/plain": [
       "<Figure size 432x288 with 1 Axes>"
      ]
     },
     "metadata": {
      "needs_background": "light"
     },
     "output_type": "display_data"
    }
   ],
   "source": [
    "# Visualizamos la variable a predecir\n",
    "\n",
    "sns.countplot(data[\"Survived\"])"
   ]
  },
  {
   "cell_type": "markdown",
   "id": "level-property",
   "metadata": {
    "id": "friendly-optimization"
   },
   "source": [
    "#### Random Forest\n",
    "\n",
    "Ahora entrenaremos distintos modelos de Random Forest modificando los hiperparámetros para intentar lograr mejorar la performance del modelos. Los posibles hiperparámetros que pueden defnirse son los de los Árboles de Decisión y los específicos de los modelos de Random Forest. Pueden verse en la [documentación](https://scikit-learn.org/stable/modules/generated/sklearn.ensemble.RandomForestClassifier.html?highlight=random%20forest#sklearn.ensemble.RandomForestClassifier).\n",
    "\n",
    "Entre los principales están:\n",
    "\n",
    "**n_estimators**: Cantidad de árboles a entrenar. El límite de árboles a elegir generalmente viene dado por la capacidad de cómputo en donde se entrena. Sin embargo, también se debe tener en cuenta el riesgo de sobreajuste.\n",
    "\n",
    "**max_depth**: Máxima profundidad que puede tener cada árbol. La profundidad viene dada por cuantas ramificaciones tiene cada árbol.\n",
    "\n",
    "**max_features**: Cuantas variables, como máximo, puede tener el conjunto de entrenamiento de cada árbol. Recordar que el conjunto de entrenamiento de cada árbol es un subconjunto del conjunto de entrenamiento completo.\n",
    "\n",
    "**bootstrap**: Esta es la técnica usada para generar los subconjuntos de datos de entrenamiento para cada árbol. Si se coloca como falso (False) se pasarán todas las filas del data frame al entrenamiento de todos los árboles.\n",
    "\n",
    "En primer lugar generaremos X e y y dividieremos los datos en entrenamiento y testeo"
   ]
  },
  {
   "cell_type": "code",
   "execution_count": 59,
   "id": "posted-disorder",
   "metadata": {
    "id": "corporate-celebration"
   },
   "outputs": [],
   "source": [
    "X = data.drop(columns=\"Survived\")\n",
    "y = data[\"Survived\"]"
   ]
  },
  {
   "cell_type": "code",
   "execution_count": 60,
   "id": "everyday-middle",
   "metadata": {
    "id": "buried-drawing"
   },
   "outputs": [],
   "source": [
    "# Dividimos datos en train y test\n",
    "\n",
    "from sklearn.model_selection import train_test_split\n",
    "\n",
    "X_train, X_test, y_train, y_test = train_test_split(X, y, random_state=48)  #por default 25% de test\n"
   ]
  },
  {
   "cell_type": "code",
   "execution_count": 61,
   "id": "outer-routine",
   "metadata": {
    "colab": {
     "base_uri": "https://localhost:8080/"
    },
    "id": "liberal-hierarchy",
    "outputId": "63bb252c-3df3-425c-b447-b55f1d469ba4"
   },
   "outputs": [
    {
     "name": "stdout",
     "output_type": "stream",
     "text": [
      "El tamaño de X_train es:  (668, 28)\n",
      "El tamaño de X_test es:  (223, 28)\n",
      "El tamaño de y_train es:  (668,)\n",
      "El tamaño de y_test es:  (223,)\n"
     ]
    }
   ],
   "source": [
    "print(\"El tamaño de X_train es: \", X_train.shape)\n",
    "print(\"El tamaño de X_test es: \",X_test.shape)\n",
    "print(\"El tamaño de y_train es: \",y_train.shape)\n",
    "print(\"El tamaño de y_test es: \",y_test.shape)"
   ]
  },
  {
   "cell_type": "markdown",
   "id": "flying-edgar",
   "metadata": {},
   "source": [
    "##### Modelo con los hiperparámetros por default\n",
    "\n",
    "En primer lugar instanciamos y entrenamos un modelo con los hiperparámetros por default"
   ]
  },
  {
   "cell_type": "code",
   "execution_count": 62,
   "id": "certified-fusion",
   "metadata": {
    "id": "tribal-newark"
   },
   "outputs": [],
   "source": [
    "# Importamos el modelo que utilizaremos\n",
    "\n",
    "from sklearn.ensemble import RandomForestClassifier\n"
   ]
  },
  {
   "cell_type": "code",
   "execution_count": 63,
   "id": "rural-pottery",
   "metadata": {
    "id": "accessory-specialist"
   },
   "outputs": [],
   "source": [
    "# Instanciamos el modelo que utilizaremos con los hiperparametro por default \n",
    "random_forest = RandomForestClassifier()"
   ]
  },
  {
   "cell_type": "code",
   "execution_count": 64,
   "id": "selective-september",
   "metadata": {
    "colab": {
     "base_uri": "https://localhost:8080/"
    },
    "id": "atmospheric-third",
    "outputId": "31624f5e-fc53-4ec5-d5bc-71171b7212af"
   },
   "outputs": [
    {
     "data": {
      "text/plain": [
       "RandomForestClassifier()"
      ]
     },
     "execution_count": 64,
     "metadata": {},
     "output_type": "execute_result"
    }
   ],
   "source": [
    "# Entrenamos el modelo\n",
    "\n",
    "random_forest.fit(X_train, y_train)"
   ]
  },
  {
   "cell_type": "code",
   "execution_count": 65,
   "id": "primary-adoption",
   "metadata": {
    "id": "impressive-object"
   },
   "outputs": [],
   "source": [
    "# Vemos el resultado de la predicción de nuestro modelos sobre los datos utilizados para el entrenamiento\n",
    "\n",
    "y_pred_train = random_forest.predict(X_train)"
   ]
  },
  {
   "cell_type": "code",
   "execution_count": 66,
   "id": "viral-heating",
   "metadata": {
    "colab": {
     "base_uri": "https://localhost:8080/"
    },
    "id": "saving-fruit",
    "outputId": "34c732d6-6040-436a-db77-1c8c3f70a42f"
   },
   "outputs": [
    {
     "data": {
      "text/plain": [
       "1.0"
      ]
     },
     "execution_count": 66,
     "metadata": {},
     "output_type": "execute_result"
    }
   ],
   "source": [
    "# Utilizamos la métrica accuracy (extactitud)\n",
    "\n",
    "from sklearn.metrics import accuracy_score\n",
    "\n",
    "exactitud_train_random_forest= accuracy_score(y_train, y_pred_train)\n",
    "exactitud_train_random_forest"
   ]
  },
  {
   "cell_type": "markdown",
   "id": "extensive-doctrine",
   "metadata": {
    "id": "sudden-camping"
   },
   "source": [
    "##### Probamos y evaluamos nuestro modelo\n",
    "\n",
    "Utilizamos el metodo predict para probar nuestro modelo con los datos de test. Luego comparamos la predicciones de nuestro modelo con el resultado real a través de una matriz de confusión y utilizando la métrica accuracy (exactitud)"
   ]
  },
  {
   "cell_type": "code",
   "execution_count": 67,
   "id": "numerical-wallpaper",
   "metadata": {
    "colab": {
     "base_uri": "https://localhost:8080/"
    },
    "id": "raised-disclosure",
    "outputId": "527abe77-f431-4c11-e350-bd670fd2f8b2"
   },
   "outputs": [
    {
     "data": {
      "text/plain": [
       "array([0, 1, 0, 0, 1, 1, 0, 0, 1, 0, 1, 1, 0, 0, 0, 0, 0, 0, 0, 1, 0, 1,\n",
       "       0, 0, 0, 1, 1, 1, 0, 0, 1, 0, 0, 0, 0, 0, 0, 0, 1, 1, 1, 0, 0, 1,\n",
       "       0, 0, 0, 1, 0, 0, 1, 1, 0, 0, 1, 0, 0, 1, 0, 1, 1, 0, 1, 0, 1, 1,\n",
       "       0, 0, 1, 1, 0, 1, 0, 0, 0, 1, 1, 0, 0, 0, 1, 0, 1, 1, 0, 0, 1, 1,\n",
       "       0, 0, 0, 1, 0, 0, 0, 1, 0, 1, 0, 0, 1, 1, 1, 0, 1, 0, 0, 0, 0, 0,\n",
       "       1, 0, 0, 0, 0, 1, 0, 0, 1, 0, 1, 1, 0, 0, 0, 1, 1, 0, 1, 0, 0, 1,\n",
       "       0, 0, 1, 0, 0, 1, 1, 0, 1, 1, 1, 0, 0, 0, 0, 0, 0, 1, 0, 1, 0, 0,\n",
       "       0, 0, 0, 0, 0, 1, 1, 0, 1, 0, 0, 1, 0, 0, 0, 1, 0, 1, 0, 0, 1, 0,\n",
       "       0, 0, 1, 0, 0, 0, 0, 1, 0, 1, 0, 0, 0, 0, 1, 1, 1, 0, 1, 0, 1, 0,\n",
       "       0, 0, 0, 0, 0, 1, 1, 0, 0, 0, 1, 0, 1, 0, 0, 1, 0, 0, 0, 0, 0, 1,\n",
       "       1, 1, 0], dtype=int64)"
      ]
     },
     "execution_count": 67,
     "metadata": {},
     "output_type": "execute_result"
    }
   ],
   "source": [
    "# Probamos nuestro modelo con los datos de test\n",
    "\n",
    "y_pred_random_forest = random_forest.predict(X_test)\n",
    "y_pred_random_forest"
   ]
  },
  {
   "cell_type": "code",
   "execution_count": 68,
   "id": "expected-fossil",
   "metadata": {
    "colab": {
     "base_uri": "https://localhost:8080/",
     "height": 296
    },
    "id": "diagnostic-kernel",
    "outputId": "97b6dd5e-3543-46d8-d567-196609813074"
   },
   "outputs": [
    {
     "data": {
      "text/plain": [
       "Text(33.0, 0.5, 'Etiquetas reales')"
      ]
     },
     "execution_count": 68,
     "metadata": {},
     "output_type": "execute_result"
    },
    {
     "data": {
      "image/png": "[encoded data removed]",
      "text/plain": [
       "<Figure size 432x288 with 2 Axes>"
      ]
     },
     "metadata": {
      "needs_background": "light"
     },
     "output_type": "display_data"
    }
   ],
   "source": [
    "# Comparamos y_test(datos reales) con y_pred_arbol (datos predichos) para ver si el modelo hizo las predicciones correctas\n",
    "\n",
    "from sklearn.metrics import confusion_matrix\n",
    "matriz_random_forest = confusion_matrix(y_test, y_pred_random_forest)\n",
    "sns.heatmap(matriz_random_forest, annot=True)\n",
    "plt.xlabel(\"Etiquetas predichas\")\n",
    "plt.ylabel(\"Etiquetas reales\")"
   ]
  },
  {
   "cell_type": "code",
   "execution_count": 69,
   "id": "foreign-component",
   "metadata": {
    "colab": {
     "base_uri": "https://localhost:8080/"
    },
    "id": "adapted-latin",
    "outputId": "1607843c-2ee9-4260-f910-6b921ee8dbcb"
   },
   "outputs": [
    {
     "data": {
      "text/plain": [
       "0.820627802690583"
      ]
     },
     "execution_count": 69,
     "metadata": {},
     "output_type": "execute_result"
    }
   ],
   "source": [
    "# Metrica accuracy\n",
    "\n",
    "from sklearn.metrics import accuracy_score\n",
    "\n",
    "exactitud_random_forest = accuracy_score(y_test, y_pred_random_forest)\n",
    "exactitud_random_forest"
   ]
  },
  {
   "cell_type": "markdown",
   "id": "rocky-xerox",
   "metadata": {
    "id": "wgwUW5ktt7Sa"
   },
   "source": [
    "#### Grid Search\n",
    "\n",
    "Es la estrategia para encontrar el mejor hiperparámetro dentro de una\n",
    "“grilla” (grid) especificada de forma manual. Se realiza una búsqueda\n",
    "para cada valor de la grilla y se elige el hiperparámetro que\n",
    "minimiza el error (generalmente calculada\n",
    "mediante cross-validation -como vimos en la PPT-)\n",
    "\n",
    "Al utilizar [Grid Search](\n",
    "https://scikit-learn.org/stable/modules/generated/sklearn.model_selection.GridSearchCV.html?highlight=gridsearch#sklearn.model_selection.GridSearchCV) es necesario definir:\n",
    "\n",
    "- Método de búsqueda (en este caso Gridsearch - podría ser Randomsearch)\n",
    "- Estimador: modelo\n",
    "- Hiperparámetros para hacer la búsqueda.\n",
    "- Métrica de evaluación\n"
   ]
  },
  {
   "cell_type": "markdown",
   "id": "utility-fishing",
   "metadata": {
    "id": "BZE6-IEQ2RCE"
   },
   "source": [
    "### Probaremos hiperparámetos de Random Forest\n",
    "\n",
    "Utilizaremos 1 hiperparametro para probar: \n",
    "\n",
    "- n_estimators: cantidad de arboles\n",
    "\n",
    "Para definir la grilla se debe genera un diccionario cuya **clave** va a ser el nombre de los hiperparámetros y el **valor** es una lista que se define de cada hiperparámetro.\n",
    "\n",
    "\n",
    "https://scikit-learn.org/stable/modules/generated/sklearn.neighbors.KNeighborsClassifier.html?highlight=kn#sklearn.neighbors.KNeighborsClassifier\n"
   ]
  },
  {
   "cell_type": "code",
   "execution_count": 70,
   "id": "polish-mention",
   "metadata": {
    "id": "YbRJpfocxvAr"
   },
   "outputs": [],
   "source": [
    "#Importamos GridSearch\n",
    "\n",
    "from sklearn.model_selection import GridSearchCV"
   ]
  },
  {
   "cell_type": "code",
   "execution_count": 71,
   "id": "representative-commissioner",
   "metadata": {
    "id": "zjG37LP04KBH"
   },
   "outputs": [],
   "source": [
    "# definimos el estimador/modelo que utilizaremos\n",
    "\n",
    "random_forest_grid_search = RandomForestClassifier()"
   ]
  },
  {
   "cell_type": "code",
   "execution_count": 72,
   "id": "regular-ancient",
   "metadata": {
    "id": "Msv54VY34KEq"
   },
   "outputs": [],
   "source": [
    "#Definimos la grilla de hiperparámetros para utilizar generando un diccionario:\n",
    "\n",
    "param_grid = {\"n_estimators\": [100, 200, 300, 400, 500, 600]}\n"
   ]
  },
  {
   "cell_type": "code",
   "execution_count": 73,
   "id": "sitting-issue",
   "metadata": {
    "id": "ibv2fW5l4KHr"
   },
   "outputs": [],
   "source": [
    "# Generamos el grid_search definiendo el modelo, los hiperparametros y la métrica que se utilizará para definir el mejor, en este caso \"Accuracy\".\n",
    "\n",
    "grid = GridSearchCV(estimator = random_forest_grid_search, param_grid = param_grid, scoring=\"accuracy\")"
   ]
  },
  {
   "cell_type": "code",
   "execution_count": 74,
   "id": "balanced-glory",
   "metadata": {
    "colab": {
     "base_uri": "https://localhost:8080/"
    },
    "id": "q4l5RRmp4KKJ",
    "outputId": "3c58f6eb-05c0-4fee-b495-8970417b1dbc"
   },
   "outputs": [
    {
     "data": {
      "text/plain": [
       "GridSearchCV(estimator=RandomForestClassifier(),\n",
       "             param_grid={'n_estimators': [100, 200, 300, 400, 500, 600]},\n",
       "             scoring='accuracy')"
      ]
     },
     "execution_count": 74,
     "metadata": {},
     "output_type": "execute_result"
    }
   ],
   "source": [
    "# Entrenamos el modelo de GridSearch con los datos de entrenamiento. Es importante tener en cuenta que puede tardar el entrenamiento\n",
    "\n",
    "grid.fit(X_train, y_train)"
   ]
  },
  {
   "cell_type": "code",
   "execution_count": 75,
   "id": "primary-alignment",
   "metadata": {
    "colab": {
     "base_uri": "https://localhost:8080/"
    },
    "id": "Cv_ReudIN6sQ",
    "outputId": "fd601089-3047-4ae0-8118-598ca48bbfd5"
   },
   "outputs": [
    {
     "name": "stdout",
     "output_type": "stream",
     "text": [
      "La performance del modelo con los datos de entrenamiento: 1.0\n",
      "La performance del modelo con los datos de testo: 0.82\n"
     ]
    }
   ],
   "source": [
    "#Probamos el modelo con los datos de train (VER QUE SE USA GRID)\n",
    " \n",
    "y_pred_train = grid.predict(X_train)\n",
    "print(\"La performance del modelo con los datos de entrenamiento:\", round(accuracy_score(y_train, y_pred_train),2))\n",
    "\n",
    "#Probamos el modleo con los datos de test\n",
    "\n",
    "y_pred = grid.predict(X_test)\n",
    "print(\"La performance del modelo con los datos de testo:\", round(accuracy_score(y_test, y_pred),2))\n"
   ]
  },
  {
   "cell_type": "markdown",
   "id": "prospective-stewart",
   "metadata": {
    "id": "hQPXJS5iOlfc"
   },
   "source": [
    "A través de los [atributos de GridSearch](https://scikit-learn.org/stable/modules/generated/sklearn.model_selection.GridSearchCV.html) podemos vemos cuales son las caracerísticas del modelo entrenado, por ejemplo:\n",
    "\n",
    "- best_params_: mejores hiperparámetros\n"
   ]
  },
  {
   "cell_type": "code",
   "execution_count": 76,
   "id": "random-transaction",
   "metadata": {
    "colab": {
     "base_uri": "https://localhost:8080/"
    },
    "id": "6IDYakhAO84X",
    "outputId": "a0b25b9f-8e99-4ed3-8812-e5af68996318"
   },
   "outputs": [
    {
     "data": {
      "text/plain": [
       "{'n_estimators': 200}"
      ]
     },
     "execution_count": 76,
     "metadata": {},
     "output_type": "execute_result"
    }
   ],
   "source": [
    "grid.best_params_"
   ]
  },
  {
   "cell_type": "markdown",
   "id": "trained-witch",
   "metadata": {
    "id": "79IAlHZR3_gx"
   },
   "source": [
    "### Ahora probaremos otros hiperparámetos\n",
    "\n",
    "Utilizaremos 3 hiperparametros para probar: \n",
    "\n",
    "- n_estimators: cantidad de arboles\n",
    "\n",
    "- max_depth: máxima profundidad del árbol\n",
    " \n",
    "- min_samples_split: mímimo de muestras para hacer una división\n",
    "\n",
    "Para definir la grilla se debe genera un diccionario cuya **clave** va a ser el nombre de los hiperparámetros y el **valor** es una lista que se define de cada hiperparámetro.\n"
   ]
  },
  {
   "cell_type": "code",
   "execution_count": 77,
   "id": "infrared-beauty",
   "metadata": {
    "id": "communist-schema"
   },
   "outputs": [],
   "source": [
    "# Instanciamos el estimador/modelo que utilizaremos\n",
    "random_forest_grid_search2 = RandomForestClassifier()"
   ]
  },
  {
   "cell_type": "code",
   "execution_count": 78,
   "id": "dress-wales",
   "metadata": {
    "id": "OH9HA6CC28JZ"
   },
   "outputs": [],
   "source": [
    "# Definimos los hiperparametros para hacer la búsqueda con un diccionario\n",
    "\n",
    "param_grid_rf = {\"n_estimators\": [100,200,300],\n",
    "                    \"max_depth\": [2,3,4,5,6],\n",
    "                    \"min_samples_split\": [2,3,4,5,6]}"
   ]
  },
  {
   "cell_type": "code",
   "execution_count": 79,
   "id": "political-bidding",
   "metadata": {
    "id": "H7LZubbXPMH7"
   },
   "outputs": [],
   "source": [
    "# Generamos el grid_search definiendo el modelo, los hiperparametros y la métrica que se utilizará para definir el mejor, en este caso \"Accuracy\".\n",
    "\n",
    "grid_rf = GridSearchCV(estimator = random_forest_grid_search2, param_grid = param_grid_rf, scoring=\"accuracy\")"
   ]
  },
  {
   "cell_type": "code",
   "execution_count": 80,
   "id": "unique-portrait",
   "metadata": {
    "colab": {
     "base_uri": "https://localhost:8080/"
    },
    "id": "advisory-column",
    "outputId": "5bc8b2c4-775e-4e38-e72c-b40ff8d40dba"
   },
   "outputs": [
    {
     "data": {
      "text/plain": [
       "GridSearchCV(estimator=RandomForestClassifier(),\n",
       "             param_grid={'max_depth': [2, 3, 4, 5, 6],\n",
       "                         'min_samples_split': [2, 3, 4, 5, 6],\n",
       "                         'n_estimators': [100, 200, 300]},\n",
       "             scoring='accuracy')"
      ]
     },
     "execution_count": 80,
     "metadata": {},
     "output_type": "execute_result"
    }
   ],
   "source": [
    "#Entrenamos el modelo. Es importante tener en cuenta que puede tardar el entrenamiento\n",
    "\n",
    "grid_rf.fit(X_train, y_train)"
   ]
  },
  {
   "cell_type": "code",
   "execution_count": 81,
   "id": "fresh-midwest",
   "metadata": {
    "colab": {
     "base_uri": "https://localhost:8080/"
    },
    "id": "Z4gAxXdRPcNG",
    "outputId": "de7d6f64-4522-4912-9724-a24938723c85"
   },
   "outputs": [
    {
     "name": "stdout",
     "output_type": "stream",
     "text": [
      "La performance del modelo con los datos de entrenamiento: 0.83\n",
      "La performance del modelo con los datos de testo: 0.83\n"
     ]
    }
   ],
   "source": [
    "#Probamos el modelo con los datos de train (VER QUE SE USA GRID)\n",
    " \n",
    "y_pred_train = grid_rf.predict(X_train)\n",
    "print(\"La performance del modelo con los datos de entrenamiento:\", round(accuracy_score(y_train, y_pred_train),2))\n",
    "\n",
    "#Probamos el modleo con los datos de test\n",
    "\n",
    "y_pred = grid_rf.predict(X_test)\n",
    "print(\"La performance del modelo con los datos de testo:\", round(accuracy_score(y_test, y_pred),2))\n"
   ]
  },
  {
   "cell_type": "code",
   "execution_count": 82,
   "id": "executive-resident",
   "metadata": {
    "colab": {
     "base_uri": "https://localhost:8080/"
    },
    "id": "WgRQaiMhPlYW",
    "outputId": "7d9496db-22e0-43c8-df26-777afa2f1bcb"
   },
   "outputs": [
    {
     "data": {
      "text/plain": [
       "{'max_depth': 4, 'min_samples_split': 3, 'n_estimators': 200}"
      ]
     },
     "execution_count": 82,
     "metadata": {},
     "output_type": "execute_result"
    }
   ],
   "source": [
    "grid_rf.best_params_"
   ]
  },
  {
   "cell_type": "code",
   "execution_count": 84,
   "id": "flush-heath",
   "metadata": {
    "colab": {
     "base_uri": "https://localhost:8080/"
    },
    "id": "OgOk3kaMP9aA",
    "outputId": "ac089d5d-ca0d-4236-dc61-dccea19f7bff"
   },
   "outputs": [
    {
     "data": {
      "text/plain": [
       "RandomForestClassifier(max_depth=4, min_samples_split=3, n_estimators=200)"
      ]
     },
     "execution_count": 84,
     "metadata": {},
     "output_type": "execute_result"
    }
   ],
   "source": [
    "modelo_random_forest_entrenado = grid_rf.best_estimator_\n",
    "modelo_random_forest_entrenado"
   ]
  },
  {
   "cell_type": "markdown",
   "id": "cheap-junction",
   "metadata": {},
   "source": [
    "### Conclusión\n",
    "\n",
    "Grid-Search es una herramienta que se puede utilizar para probar distintos hiperparámetros es un solo entrenamiento lo que puede resultar muy útil para mejorar el rendimiento de los modelos.\n",
    "\n",
    "Es importante tener en cuenta que la medición del mejor modelo se realiza analizando la performance de los datos de entrenamiento con cross-validation. Luego de seleccionado el mejor modelo es que nosotros/as probamos con los datos de test este modelo para ver su performance.\n",
    "\n",
    "Este proceso puede implicar que la Notebook tarde mucho tiempo en ejecutarse debido a la gran cantidad de modelos que se están probando (por el cross-validation y por la grilla). "
   ]
  }
 ],
 "metadata": {
  "colab": {
   "collapsed_sections": [],
   "name": "Clasificación con Grid Search.ipynb",
   "provenance": []
  },
  "kernelspec": {
   "display_name": "Python 3",
   "language": "python",
   "name": "python3"
  },
  "language_info": {
   "codemirror_mode": {
    "name": "ipython",
    "version": 3
   },
   "file_extension": ".py",
   "mimetype": "text/x-python",
   "name": "python",
   "nbconvert_exporter": "python",
   "pygments_lexer": "ipython3",
   "version": "3.7.10"
  }
 },
 "nbformat": 4,
 "nbformat_minor": 5
}
