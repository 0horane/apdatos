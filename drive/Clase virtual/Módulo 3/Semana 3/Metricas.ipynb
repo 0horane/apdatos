{
 "cells": [
  {
   "cell_type": "markdown",
   "metadata": {},
   "source": [
    "# Métricas\n",
    "\n",
    "En esta Notebook vamos a realizar modelos de aprendizaje automático supervisado de Clasificación para poder observar distintas métricas a utilizar.\n",
    "\n",
    "Realizaremos el análisis de la Métricas con dos Datasets:\n",
    "\n",
    "- Predicción de enfermedades de corazón. Se desesa predecir si una persona tendrá un ataque al corazón en base a distintas características.\n",
    "- Predicción de COVID-19. Se desea predecir si una persona tiene o no Covid en base a una cantidad de variables (entre ellas síntomas).\n",
    "\n",
    "En ambos casos se utilizaran modelos de KNN para poder repasar lo visto la clase pasada.\n",
    "\n",
    "[Documentación Scikit Learn](https://scikit-learn.org/stable/modules/model_evaluation.html)"
   ]
  },
  {
   "cell_type": "markdown",
   "metadata": {},
   "source": [
    "### Predicción Enfermedades cardíacas\n",
    "\n",
    "##### Problema y Búsqueda de datos\n",
    "\n",
    "En este caso vamos a realizar un modelo de aprendizaje automático supervisado de clasificación con datos sobre personas que tuvieron un ataque al corazón. En este dataset tenemos distintas características y de acuerdo a ellos se predice si una persona tendrá o no un ataque al corazón para poder observar las distintas métricas con las cuáles se puede evaluar un modelo.\n",
    "\n",
    "Este dataset fue extraído de [Kaggle](https://www.kaggle.com/datasets/alexteboul/heart-disease-health-indicators-dataset)\n"
   ]
  },
  {
   "cell_type": "code",
   "execution_count": 1,
   "metadata": {},
   "outputs": [],
   "source": [
    "#importamos las librerías que utilizaremos\n",
    "\n",
    "import pandas as pd\n",
    "import matplotlib.pyplot as plt\n",
    "import seaborn as sns"
   ]
  },
  {
   "cell_type": "code",
   "execution_count": 2,
   "metadata": {},
   "outputs": [],
   "source": [
    "data= pd.read_csv(\"enfermedades_cardiacas.csv\")"
   ]
  },
  {
   "cell_type": "markdown",
   "metadata": {},
   "source": [
    "##### Exploración y limpieza del Dataset"
   ]
  },
  {
   "cell_type": "code",
   "execution_count": 3,
   "metadata": {},
   "outputs": [
    {
     "data": {
      "text/html": [
       "<div>\n",
       "<style scoped>\n",
       "    .dataframe tbody tr th:only-of-type {\n",
       "        vertical-align: middle;\n",
       "    }\n",
       "\n",
       "    .dataframe tbody tr th {\n",
       "        vertical-align: top;\n",
       "    }\n",
       "\n",
       "    .dataframe thead th {\n",
       "        text-align: right;\n",
       "    }\n",
       "</style>\n",
       "<table border=\"1\" class=\"dataframe\">\n",
       "  <thead>\n",
       "    <tr style=\"text-align: right;\">\n",
       "      <th></th>\n",
       "      <th>HeartDiseaseorAttack</th>\n",
       "      <th>HighBP</th>\n",
       "      <th>HighChol</th>\n",
       "      <th>CholCheck</th>\n",
       "      <th>BMI</th>\n",
       "      <th>Smoker</th>\n",
       "      <th>Stroke</th>\n",
       "      <th>Diabetes</th>\n",
       "      <th>PhysActivity</th>\n",
       "      <th>Fruits</th>\n",
       "      <th>...</th>\n",
       "      <th>AnyHealthcare</th>\n",
       "      <th>NoDocbcCost</th>\n",
       "      <th>GenHlth</th>\n",
       "      <th>MentHlth</th>\n",
       "      <th>PhysHlth</th>\n",
       "      <th>DiffWalk</th>\n",
       "      <th>Sex</th>\n",
       "      <th>Age</th>\n",
       "      <th>Education</th>\n",
       "      <th>Income</th>\n",
       "    </tr>\n",
       "  </thead>\n",
       "  <tbody>\n",
       "    <tr>\n",
       "      <th>0</th>\n",
       "      <td>0.0</td>\n",
       "      <td>1.0</td>\n",
       "      <td>1.0</td>\n",
       "      <td>1.0</td>\n",
       "      <td>40.0</td>\n",
       "      <td>1.0</td>\n",
       "      <td>0.0</td>\n",
       "      <td>0.0</td>\n",
       "      <td>0.0</td>\n",
       "      <td>0.0</td>\n",
       "      <td>...</td>\n",
       "      <td>1.0</td>\n",
       "      <td>0.0</td>\n",
       "      <td>5.0</td>\n",
       "      <td>18.0</td>\n",
       "      <td>15.0</td>\n",
       "      <td>1.0</td>\n",
       "      <td>0.0</td>\n",
       "      <td>9.0</td>\n",
       "      <td>4.0</td>\n",
       "      <td>3.0</td>\n",
       "    </tr>\n",
       "    <tr>\n",
       "      <th>1</th>\n",
       "      <td>0.0</td>\n",
       "      <td>0.0</td>\n",
       "      <td>0.0</td>\n",
       "      <td>0.0</td>\n",
       "      <td>25.0</td>\n",
       "      <td>1.0</td>\n",
       "      <td>0.0</td>\n",
       "      <td>0.0</td>\n",
       "      <td>1.0</td>\n",
       "      <td>0.0</td>\n",
       "      <td>...</td>\n",
       "      <td>0.0</td>\n",
       "      <td>1.0</td>\n",
       "      <td>3.0</td>\n",
       "      <td>0.0</td>\n",
       "      <td>0.0</td>\n",
       "      <td>0.0</td>\n",
       "      <td>0.0</td>\n",
       "      <td>7.0</td>\n",
       "      <td>6.0</td>\n",
       "      <td>1.0</td>\n",
       "    </tr>\n",
       "    <tr>\n",
       "      <th>2</th>\n",
       "      <td>0.0</td>\n",
       "      <td>1.0</td>\n",
       "      <td>1.0</td>\n",
       "      <td>1.0</td>\n",
       "      <td>28.0</td>\n",
       "      <td>0.0</td>\n",
       "      <td>0.0</td>\n",
       "      <td>0.0</td>\n",
       "      <td>0.0</td>\n",
       "      <td>1.0</td>\n",
       "      <td>...</td>\n",
       "      <td>1.0</td>\n",
       "      <td>1.0</td>\n",
       "      <td>5.0</td>\n",
       "      <td>30.0</td>\n",
       "      <td>30.0</td>\n",
       "      <td>1.0</td>\n",
       "      <td>0.0</td>\n",
       "      <td>9.0</td>\n",
       "      <td>4.0</td>\n",
       "      <td>8.0</td>\n",
       "    </tr>\n",
       "  </tbody>\n",
       "</table>\n",
       "<p>3 rows × 22 columns</p>\n",
       "</div>"
      ],
      "text/plain": [
       "   HeartDiseaseorAttack  HighBP  HighChol  CholCheck   BMI  Smoker  Stroke  \\\n",
       "0                   0.0     1.0       1.0        1.0  40.0     1.0     0.0   \n",
       "1                   0.0     0.0       0.0        0.0  25.0     1.0     0.0   \n",
       "2                   0.0     1.0       1.0        1.0  28.0     0.0     0.0   \n",
       "\n",
       "   Diabetes  PhysActivity  Fruits  ...  AnyHealthcare  NoDocbcCost  GenHlth  \\\n",
       "0       0.0           0.0     0.0  ...            1.0          0.0      5.0   \n",
       "1       0.0           1.0     0.0  ...            0.0          1.0      3.0   \n",
       "2       0.0           0.0     1.0  ...            1.0          1.0      5.0   \n",
       "\n",
       "   MentHlth  PhysHlth  DiffWalk  Sex  Age  Education  Income  \n",
       "0      18.0      15.0       1.0  0.0  9.0        4.0     3.0  \n",
       "1       0.0       0.0       0.0  0.0  7.0        6.0     1.0  \n",
       "2      30.0      30.0       1.0  0.0  9.0        4.0     8.0  \n",
       "\n",
       "[3 rows x 22 columns]"
      ]
     },
     "execution_count": 3,
     "metadata": {},
     "output_type": "execute_result"
    }
   ],
   "source": [
    "data.head(3)"
   ]
  },
  {
   "cell_type": "code",
   "execution_count": 4,
   "metadata": {},
   "outputs": [
    {
     "data": {
      "text/plain": [
       "Index(['HeartDiseaseorAttack', 'HighBP', 'HighChol', 'CholCheck', 'BMI',\n",
       "       'Smoker', 'Stroke', 'Diabetes', 'PhysActivity', 'Fruits', 'Veggies',\n",
       "       'HvyAlcoholConsump', 'AnyHealthcare', 'NoDocbcCost', 'GenHlth',\n",
       "       'MentHlth', 'PhysHlth', 'DiffWalk', 'Sex', 'Age', 'Education',\n",
       "       'Income'],\n",
       "      dtype='object')"
      ]
     },
     "execution_count": 4,
     "metadata": {},
     "output_type": "execute_result"
    }
   ],
   "source": [
    "data.columns"
   ]
  },
  {
   "cell_type": "code",
   "execution_count": 5,
   "metadata": {},
   "outputs": [
    {
     "data": {
      "text/plain": [
       "HeartDiseaseorAttack    0\n",
       "HighBP                  0\n",
       "HighChol                0\n",
       "CholCheck               0\n",
       "BMI                     0\n",
       "Smoker                  0\n",
       "Stroke                  0\n",
       "Diabetes                0\n",
       "PhysActivity            0\n",
       "Fruits                  0\n",
       "Veggies                 0\n",
       "HvyAlcoholConsump       0\n",
       "AnyHealthcare           0\n",
       "NoDocbcCost             0\n",
       "GenHlth                 0\n",
       "MentHlth                0\n",
       "PhysHlth                0\n",
       "DiffWalk                0\n",
       "Sex                     0\n",
       "Age                     0\n",
       "Education               0\n",
       "Income                  0\n",
       "dtype: int64"
      ]
     },
     "execution_count": 5,
     "metadata": {},
     "output_type": "execute_result"
    }
   ],
   "source": [
    "# Vemos si tiene datos nulos\n",
    "\n",
    "data.isnull().sum()"
   ]
  },
  {
   "cell_type": "code",
   "execution_count": 6,
   "metadata": {},
   "outputs": [
    {
     "data": {
      "text/plain": [
       "HeartDiseaseorAttack    float64\n",
       "HighBP                  float64\n",
       "HighChol                float64\n",
       "CholCheck               float64\n",
       "BMI                     float64\n",
       "Smoker                  float64\n",
       "Stroke                  float64\n",
       "Diabetes                float64\n",
       "PhysActivity            float64\n",
       "Fruits                  float64\n",
       "Veggies                 float64\n",
       "HvyAlcoholConsump       float64\n",
       "AnyHealthcare           float64\n",
       "NoDocbcCost             float64\n",
       "GenHlth                 float64\n",
       "MentHlth                float64\n",
       "PhysHlth                float64\n",
       "DiffWalk                float64\n",
       "Sex                     float64\n",
       "Age                     float64\n",
       "Education               float64\n",
       "Income                  float64\n",
       "dtype: object"
      ]
     },
     "execution_count": 6,
     "metadata": {},
     "output_type": "execute_result"
    }
   ],
   "source": [
    "# Vemos el tipo de datos\n",
    "\n",
    "data.dtypes"
   ]
  },
  {
   "cell_type": "code",
   "execution_count": 7,
   "metadata": {},
   "outputs": [
    {
     "data": {
      "text/plain": [
       "0.0    229787\n",
       "1.0     23893\n",
       "Name: HeartDiseaseorAttack, dtype: int64"
      ]
     },
     "execution_count": 7,
     "metadata": {},
     "output_type": "execute_result"
    }
   ],
   "source": [
    "# Vemos la distribución de la variable target\n",
    "\n",
    "data[\"HeartDiseaseorAttack\"].value_counts()\n",
    "\n",
    "#Si bien es un número es una clasificación"
   ]
  },
  {
   "cell_type": "code",
   "execution_count": 8,
   "metadata": {},
   "outputs": [
    {
     "name": "stderr",
     "output_type": "stream",
     "text": [
      "/home/leneth/.local/lib/python3.10/site-packages/seaborn/_decorators.py:36: FutureWarning: Pass the following variable as a keyword arg: x. From version 0.12, the only valid positional argument will be `data`, and passing other arguments without an explicit keyword will result in an error or misinterpretation.\n",
      "  warnings.warn(\n"
     ]
    },
    {
     "data": {
      "text/plain": [
       "<AxesSubplot:xlabel='HeartDiseaseorAttack', ylabel='count'>"
      ]
     },
     "execution_count": 8,
     "metadata": {},
     "output_type": "execute_result"
    },
    {
     "data": {
      "image/png": "[encoded data removed]",
      "text/plain": [
       "<Figure size 432x288 with 1 Axes>"
      ]
     },
     "metadata": {
      "needs_background": "light"
     },
     "output_type": "display_data"
    }
   ],
   "source": [
    "sns.countplot(data[\"HeartDiseaseorAttack\"])"
   ]
  },
  {
   "cell_type": "markdown",
   "metadata": {},
   "source": [
    "#### Entrenamiento y evaluación del modelo\n",
    "\n",
    "A partir de la exploración realizada podemos concluir que el Dataset está limpio y podemos pasar al Entrenamiento del modelo.\n",
    "\n",
    "Realizaremos los siguientes pasos:\n",
    "\n",
    "- Dividir los datos en **X** (variables predictoras) e **y** (variable a predecir)\n",
    "- Dividir los datos en entrenamiento y testo con el méodo train_test_split\n",
    "- Importar e instanciar el modelo que utilizaremos y definir hiperparámetros\n",
    "- Entrenar el modelo con el método fit\n",
    "- Testear el modelo con el método predict\n",
    "- Ver la performance con distintas métricas\n"
   ]
  },
  {
   "cell_type": "code",
   "execution_count": 9,
   "metadata": {
    "id": "preliminary-comparative"
   },
   "outputs": [],
   "source": [
    "# Generamos X e y \n",
    "X = data.drop(columns = \"HeartDiseaseorAttack\")   #variables predictora\n",
    "y = data[\"HeartDiseaseorAttack\"]   #variable a predecir"
   ]
  },
  {
   "cell_type": "code",
   "execution_count": 10,
   "metadata": {
    "id": "finished-scale"
   },
   "outputs": [],
   "source": [
    "# Dividimos datos en train y test\n",
    "\n",
    "from sklearn.model_selection import train_test_split\n",
    "\n",
    "X_train, X_test, y_train, y_test = train_test_split(X, y, random_state=50)  #por default 25% de test\n"
   ]
  },
  {
   "cell_type": "code",
   "execution_count": 11,
   "metadata": {
    "colab": {
     "base_uri": "https://localhost:8080/"
    },
    "id": "involved-bahamas",
    "outputId": "8ed93140-4a68-4f85-d464-4707d9af1531"
   },
   "outputs": [
    {
     "name": "stdout",
     "output_type": "stream",
     "text": [
      "El tamaño de X_train es:  (190260, 21)\n",
      "El tamaño de X_test es:  (63420, 21)\n",
      "El tamaño de y_train es:  (190260,)\n",
      "El tamaño de y_test es:  (63420,)\n"
     ]
    }
   ],
   "source": [
    "print(\"El tamaño de X_train es: \", X_train.shape)\n",
    "print(\"El tamaño de X_test es: \",X_test.shape)\n",
    "print(\"El tamaño de y_train es: \",y_train.shape)\n",
    "print(\"El tamaño de y_test es: \",y_test.shape)"
   ]
  },
  {
   "cell_type": "markdown",
   "metadata": {},
   "source": [
    "##### Entrenamiento del modelo\n",
    "\n",
    "Importamos el modelo que utilizaremos: [KNN](https://scikit-learn.org/stable/modules/generated/sklearn.neighbors.KNeighborsClassifier.html)"
   ]
  },
  {
   "cell_type": "code",
   "execution_count": 12,
   "metadata": {},
   "outputs": [],
   "source": [
    "from sklearn.neighbors import KNeighborsClassifier"
   ]
  },
  {
   "cell_type": "code",
   "execution_count": 13,
   "metadata": {
    "id": "japanese-gossip"
   },
   "outputs": [],
   "source": [
    "#Instanciamos el modelo que utilizaremos: KNN. En este caso el hiperparámetro por default es n_neeighbors=5\n",
    "\n",
    "knn = KNeighborsClassifier()"
   ]
  },
  {
   "cell_type": "code",
   "execution_count": 14,
   "metadata": {
    "colab": {
     "base_uri": "https://localhost:8080/"
    },
    "id": "satisfactory-capability",
    "outputId": "220644a0-f766-4f2b-bd02-959df46ebb9d"
   },
   "outputs": [
    {
     "data": {
      "text/html": [
       "<style>#sk-container-id-1 {color: black;background-color: white;}#sk-container-id-1 pre{padding: 0;}#sk-container-id-1 div.sk-toggleable {background-color: white;}#sk-container-id-1 label.sk-toggleable__label {cursor: pointer;display: block;width: 100%;margin-bottom: 0;padding: 0.3em;box-sizing: border-box;text-align: center;}#sk-container-id-1 label.sk-toggleable__label-arrow:before {content: \"▸\";float: left;margin-right: 0.25em;color: #696969;}#sk-container-id-1 label.sk-toggleable__label-arrow:hover:before {color: black;}#sk-container-id-1 div.sk-estimator:hover label.sk-toggleable__label-arrow:before {color: black;}#sk-container-id-1 div.sk-toggleable__content {max-height: 0;max-width: 0;overflow: hidden;text-align: left;background-color: #f0f8ff;}#sk-container-id-1 div.sk-toggleable__content pre {margin: 0.2em;color: black;border-radius: 0.25em;background-color: #f0f8ff;}#sk-container-id-1 input.sk-toggleable__control:checked~div.sk-toggleable__content {max-height: 200px;max-width: 100%;overflow: auto;}#sk-container-id-1 input.sk-toggleable__control:checked~label.sk-toggleable__label-arrow:before {content: \"▾\";}#sk-container-id-1 div.sk-estimator input.sk-toggleable__control:checked~label.sk-toggleable__label {background-color: #d4ebff;}#sk-container-id-1 div.sk-label input.sk-toggleable__control:checked~label.sk-toggleable__label {background-color: #d4ebff;}#sk-container-id-1 input.sk-hidden--visually {border: 0;clip: rect(1px 1px 1px 1px);clip: rect(1px, 1px, 1px, 1px);height: 1px;margin: -1px;overflow: hidden;padding: 0;position: absolute;width: 1px;}#sk-container-id-1 div.sk-estimator {font-family: monospace;background-color: #f0f8ff;border: 1px dotted black;border-radius: 0.25em;box-sizing: border-box;margin-bottom: 0.5em;}#sk-container-id-1 div.sk-estimator:hover {background-color: #d4ebff;}#sk-container-id-1 div.sk-parallel-item::after {content: \"\";width: 100%;border-bottom: 1px solid gray;flex-grow: 1;}#sk-container-id-1 div.sk-label:hover label.sk-toggleable__label {background-color: #d4ebff;}#sk-container-id-1 div.sk-serial::before {content: \"\";position: absolute;border-left: 1px solid gray;box-sizing: border-box;top: 0;bottom: 0;left: 50%;z-index: 0;}#sk-container-id-1 div.sk-serial {display: flex;flex-direction: column;align-items: center;background-color: white;padding-right: 0.2em;padding-left: 0.2em;position: relative;}#sk-container-id-1 div.sk-item {position: relative;z-index: 1;}#sk-container-id-1 div.sk-parallel {display: flex;align-items: stretch;justify-content: center;background-color: white;position: relative;}#sk-container-id-1 div.sk-item::before, #sk-container-id-1 div.sk-parallel-item::before {content: \"\";position: absolute;border-left: 1px solid gray;box-sizing: border-box;top: 0;bottom: 0;left: 50%;z-index: -1;}#sk-container-id-1 div.sk-parallel-item {display: flex;flex-direction: column;z-index: 1;position: relative;background-color: white;}#sk-container-id-1 div.sk-parallel-item:first-child::after {align-self: flex-end;width: 50%;}#sk-container-id-1 div.sk-parallel-item:last-child::after {align-self: flex-start;width: 50%;}#sk-container-id-1 div.sk-parallel-item:only-child::after {width: 0;}#sk-container-id-1 div.sk-dashed-wrapped {border: 1px dashed gray;margin: 0 0.4em 0.5em 0.4em;box-sizing: border-box;padding-bottom: 0.4em;background-color: white;}#sk-container-id-1 div.sk-label label {font-family: monospace;font-weight: bold;display: inline-block;line-height: 1.2em;}#sk-container-id-1 div.sk-label-container {text-align: center;}#sk-container-id-1 div.sk-container {/* jupyter's `normalize.less` sets `[hidden] { display: none; }` but bootstrap.min.css set `[hidden] { display: none !important; }` so we also need the `!important` here to be able to override the default hidden behavior on the sphinx rendered scikit-learn.org. See: https://github.com/scikit-learn/scikit-learn/issues/21755 */display: inline-block !important;position: relative;}#sk-container-id-1 div.sk-text-repr-fallback {display: none;}</style><div id=\"sk-container-id-1\" class=\"sk-top-container\"><div class=\"sk-text-repr-fallback\"><pre>KNeighborsClassifier()</pre><b>In a Jupyter environment, please rerun this cell to show the HTML representation or trust the notebook. <br />On GitHub, the HTML representation is unable to render, please try loading this page with nbviewer.org.</b></div><div class=\"sk-container\" hidden><div class=\"sk-item\"><div class=\"sk-estimator sk-toggleable\"><input class=\"sk-toggleable__control sk-hidden--visually\" id=\"sk-estimator-id-1\" type=\"checkbox\" checked><label for=\"sk-estimator-id-1\" class=\"sk-toggleable__label sk-toggleable__label-arrow\">KNeighborsClassifier</label><div class=\"sk-toggleable__content\"><pre>KNeighborsClassifier()</pre></div></div></div></div></div>"
      ],
      "text/plain": [
       "KNeighborsClassifier()"
      ]
     },
     "execution_count": 14,
     "metadata": {},
     "output_type": "execute_result"
    }
   ],
   "source": [
    "# Entrenamos el modelo \n",
    "\n",
    "knn.fit(X_train, y_train)"
   ]
  },
  {
   "cell_type": "markdown",
   "metadata": {},
   "source": [
    "#### Probamos y evaluamos nuestro modelo\n",
    "\n",
    "Utilizamos el metodo predict para probar nuestro modelo con los datos de test. Luego comparamos la predicciones de nuestro modelo con el resultado real a través de una matriz de confusión y utilizando distintas métricas"
   ]
  },
  {
   "cell_type": "code",
   "execution_count": 15,
   "metadata": {
    "id": "agreed-library"
   },
   "outputs": [
    {
     "data": {
      "text/plain": [
       "array([0., 0., 0., ..., 0., 0., 0.])"
      ]
     },
     "execution_count": 15,
     "metadata": {},
     "output_type": "execute_result"
    }
   ],
   "source": [
    "# Probamos nuestro modelo con los datos de test\n",
    "\n",
    "y_pred = knn.predict(X_test)\n",
    "y_pred"
   ]
  },
  {
   "cell_type": "markdown",
   "metadata": {},
   "source": [
    "##### Matriz de Confusión\n",
    "\n",
    "Primero comparamos los resultados en una Matriz de confusión\n",
    "\n",
    "https://scikit-learn.org/stable/modules/generated/sklearn.metrics.confusion_matrix.html"
   ]
  },
  {
   "cell_type": "code",
   "execution_count": 16,
   "metadata": {
    "id": "informal-intersection"
   },
   "outputs": [
    {
     "data": {
      "text/plain": [
       "array([[56143,  1267],\n",
       "       [ 5340,   670]])"
      ]
     },
     "execution_count": 16,
     "metadata": {},
     "output_type": "execute_result"
    }
   ],
   "source": [
    "# Matriz de confusión:comparando resultado original (y_test) con predicción del modelo (y_pred_knn5)\n",
    "from sklearn.metrics import confusion_matrix\n",
    "\n",
    "\n",
    "matriz = confusion_matrix(y_test, y_pred)\n",
    "\n",
    "matriz"
   ]
  },
  {
   "cell_type": "markdown",
   "metadata": {
    "id": "historical-import"
   },
   "source": [
    "![Matriz de confusión - Python.png](data:image/png;base64,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)"
   ]
  },
  {
   "cell_type": "code",
   "execution_count": 17,
   "metadata": {
    "id": "addressed-relative"
   },
   "outputs": [
    {
     "data": {
      "text/plain": [
       "Text(33.0, 0.5, 'Etiquetas reales')"
      ]
     },
     "execution_count": 17,
     "metadata": {},
     "output_type": "execute_result"
    },
    {
     "data": {
      "image/png": "[encoded data removed]",
      "text/plain": [
       "<Figure size 432x288 with 2 Axes>"
      ]
     },
     "metadata": {
      "needs_background": "light"
     },
     "output_type": "display_data"
    }
   ],
   "source": [
    "sns.heatmap(matriz, annot=True, fmt=\"d\")\n",
    "plt.xlabel(\"Etiquetas predichas\")\n",
    "plt.ylabel(\"Etiquetas reales\")"
   ]
  },
  {
   "cell_type": "markdown",
   "metadata": {
    "id": "careful-shaft"
   },
   "source": [
    "##### Métrica Accuracy (exactitud)\n",
    "\n",
    "[Accuracy](https://scikit-learn.org/stable/modules/generated/sklearn.metrics.accuracy_score.html): La cantidad bien predicha sobre la cantidad total\n",
    "\n"
   ]
  },
  {
   "cell_type": "code",
   "execution_count": 18,
   "metadata": {},
   "outputs": [],
   "source": [
    "# Hacer a mano la cuenta"
   ]
  },
  {
   "cell_type": "code",
   "execution_count": 18,
   "metadata": {
    "id": "rotary-hardware"
   },
   "outputs": [
    {
     "data": {
      "text/plain": [
       "0.8958215074109114"
      ]
     },
     "execution_count": 18,
     "metadata": {},
     "output_type": "execute_result"
    }
   ],
   "source": [
    "from sklearn.metrics import accuracy_score\n",
    "\n",
    "exactitud = accuracy_score(y_test, y_pred)\n",
    "exactitud"
   ]
  },
  {
   "cell_type": "markdown",
   "metadata": {
    "id": "careful-shaft"
   },
   "source": [
    "##### Métrica Precision\n",
    "\n",
    "[Precision](https://scikit-learn.org/stable/modules/generated/sklearn.metrics.precision_score.html#sklearn.metrics.precision_score): La cantidad de positivos predichos sobre la cantidad de valores predichos positivos\n",
    "\n"
   ]
  },
  {
   "cell_type": "code",
   "execution_count": 20,
   "metadata": {},
   "outputs": [],
   "source": [
    "# Hacer a mano la cuenta"
   ]
  },
  {
   "cell_type": "code",
   "execution_count": 19,
   "metadata": {
    "id": "rotary-hardware"
   },
   "outputs": [
    {
     "data": {
      "text/plain": [
       "0.3458957150232318"
      ]
     },
     "execution_count": 19,
     "metadata": {},
     "output_type": "execute_result"
    }
   ],
   "source": [
    "from sklearn.metrics import precision_score\n",
    "\n",
    "precision = precision_score(y_test, y_pred)\n",
    "precision"
   ]
  },
  {
   "cell_type": "markdown",
   "metadata": {
    "id": "careful-shaft"
   },
   "source": [
    "##### Métrica Recall (exaustividad)\n",
    "\n",
    "[Recall](https://scikit-learn.org/stable/modules/generated/sklearn.metrics.recall_score.html#sklearn.metrics.recall_score): La cantidad positivos predichos como positivos sobre la totalidad realmente positivos\n",
    "\n"
   ]
  },
  {
   "cell_type": "code",
   "execution_count": 22,
   "metadata": {},
   "outputs": [],
   "source": [
    "# Hacer a mano la cuenta\n"
   ]
  },
  {
   "cell_type": "code",
   "execution_count": 20,
   "metadata": {
    "id": "rotary-hardware"
   },
   "outputs": [
    {
     "data": {
      "text/plain": [
       "0.11148086522462562"
      ]
     },
     "execution_count": 20,
     "metadata": {},
     "output_type": "execute_result"
    }
   ],
   "source": [
    "from sklearn.metrics import recall_score\n",
    "\n",
    "recall = recall_score(y_test, y_pred)\n",
    "recall"
   ]
  },
  {
   "cell_type": "code",
   "execution_count": 21,
   "metadata": {},
   "outputs": [
    {
     "name": "stdout",
     "output_type": "stream",
     "text": [
      "La exactitud del modelo es 0.9\n",
      "La precisión del modelo es 0.35\n",
      "La exaustividad del modelo es 0.11\n"
     ]
    }
   ],
   "source": [
    "print(\"La exactitud del modelo es\", round(exactitud,2))\n",
    "print(\"La precisión del modelo es\", round(precision,2))\n",
    "print(\"La exaustividad del modelo es\", round(recall,2))"
   ]
  },
  {
   "cell_type": "markdown",
   "metadata": {},
   "source": [
    "##### Conclusión\n",
    "\n",
    "Se puede observar que la métrica de *exactitud* es muy buena en este modelo pero dado que las clases están desbalanceadas y que en este caso es importante que toda persona que vaya a tener una enfermedad cardíaca sea identificada, posiblemente no sea la métrica correcta.\n",
    "\n",
    "En el caso que se identifiquen casos de más, no sería un problema porque solo implica que personas tendran un seguimiento médico innecesario. Por lo cual tal vez la métrica correcta sería *Exaustividad*, asegurarse que todos los positivos sean identificados como positivos. En ese sentido el modelo es bastante malo ya que es 0.11.\n",
    "\n"
   ]
  },
  {
   "cell_type": "markdown",
   "metadata": {},
   "source": [
    "### Extra - Predicción COVID-19\n",
    "\n",
    "En este caso vamos a realizar un modelo de aprendizaje automático supervisado de clasificación con datos sobre COVID-19. \n",
    "\n",
    "En este dataset tenemos distintos síntomas y de acuerdo a ellos se predice si una persona tiene o no COVID-19 para poder observar las distintas métricas con las cuáles se puede evaluar un modelo.\n",
    "\n",
    "Este dataset fue extraído de [Kaggle](https://www.kaggle.com/datasets/hemanthhari/symptoms-and-covid-presence)"
   ]
  },
  {
   "cell_type": "code",
   "execution_count": 22,
   "metadata": {},
   "outputs": [],
   "source": [
    "data= pd.read_csv(\"Covid Dataset.csv\")"
   ]
  },
  {
   "cell_type": "markdown",
   "metadata": {},
   "source": [
    "##### Exploración y limpieza del Dataset"
   ]
  },
  {
   "cell_type": "code",
   "execution_count": 23,
   "metadata": {},
   "outputs": [
    {
     "data": {
      "text/html": [
       "<div>\n",
       "<style scoped>\n",
       "    .dataframe tbody tr th:only-of-type {\n",
       "        vertical-align: middle;\n",
       "    }\n",
       "\n",
       "    .dataframe tbody tr th {\n",
       "        vertical-align: top;\n",
       "    }\n",
       "\n",
       "    .dataframe thead th {\n",
       "        text-align: right;\n",
       "    }\n",
       "</style>\n",
       "<table border=\"1\" class=\"dataframe\">\n",
       "  <thead>\n",
       "    <tr style=\"text-align: right;\">\n",
       "      <th></th>\n",
       "      <th>Breathing Problem</th>\n",
       "      <th>Fever</th>\n",
       "      <th>Dry Cough</th>\n",
       "      <th>Sore throat</th>\n",
       "      <th>Running Nose</th>\n",
       "      <th>Asthma</th>\n",
       "      <th>Chronic Lung Disease</th>\n",
       "      <th>Headache</th>\n",
       "      <th>Heart Disease</th>\n",
       "      <th>Diabetes</th>\n",
       "      <th>...</th>\n",
       "      <th>Fatigue</th>\n",
       "      <th>Gastrointestinal</th>\n",
       "      <th>Abroad travel</th>\n",
       "      <th>Contact with COVID Patient</th>\n",
       "      <th>Attended Large Gathering</th>\n",
       "      <th>Visited Public Exposed Places</th>\n",
       "      <th>Family working in Public Exposed Places</th>\n",
       "      <th>Wearing Masks</th>\n",
       "      <th>Sanitization from Market</th>\n",
       "      <th>COVID-19</th>\n",
       "    </tr>\n",
       "  </thead>\n",
       "  <tbody>\n",
       "    <tr>\n",
       "      <th>0</th>\n",
       "      <td>Yes</td>\n",
       "      <td>Yes</td>\n",
       "      <td>Yes</td>\n",
       "      <td>Yes</td>\n",
       "      <td>Yes</td>\n",
       "      <td>No</td>\n",
       "      <td>No</td>\n",
       "      <td>No</td>\n",
       "      <td>No</td>\n",
       "      <td>Yes</td>\n",
       "      <td>...</td>\n",
       "      <td>Yes</td>\n",
       "      <td>Yes</td>\n",
       "      <td>No</td>\n",
       "      <td>Yes</td>\n",
       "      <td>No</td>\n",
       "      <td>Yes</td>\n",
       "      <td>Yes</td>\n",
       "      <td>No</td>\n",
       "      <td>No</td>\n",
       "      <td>Yes</td>\n",
       "    </tr>\n",
       "    <tr>\n",
       "      <th>1</th>\n",
       "      <td>Yes</td>\n",
       "      <td>Yes</td>\n",
       "      <td>Yes</td>\n",
       "      <td>Yes</td>\n",
       "      <td>No</td>\n",
       "      <td>Yes</td>\n",
       "      <td>Yes</td>\n",
       "      <td>Yes</td>\n",
       "      <td>No</td>\n",
       "      <td>No</td>\n",
       "      <td>...</td>\n",
       "      <td>Yes</td>\n",
       "      <td>No</td>\n",
       "      <td>No</td>\n",
       "      <td>No</td>\n",
       "      <td>Yes</td>\n",
       "      <td>Yes</td>\n",
       "      <td>No</td>\n",
       "      <td>No</td>\n",
       "      <td>No</td>\n",
       "      <td>Yes</td>\n",
       "    </tr>\n",
       "    <tr>\n",
       "      <th>2</th>\n",
       "      <td>Yes</td>\n",
       "      <td>Yes</td>\n",
       "      <td>Yes</td>\n",
       "      <td>Yes</td>\n",
       "      <td>Yes</td>\n",
       "      <td>Yes</td>\n",
       "      <td>Yes</td>\n",
       "      <td>Yes</td>\n",
       "      <td>No</td>\n",
       "      <td>Yes</td>\n",
       "      <td>...</td>\n",
       "      <td>Yes</td>\n",
       "      <td>Yes</td>\n",
       "      <td>Yes</td>\n",
       "      <td>No</td>\n",
       "      <td>No</td>\n",
       "      <td>No</td>\n",
       "      <td>No</td>\n",
       "      <td>No</td>\n",
       "      <td>No</td>\n",
       "      <td>Yes</td>\n",
       "    </tr>\n",
       "  </tbody>\n",
       "</table>\n",
       "<p>3 rows × 21 columns</p>\n",
       "</div>"
      ],
      "text/plain": [
       "  Breathing Problem Fever Dry Cough Sore throat Running Nose Asthma  \\\n",
       "0               Yes   Yes       Yes         Yes          Yes     No   \n",
       "1               Yes   Yes       Yes         Yes           No    Yes   \n",
       "2               Yes   Yes       Yes         Yes          Yes    Yes   \n",
       "\n",
       "  Chronic Lung Disease Headache Heart Disease Diabetes  ... Fatigue   \\\n",
       "0                   No       No            No      Yes  ...      Yes   \n",
       "1                  Yes      Yes            No       No  ...      Yes   \n",
       "2                  Yes      Yes            No      Yes  ...      Yes   \n",
       "\n",
       "  Gastrointestinal  Abroad travel Contact with COVID Patient  \\\n",
       "0               Yes            No                        Yes   \n",
       "1                No            No                         No   \n",
       "2               Yes           Yes                         No   \n",
       "\n",
       "  Attended Large Gathering Visited Public Exposed Places  \\\n",
       "0                       No                           Yes   \n",
       "1                      Yes                           Yes   \n",
       "2                       No                            No   \n",
       "\n",
       "  Family working in Public Exposed Places Wearing Masks  \\\n",
       "0                                     Yes            No   \n",
       "1                                      No            No   \n",
       "2                                      No            No   \n",
       "\n",
       "  Sanitization from Market COVID-19  \n",
       "0                       No      Yes  \n",
       "1                       No      Yes  \n",
       "2                       No      Yes  \n",
       "\n",
       "[3 rows x 21 columns]"
      ]
     },
     "execution_count": 23,
     "metadata": {},
     "output_type": "execute_result"
    }
   ],
   "source": [
    "data.head(3)"
   ]
  },
  {
   "cell_type": "code",
   "execution_count": 24,
   "metadata": {},
   "outputs": [
    {
     "data": {
      "text/plain": [
       "Index(['Breathing Problem', 'Fever', 'Dry Cough', 'Sore throat',\n",
       "       'Running Nose', 'Asthma', 'Chronic Lung Disease', 'Headache',\n",
       "       'Heart Disease', 'Diabetes', 'Hyper Tension', 'Fatigue ',\n",
       "       'Gastrointestinal ', 'Abroad travel', 'Contact with COVID Patient',\n",
       "       'Attended Large Gathering', 'Visited Public Exposed Places',\n",
       "       'Family working in Public Exposed Places', 'Wearing Masks',\n",
       "       'Sanitization from Market', 'COVID-19'],\n",
       "      dtype='object')"
      ]
     },
     "execution_count": 24,
     "metadata": {},
     "output_type": "execute_result"
    }
   ],
   "source": [
    "data.columns"
   ]
  },
  {
   "cell_type": "code",
   "execution_count": 25,
   "metadata": {},
   "outputs": [
    {
     "data": {
      "text/plain": [
       "Breathing Problem                          0\n",
       "Fever                                      0\n",
       "Dry Cough                                  0\n",
       "Sore throat                                0\n",
       "Running Nose                               0\n",
       "Asthma                                     0\n",
       "Chronic Lung Disease                       0\n",
       "Headache                                   0\n",
       "Heart Disease                              0\n",
       "Diabetes                                   0\n",
       "Hyper Tension                              0\n",
       "Fatigue                                    0\n",
       "Gastrointestinal                           0\n",
       "Abroad travel                              0\n",
       "Contact with COVID Patient                 0\n",
       "Attended Large Gathering                   0\n",
       "Visited Public Exposed Places              0\n",
       "Family working in Public Exposed Places    0\n",
       "Wearing Masks                              0\n",
       "Sanitization from Market                   0\n",
       "COVID-19                                   0\n",
       "dtype: int64"
      ]
     },
     "execution_count": 25,
     "metadata": {},
     "output_type": "execute_result"
    }
   ],
   "source": [
    "# Vemos si tiene datos nulos\n",
    "\n",
    "data.isnull().sum()"
   ]
  },
  {
   "cell_type": "code",
   "execution_count": 26,
   "metadata": {},
   "outputs": [
    {
     "data": {
      "text/plain": [
       "Breathing Problem                          object\n",
       "Fever                                      object\n",
       "Dry Cough                                  object\n",
       "Sore throat                                object\n",
       "Running Nose                               object\n",
       "Asthma                                     object\n",
       "Chronic Lung Disease                       object\n",
       "Headache                                   object\n",
       "Heart Disease                              object\n",
       "Diabetes                                   object\n",
       "Hyper Tension                              object\n",
       "Fatigue                                    object\n",
       "Gastrointestinal                           object\n",
       "Abroad travel                              object\n",
       "Contact with COVID Patient                 object\n",
       "Attended Large Gathering                   object\n",
       "Visited Public Exposed Places              object\n",
       "Family working in Public Exposed Places    object\n",
       "Wearing Masks                              object\n",
       "Sanitization from Market                   object\n",
       "COVID-19                                   object\n",
       "dtype: object"
      ]
     },
     "execution_count": 26,
     "metadata": {},
     "output_type": "execute_result"
    }
   ],
   "source": [
    "# Vemos el tipo de datos\n",
    "\n",
    "data.dtypes"
   ]
  },
  {
   "cell_type": "code",
   "execution_count": 27,
   "metadata": {},
   "outputs": [
    {
     "data": {
      "text/plain": [
       "Index(['Breathing Problem', 'Fever', 'Dry Cough', 'Sore throat',\n",
       "       'Running Nose', 'Asthma', 'Chronic Lung Disease', 'Headache',\n",
       "       'Heart Disease', 'Diabetes', 'Hyper Tension', 'Fatigue ',\n",
       "       'Gastrointestinal ', 'Abroad travel', 'Contact with COVID Patient',\n",
       "       'Attended Large Gathering', 'Visited Public Exposed Places',\n",
       "       'Family working in Public Exposed Places', 'Wearing Masks',\n",
       "       'Sanitization from Market', 'COVID-19'],\n",
       "      dtype='object')"
      ]
     },
     "execution_count": 27,
     "metadata": {},
     "output_type": "execute_result"
    }
   ],
   "source": [
    "data.columns"
   ]
  },
  {
   "cell_type": "markdown",
   "metadata": {},
   "source": [
    "##### Variables categóricas\n",
    "\n",
    "Observamos que las columnas tienen como datos \"Yes\" y \"No\", vamos a reemplazarlos por variables dummies.\n",
    "- Utilizaremos una interación sobre todas las columnas\n",
    "- Dentro utilizaremos una función apply y lambda que dentro tiene un condicional\n",
    "- El condicional indica que si el valor en el registro es \"Yes\" sea reemplazado por \"1\" y sino por \"0\"\n",
    "\n",
    "Si bien estamos modificando la variable COVID-19 sigue siendo una Clasificación ya que sigue siendo una clase, es decir, por más que sea un número sigue siendo una variable categórica ya que indica presencia o ausencia del virus, no indica un valor numérico\n"
   ]
  },
  {
   "cell_type": "code",
   "execution_count": 28,
   "metadata": {},
   "outputs": [],
   "source": [
    "for i in data.columns:\n",
    "    data[i] = data[i].apply(lambda x: 1 if x==\"Yes\" else 0)"
   ]
  },
  {
   "cell_type": "code",
   "execution_count": 29,
   "metadata": {},
   "outputs": [
    {
     "data": {
      "text/plain": [
       "Breathing Problem                          int64\n",
       "Fever                                      int64\n",
       "Dry Cough                                  int64\n",
       "Sore throat                                int64\n",
       "Running Nose                               int64\n",
       "Asthma                                     int64\n",
       "Chronic Lung Disease                       int64\n",
       "Headache                                   int64\n",
       "Heart Disease                              int64\n",
       "Diabetes                                   int64\n",
       "Hyper Tension                              int64\n",
       "Fatigue                                    int64\n",
       "Gastrointestinal                           int64\n",
       "Abroad travel                              int64\n",
       "Contact with COVID Patient                 int64\n",
       "Attended Large Gathering                   int64\n",
       "Visited Public Exposed Places              int64\n",
       "Family working in Public Exposed Places    int64\n",
       "Wearing Masks                              int64\n",
       "Sanitization from Market                   int64\n",
       "COVID-19                                   int64\n",
       "dtype: object"
      ]
     },
     "execution_count": 29,
     "metadata": {},
     "output_type": "execute_result"
    }
   ],
   "source": [
    "data.dtypes"
   ]
  },
  {
   "cell_type": "code",
   "execution_count": 30,
   "metadata": {},
   "outputs": [
    {
     "data": {
      "text/html": [
       "<div>\n",
       "<style scoped>\n",
       "    .dataframe tbody tr th:only-of-type {\n",
       "        vertical-align: middle;\n",
       "    }\n",
       "\n",
       "    .dataframe tbody tr th {\n",
       "        vertical-align: top;\n",
       "    }\n",
       "\n",
       "    .dataframe thead th {\n",
       "        text-align: right;\n",
       "    }\n",
       "</style>\n",
       "<table border=\"1\" class=\"dataframe\">\n",
       "  <thead>\n",
       "    <tr style=\"text-align: right;\">\n",
       "      <th></th>\n",
       "      <th>Breathing Problem</th>\n",
       "      <th>Fever</th>\n",
       "      <th>Dry Cough</th>\n",
       "      <th>Sore throat</th>\n",
       "      <th>Running Nose</th>\n",
       "      <th>Asthma</th>\n",
       "      <th>Chronic Lung Disease</th>\n",
       "      <th>Headache</th>\n",
       "      <th>Heart Disease</th>\n",
       "      <th>Diabetes</th>\n",
       "      <th>...</th>\n",
       "      <th>Fatigue</th>\n",
       "      <th>Gastrointestinal</th>\n",
       "      <th>Abroad travel</th>\n",
       "      <th>Contact with COVID Patient</th>\n",
       "      <th>Attended Large Gathering</th>\n",
       "      <th>Visited Public Exposed Places</th>\n",
       "      <th>Family working in Public Exposed Places</th>\n",
       "      <th>Wearing Masks</th>\n",
       "      <th>Sanitization from Market</th>\n",
       "      <th>COVID-19</th>\n",
       "    </tr>\n",
       "  </thead>\n",
       "  <tbody>\n",
       "    <tr>\n",
       "      <th>0</th>\n",
       "      <td>1</td>\n",
       "      <td>1</td>\n",
       "      <td>1</td>\n",
       "      <td>1</td>\n",
       "      <td>1</td>\n",
       "      <td>0</td>\n",
       "      <td>0</td>\n",
       "      <td>0</td>\n",
       "      <td>0</td>\n",
       "      <td>1</td>\n",
       "      <td>...</td>\n",
       "      <td>1</td>\n",
       "      <td>1</td>\n",
       "      <td>0</td>\n",
       "      <td>1</td>\n",
       "      <td>0</td>\n",
       "      <td>1</td>\n",
       "      <td>1</td>\n",
       "      <td>0</td>\n",
       "      <td>0</td>\n",
       "      <td>1</td>\n",
       "    </tr>\n",
       "    <tr>\n",
       "      <th>1</th>\n",
       "      <td>1</td>\n",
       "      <td>1</td>\n",
       "      <td>1</td>\n",
       "      <td>1</td>\n",
       "      <td>0</td>\n",
       "      <td>1</td>\n",
       "      <td>1</td>\n",
       "      <td>1</td>\n",
       "      <td>0</td>\n",
       "      <td>0</td>\n",
       "      <td>...</td>\n",
       "      <td>1</td>\n",
       "      <td>0</td>\n",
       "      <td>0</td>\n",
       "      <td>0</td>\n",
       "      <td>1</td>\n",
       "      <td>1</td>\n",
       "      <td>0</td>\n",
       "      <td>0</td>\n",
       "      <td>0</td>\n",
       "      <td>1</td>\n",
       "    </tr>\n",
       "    <tr>\n",
       "      <th>2</th>\n",
       "      <td>1</td>\n",
       "      <td>1</td>\n",
       "      <td>1</td>\n",
       "      <td>1</td>\n",
       "      <td>1</td>\n",
       "      <td>1</td>\n",
       "      <td>1</td>\n",
       "      <td>1</td>\n",
       "      <td>0</td>\n",
       "      <td>1</td>\n",
       "      <td>...</td>\n",
       "      <td>1</td>\n",
       "      <td>1</td>\n",
       "      <td>1</td>\n",
       "      <td>0</td>\n",
       "      <td>0</td>\n",
       "      <td>0</td>\n",
       "      <td>0</td>\n",
       "      <td>0</td>\n",
       "      <td>0</td>\n",
       "      <td>1</td>\n",
       "    </tr>\n",
       "  </tbody>\n",
       "</table>\n",
       "<p>3 rows × 21 columns</p>\n",
       "</div>"
      ],
      "text/plain": [
       "   Breathing Problem  Fever  Dry Cough  Sore throat  Running Nose  Asthma  \\\n",
       "0                  1      1          1            1             1       0   \n",
       "1                  1      1          1            1             0       1   \n",
       "2                  1      1          1            1             1       1   \n",
       "\n",
       "   Chronic Lung Disease  Headache  Heart Disease  Diabetes  ...  Fatigue   \\\n",
       "0                     0         0              0         1  ...         1   \n",
       "1                     1         1              0         0  ...         1   \n",
       "2                     1         1              0         1  ...         1   \n",
       "\n",
       "   Gastrointestinal   Abroad travel  Contact with COVID Patient  \\\n",
       "0                  1              0                           1   \n",
       "1                  0              0                           0   \n",
       "2                  1              1                           0   \n",
       "\n",
       "   Attended Large Gathering  Visited Public Exposed Places  \\\n",
       "0                         0                              1   \n",
       "1                         1                              1   \n",
       "2                         0                              0   \n",
       "\n",
       "   Family working in Public Exposed Places  Wearing Masks  \\\n",
       "0                                        1              0   \n",
       "1                                        0              0   \n",
       "2                                        0              0   \n",
       "\n",
       "   Sanitization from Market  COVID-19  \n",
       "0                         0         1  \n",
       "1                         0         1  \n",
       "2                         0         1  \n",
       "\n",
       "[3 rows x 21 columns]"
      ]
     },
     "execution_count": 30,
     "metadata": {},
     "output_type": "execute_result"
    }
   ],
   "source": [
    "data.head(3)"
   ]
  },
  {
   "cell_type": "code",
   "execution_count": 31,
   "metadata": {},
   "outputs": [
    {
     "data": {
      "text/plain": [
       "1    4383\n",
       "0    1051\n",
       "Name: COVID-19, dtype: int64"
      ]
     },
     "execution_count": 31,
     "metadata": {},
     "output_type": "execute_result"
    }
   ],
   "source": [
    "#Distribución de la variable target\n",
    "\n",
    "data[\"COVID-19\"].value_counts()\n",
    "\n",
    "#Si bien es un número es una clasificación"
   ]
  },
  {
   "cell_type": "code",
   "execution_count": 33,
   "metadata": {},
   "outputs": [
    {
     "data": {
      "text/plain": [
       "<AxesSubplot:xlabel='COVID-19', ylabel='count'>"
      ]
     },
     "execution_count": 33,
     "metadata": {},
     "output_type": "execute_result"
    },
    {
     "data": {
      "image/png": "[encoded data removed]",
      "text/plain": [
       "<Figure size 432x288 with 1 Axes>"
      ]
     },
     "metadata": {
      "needs_background": "light"
     },
     "output_type": "display_data"
    }
   ],
   "source": [
    "sns.countplot(x=data[\"COVID-19\"])"
   ]
  },
  {
   "cell_type": "markdown",
   "metadata": {},
   "source": [
    "#### Entrenamiento y evaluación del modelo\n",
    "\n",
    "A partir de la exploración realizada podemos concluir que el Dataset está limpio y podemos pasar al Entrenamiento del modelo.\n",
    "\n",
    "Realizaremos los siguientes pasos:\n",
    "\n",
    "- Dividir los datos en **X** (variables predictoras) e **y** (variable a predecir)\n",
    "- Dividir los datos en entrenamiento y testo con el méodo train_test_split\n",
    "- Importar e instanciar el modelo que utilizaremos y definir hiperparámetros\n",
    "- Entrenar el modelo con el método fit\n",
    "- Testear el modelo con el método predict\n",
    "- Ver la performance con distintas métricas\n"
   ]
  },
  {
   "cell_type": "code",
   "execution_count": 34,
   "metadata": {
    "id": "preliminary-comparative"
   },
   "outputs": [],
   "source": [
    "# Generamos X e y \n",
    "X = data.drop(columns = \"COVID-19\")   #variables predictora\n",
    "y = data[\"COVID-19\"]   #variable a predecir"
   ]
  },
  {
   "cell_type": "code",
   "execution_count": 35,
   "metadata": {
    "id": "finished-scale"
   },
   "outputs": [],
   "source": [
    "# Dividimos datos en train y test\n",
    "\n",
    "X_train, X_test, y_train, y_test = train_test_split(X, y, random_state=50)  #por default 25% de test"
   ]
  },
  {
   "cell_type": "code",
   "execution_count": 36,
   "metadata": {
    "colab": {
     "base_uri": "https://localhost:8080/"
    },
    "id": "involved-bahamas",
    "outputId": "8ed93140-4a68-4f85-d464-4707d9af1531"
   },
   "outputs": [
    {
     "name": "stdout",
     "output_type": "stream",
     "text": [
      "El tamaño de X_train es:  (4075, 20)\n",
      "El tamaño de X_test es:  (1359, 20)\n",
      "El tamaño de y_train es:  (4075,)\n",
      "El tamaño de y_test es:  (1359,)\n"
     ]
    }
   ],
   "source": [
    "print(\"El tamaño de X_train es: \", X_train.shape)\n",
    "print(\"El tamaño de X_test es: \",X_test.shape)\n",
    "print(\"El tamaño de y_train es: \",y_train.shape)\n",
    "print(\"El tamaño de y_test es: \",y_test.shape)"
   ]
  },
  {
   "cell_type": "markdown",
   "metadata": {},
   "source": [
    "##### Entrenamiento del modelo\n",
    "\n",
    "Importamos el modelo que utilizaremos: [KNN](https://scikit-learn.org/stable/modules/generated/sklearn.neighbors.KNeighborsClassifier.html)"
   ]
  },
  {
   "cell_type": "code",
   "execution_count": 37,
   "metadata": {
    "id": "japanese-gossip"
   },
   "outputs": [],
   "source": [
    "# Instanciamos el modelo que utilizaremos: KNN, el hiperparámetro n_neighbors=5\n",
    "\n",
    "knn = KNeighborsClassifier()"
   ]
  },
  {
   "cell_type": "code",
   "execution_count": 38,
   "metadata": {
    "colab": {
     "base_uri": "https://localhost:8080/"
    },
    "id": "satisfactory-capability",
    "outputId": "220644a0-f766-4f2b-bd02-959df46ebb9d"
   },
   "outputs": [
    {
     "data": {
      "text/html": [
       "<style>#sk-container-id-2 {color: black;background-color: white;}#sk-container-id-2 pre{padding: 0;}#sk-container-id-2 div.sk-toggleable {background-color: white;}#sk-container-id-2 label.sk-toggleable__label {cursor: pointer;display: block;width: 100%;margin-bottom: 0;padding: 0.3em;box-sizing: border-box;text-align: center;}#sk-container-id-2 label.sk-toggleable__label-arrow:before {content: \"▸\";float: left;margin-right: 0.25em;color: #696969;}#sk-container-id-2 label.sk-toggleable__label-arrow:hover:before {color: black;}#sk-container-id-2 div.sk-estimator:hover label.sk-toggleable__label-arrow:before {color: black;}#sk-container-id-2 div.sk-toggleable__content {max-height: 0;max-width: 0;overflow: hidden;text-align: left;background-color: #f0f8ff;}#sk-container-id-2 div.sk-toggleable__content pre {margin: 0.2em;color: black;border-radius: 0.25em;background-color: #f0f8ff;}#sk-container-id-2 input.sk-toggleable__control:checked~div.sk-toggleable__content {max-height: 200px;max-width: 100%;overflow: auto;}#sk-container-id-2 input.sk-toggleable__control:checked~label.sk-toggleable__label-arrow:before {content: \"▾\";}#sk-container-id-2 div.sk-estimator input.sk-toggleable__control:checked~label.sk-toggleable__label {background-color: #d4ebff;}#sk-container-id-2 div.sk-label input.sk-toggleable__control:checked~label.sk-toggleable__label {background-color: #d4ebff;}#sk-container-id-2 input.sk-hidden--visually {border: 0;clip: rect(1px 1px 1px 1px);clip: rect(1px, 1px, 1px, 1px);height: 1px;margin: -1px;overflow: hidden;padding: 0;position: absolute;width: 1px;}#sk-container-id-2 div.sk-estimator {font-family: monospace;background-color: #f0f8ff;border: 1px dotted black;border-radius: 0.25em;box-sizing: border-box;margin-bottom: 0.5em;}#sk-container-id-2 div.sk-estimator:hover {background-color: #d4ebff;}#sk-container-id-2 div.sk-parallel-item::after {content: \"\";width: 100%;border-bottom: 1px solid gray;flex-grow: 1;}#sk-container-id-2 div.sk-label:hover label.sk-toggleable__label {background-color: #d4ebff;}#sk-container-id-2 div.sk-serial::before {content: \"\";position: absolute;border-left: 1px solid gray;box-sizing: border-box;top: 0;bottom: 0;left: 50%;z-index: 0;}#sk-container-id-2 div.sk-serial {display: flex;flex-direction: column;align-items: center;background-color: white;padding-right: 0.2em;padding-left: 0.2em;position: relative;}#sk-container-id-2 div.sk-item {position: relative;z-index: 1;}#sk-container-id-2 div.sk-parallel {display: flex;align-items: stretch;justify-content: center;background-color: white;position: relative;}#sk-container-id-2 div.sk-item::before, #sk-container-id-2 div.sk-parallel-item::before {content: \"\";position: absolute;border-left: 1px solid gray;box-sizing: border-box;top: 0;bottom: 0;left: 50%;z-index: -1;}#sk-container-id-2 div.sk-parallel-item {display: flex;flex-direction: column;z-index: 1;position: relative;background-color: white;}#sk-container-id-2 div.sk-parallel-item:first-child::after {align-self: flex-end;width: 50%;}#sk-container-id-2 div.sk-parallel-item:last-child::after {align-self: flex-start;width: 50%;}#sk-container-id-2 div.sk-parallel-item:only-child::after {width: 0;}#sk-container-id-2 div.sk-dashed-wrapped {border: 1px dashed gray;margin: 0 0.4em 0.5em 0.4em;box-sizing: border-box;padding-bottom: 0.4em;background-color: white;}#sk-container-id-2 div.sk-label label {font-family: monospace;font-weight: bold;display: inline-block;line-height: 1.2em;}#sk-container-id-2 div.sk-label-container {text-align: center;}#sk-container-id-2 div.sk-container {/* jupyter's `normalize.less` sets `[hidden] { display: none; }` but bootstrap.min.css set `[hidden] { display: none !important; }` so we also need the `!important` here to be able to override the default hidden behavior on the sphinx rendered scikit-learn.org. See: https://github.com/scikit-learn/scikit-learn/issues/21755 */display: inline-block !important;position: relative;}#sk-container-id-2 div.sk-text-repr-fallback {display: none;}</style><div id=\"sk-container-id-2\" class=\"sk-top-container\"><div class=\"sk-text-repr-fallback\"><pre>KNeighborsClassifier()</pre><b>In a Jupyter environment, please rerun this cell to show the HTML representation or trust the notebook. <br />On GitHub, the HTML representation is unable to render, please try loading this page with nbviewer.org.</b></div><div class=\"sk-container\" hidden><div class=\"sk-item\"><div class=\"sk-estimator sk-toggleable\"><input class=\"sk-toggleable__control sk-hidden--visually\" id=\"sk-estimator-id-2\" type=\"checkbox\" checked><label for=\"sk-estimator-id-2\" class=\"sk-toggleable__label sk-toggleable__label-arrow\">KNeighborsClassifier</label><div class=\"sk-toggleable__content\"><pre>KNeighborsClassifier()</pre></div></div></div></div></div>"
      ],
      "text/plain": [
       "KNeighborsClassifier()"
      ]
     },
     "execution_count": 38,
     "metadata": {},
     "output_type": "execute_result"
    }
   ],
   "source": [
    "#Entrenamos el modelo \n",
    "\n",
    "knn.fit(X_train, y_train)"
   ]
  },
  {
   "cell_type": "markdown",
   "metadata": {},
   "source": [
    "##### Probamos y evaluamos nuestro modelo\n",
    "\n",
    "Utilizamos el metodo predict para probar nuestro modelo con los datos de test. Luego comparamos la predicciones de nuestro modelo con el resultado real a través de una matriz de confusión y utilizando distintas métricas"
   ]
  },
  {
   "cell_type": "code",
   "execution_count": 39,
   "metadata": {
    "id": "agreed-library"
   },
   "outputs": [
    {
     "data": {
      "text/plain": [
       "array([1, 1, 1, ..., 1, 1, 1])"
      ]
     },
     "execution_count": 39,
     "metadata": {},
     "output_type": "execute_result"
    }
   ],
   "source": [
    "# Probamos nuestro modelo con los datos de test\n",
    "\n",
    "y_pred = knn.predict(X_test)\n",
    "y_pred"
   ]
  },
  {
   "cell_type": "markdown",
   "metadata": {},
   "source": [
    "##### Matriz de Confusión\n",
    "\n",
    "Primero comparamos los resultados en una Matriz de confusión\n",
    "\n",
    "https://scikit-learn.org/stable/modules/generated/sklearn.metrics.confusion_matrix.html"
   ]
  },
  {
   "cell_type": "code",
   "execution_count": 40,
   "metadata": {
    "id": "informal-intersection"
   },
   "outputs": [
    {
     "data": {
      "text/plain": [
       "array([[ 246,   18],\n",
       "       [  19, 1076]])"
      ]
     },
     "execution_count": 40,
     "metadata": {},
     "output_type": "execute_result"
    }
   ],
   "source": [
    "# Matriz de confusión:comparando resultado original (y_test) con predicción del modelo (y_pred_knn5)\n",
    "matriz = confusion_matrix(y_test, y_pred)\n",
    "matriz"
   ]
  },
  {
   "cell_type": "markdown",
   "metadata": {
    "id": "historical-import"
   },
   "source": [
    "![Matriz de confusión - Python.png](data:image/png;base64,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)"
   ]
  },
  {
   "cell_type": "code",
   "execution_count": 41,
   "metadata": {
    "id": "addressed-relative"
   },
   "outputs": [
    {
     "data": {
      "text/plain": [
       "Text(33.0, 0.5, 'Etiquetas reales')"
      ]
     },
     "execution_count": 41,
     "metadata": {},
     "output_type": "execute_result"
    },
    {
     "data": {
      "image/png": "[encoded data removed]",
      "text/plain": [
       "<Figure size 432x288 with 2 Axes>"
      ]
     },
     "metadata": {
      "needs_background": "light"
     },
     "output_type": "display_data"
    }
   ],
   "source": [
    "sns.heatmap(matriz, annot=True, fmt=\"d\")\n",
    "plt.xlabel(\"Etiquetas predichas\")\n",
    "plt.ylabel(\"Etiquetas reales\")"
   ]
  },
  {
   "cell_type": "markdown",
   "metadata": {
    "id": "careful-shaft"
   },
   "source": [
    "##### Métrica Accuracy (exactitud)\n",
    "\n",
    "[Accuracy](https://scikit-learn.org/stable/modules/generated/sklearn.metrics.accuracy_score.html): La cantidad bien predicha sobre la cantidad total\n",
    "\n"
   ]
  },
  {
   "cell_type": "code",
   "execution_count": 44,
   "metadata": {},
   "outputs": [],
   "source": [
    "# Hacer a mano la cuenta"
   ]
  },
  {
   "cell_type": "code",
   "execution_count": 42,
   "metadata": {
    "id": "rotary-hardware"
   },
   "outputs": [
    {
     "data": {
      "text/plain": [
       "0.9727740986019132"
      ]
     },
     "execution_count": 42,
     "metadata": {},
     "output_type": "execute_result"
    }
   ],
   "source": [
    "exactitud = accuracy_score(y_test, y_pred)\n",
    "exactitud"
   ]
  },
  {
   "cell_type": "markdown",
   "metadata": {
    "id": "careful-shaft"
   },
   "source": [
    "##### Métrica Precision\n",
    "\n",
    "[Precision](https://scikit-learn.org/stable/modules/generated/sklearn.metrics.precision_score.html#sklearn.metrics.precision_score): La cantidad de positivos predichos sobre la cantidad de valores predichos positivos\n",
    "\n"
   ]
  },
  {
   "cell_type": "code",
   "execution_count": 43,
   "metadata": {},
   "outputs": [
    {
     "data": {
      "text/plain": [
       "3164    1\n",
       "2812    1\n",
       "939     1\n",
       "956     1\n",
       "4039    1\n",
       "       ..\n",
       "3016    1\n",
       "1502    1\n",
       "2282    1\n",
       "1705    1\n",
       "3651    1\n",
       "Name: COVID-19, Length: 1359, dtype: int64"
      ]
     },
     "execution_count": 43,
     "metadata": {},
     "output_type": "execute_result"
    }
   ],
   "source": [
    "# Hacer a mano la cuenta\n",
    "y_test"
   ]
  },
  {
   "cell_type": "code",
   "execution_count": 44,
   "metadata": {
    "id": "rotary-hardware"
   },
   "outputs": [
    {
     "data": {
      "text/plain": [
       "0.9835466179159049"
      ]
     },
     "execution_count": 44,
     "metadata": {},
     "output_type": "execute_result"
    }
   ],
   "source": [
    "precision = precision_score(y_test, y_pred)\n",
    "precision"
   ]
  },
  {
   "cell_type": "markdown",
   "metadata": {
    "id": "careful-shaft"
   },
   "source": [
    "##### Métrica Recall (exaustividad)\n",
    "\n",
    "[Recall](https://scikit-learn.org/stable/modules/generated/sklearn.metrics.recall_score.html#sklearn.metrics.recall_score): La cantidad positivos predichos como positivos sobre la totalidad realmente positivos\n",
    "\n"
   ]
  },
  {
   "cell_type": "code",
   "execution_count": 48,
   "metadata": {},
   "outputs": [],
   "source": [
    "# Hacer a mano la cuenta"
   ]
  },
  {
   "cell_type": "code",
   "execution_count": 45,
   "metadata": {
    "id": "rotary-hardware"
   },
   "outputs": [
    {
     "data": {
      "text/plain": [
       "0.982648401826484"
      ]
     },
     "execution_count": 45,
     "metadata": {},
     "output_type": "execute_result"
    }
   ],
   "source": [
    "recall = recall_score(y_test, y_pred)\n",
    "recall"
   ]
  },
  {
   "cell_type": "code",
   "execution_count": 50,
   "metadata": {},
   "outputs": [
    {
     "name": "stdout",
     "output_type": "stream",
     "text": [
      "La exactitud del modelo es 0.97\n",
      "La precisión del modelo es 0.99\n",
      "La exaustividad del modelo es 0.98\n"
     ]
    }
   ],
   "source": [
    "print(\"La exactitud del modelo es\", round(exactitud,2))\n",
    "print(\"La precisión del modelo es\", round(precision,2))\n",
    "print(\"La exaustividad del modelo es\", round(recall,2))"
   ]
  },
  {
   "cell_type": "markdown",
   "metadata": {},
   "source": [
    "##### Conclusión\n",
    "\n",
    "Se puede observar que en este caso las 3 métricas muestran resultados similares y muy buenos en todos los casos.\n",
    "\n",
    "En este problema lo más importante es que todos los casos positivos sean identificados como tales, aunque haya casos que se identifiquen como positivo y no lo eran. \n"
   ]
  }
 ],
 "metadata": {
  "colab": {
   "name": "KNN.ipynb",
   "provenance": []
  },
  "kernelspec": {
   "display_name": "Python 3 (ipykernel)",
   "language": "python",
   "name": "python3"
  },
  "language_info": {
   "codemirror_mode": {
    "name": "ipython",
    "version": 3
   },
   "file_extension": ".py",
   "mimetype": "text/x-python",
   "name": "python",
   "nbconvert_exporter": "python",
   "pygments_lexer": "ipython3",
   "version": "3.10.6"
  }
 },
 "nbformat": 4,
 "nbformat_minor": 4
}
