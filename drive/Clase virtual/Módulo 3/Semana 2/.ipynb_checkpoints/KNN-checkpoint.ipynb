{
 "cells": [
  {
   "cell_type": "markdown",
   "metadata": {},
   "source": [
    "# Clasificación\n",
    "\n",
    "Hoy realizaremos un Modelo de Aprendizaje Automático Supervisado de **Clasificación**. A diferencia de los vistos hasta ahora de **Regresión**, en los modelos de Clasificación la *variable a predecir* es **categórica**, es decir que buscamos predecir una clase. \n",
    "\n",
    "A lo largo de este Módulo veremos diferentes ejemplos de Clasifiaciones, en la clase de hoy utilizaremos un dataset de Flores *Iris* para predecir la *especie* de acuerdo a las características de sus pétalos y sepalos.\n",
    "\n",
    "## KNN\n",
    "\n",
    "KNN es un es un algoritmo de aprendizaje supervisado que que se basa en el concepto del refrán, “dime con quien andas y te diré quien eres”. \n",
    "Para hacer una predicción busca los valores de los datos similiares y en base a eso determina la predicción. \n",
    "KNN necesita que le indiquemos el valor del hiperparámetro K, es decir la cantidad de \"vecinos\" que tiene que revisar para realizar la predicción. Una vez que se recibe un dato, toma los k vecinos cercanos y realiza la Predicción:\n",
    "\n",
    "KNN puede ser utilizado para un modelo de **Regresión** o de **Clasificación**: \n",
    "* En caso de ser un problema de clasificación, se escoge la categoría más popular entre los K vecinos seleccionados (*KNeighborsClassifier*). \n",
    "* En caso de ser un problema de regresión, se promedian los valores de la variable objetivo de los vecinos seleccionados.(*KNeighborsRegressor*)"
   ]
  },
  {
   "cell_type": "markdown",
   "metadata": {},
   "source": [
    "#### Problema y Búsqueda de datos\n",
    "\n",
    "El dateset que utilizaremso es de las flores *Iris* donde tenemos las características de las flores: \n",
    "- Largo del sépalo (*SepalLengthCm*)\n",
    "- Ancho del sépalo (*SepalWidthCm*)\n",
    "- Largo del pétalo (*PetalLengthCm*)\n",
    "- Ancho del pétalo (*PetalWidthCm*)\n",
    "\n",
    "En base a esas características es posible predecir la **Especie (Species)** de flor *Iris*. El dataset fue extraído de [Kaggle](https://www.kaggle.com/uciml/iris)"
   ]
  },
  {
   "cell_type": "code",
   "execution_count": null,
   "metadata": {},
   "outputs": [],
   "source": [
    "import matplotlib.pyplot as plt\n",
    "import seaborn as sns\n",
    "import pandas as pd"
   ]
  },
  {
   "cell_type": "code",
   "execution_count": null,
   "metadata": {},
   "outputs": [],
   "source": [
    "data = pd.read_csv(\"Iris.csv\")"
   ]
  },
  {
   "cell_type": "markdown",
   "metadata": {},
   "source": [
    "#### Exploración del dataset"
   ]
  },
  {
   "cell_type": "code",
   "execution_count": null,
   "metadata": {},
   "outputs": [],
   "source": [
    "# Vemos los primero 3 registros\n",
    "\n",
    "data.head(3)"
   ]
  },
  {
   "cell_type": "code",
   "execution_count": null,
   "metadata": {},
   "outputs": [],
   "source": [
    "# Vemos si tiene datos nulos\n",
    "\n",
    "data.isnull().sum()"
   ]
  },
  {
   "cell_type": "code",
   "execution_count": null,
   "metadata": {},
   "outputs": [],
   "source": [
    "# Vemos el tipo de datos\n",
    "\n",
    "data.dtypes"
   ]
  },
  {
   "cell_type": "code",
   "execution_count": null,
   "metadata": {},
   "outputs": [],
   "source": [
    "# Vemos la correlación de las variables numércias\n",
    "\n",
    "data.corr()"
   ]
  },
  {
   "cell_type": "markdown",
   "metadata": {},
   "source": [
    "##### Variable target: Species\n",
    "\n",
    "Vamos a ver la distribución de la variable a predecir que es *Species*, está variable es categórica por lo que utilizaremos *value_counts* para ver su distribución y realizaremos un gráfico de *countplot*\n"
   ]
  },
  {
   "cell_type": "code",
   "execution_count": null,
   "metadata": {},
   "outputs": [],
   "source": [
    "# Distribución de la variable target\n",
    "\n",
    "data[\"Species\"].value_counts()"
   ]
  },
  {
   "cell_type": "code",
   "execution_count": null,
   "metadata": {},
   "outputs": [],
   "source": [
    "sns.countplot(data[\"Species\"])"
   ]
  },
  {
   "cell_type": "markdown",
   "metadata": {},
   "source": [
    "##### Visualización variables\n",
    "\n",
    "Utilizaremos un tipo de Gráfico de *pairplot* que permite el entrecruzamiento de todas las variables entre sí (puede tardar un poco en ejecutarse)\n"
   ]
  },
  {
   "cell_type": "code",
   "execution_count": null,
   "metadata": {},
   "outputs": [],
   "source": [
    "sns.pairplot(data, hue=\"Species\")"
   ]
  },
  {
   "cell_type": "markdown",
   "metadata": {},
   "source": [
    "#### Generación de modelo\n",
    "\n",
    "Para poder realizar una visualización de lo que estamos realizando al entrenar y testear el modelo, en primer lugar lo realizaremos uitilizando solamente 2 variables de las 4 con las que contamos.\n",
    "\n",
    "En este caso seleccionaremos el largo y ancho del pétalo y vamos a entrenar un modelo de [KNN](https://scikit-learn.org/stable/modules/generated/sklearn.neighbors.KNeighborsClassifier.html#sklearn.neighbors.KNeighborsClassifier).\n"
   ]
  },
  {
   "cell_type": "code",
   "execution_count": null,
   "metadata": {},
   "outputs": [],
   "source": [
    "# Generamos el DataFrame que utilizaremos unicamente con 2 variables más la variable a predecir\n",
    "\n",
    "data_2variables = data[[\"PetalWidthCm\", \"PetalLengthCm\", \"Species\"]]\n",
    "data_2variables.head(3)"
   ]
  },
  {
   "cell_type": "code",
   "execution_count": null,
   "metadata": {},
   "outputs": [],
   "source": [
    "# Visualizamos los datos\n",
    "\n",
    "plt.figure(figsize = (7,7))\n",
    "sns.scatterplot(data = data_2variables, x = \"PetalWidthCm\", y = \"PetalLengthCm\",  hue=data_2variables[\"Species\"].to_list(), s=100)"
   ]
  },
  {
   "cell_type": "code",
   "execution_count": null,
   "metadata": {
    "id": "preliminary-comparative"
   },
   "outputs": [],
   "source": [
    "# Generamos X e y\n",
    "\n",
    "X = data_2variables.drop(columns = \"Species\")   #variables predictora\n",
    "y = data_2variables[\"Species\"]   #variable a predecir"
   ]
  },
  {
   "cell_type": "code",
   "execution_count": null,
   "metadata": {
    "id": "finished-scale"
   },
   "outputs": [],
   "source": [
    "# Dividimos datos en train y test\n",
    "\n",
    "from sklearn.model_selection import train_test_split\n",
    "\n",
    "X_train, X_test, y_train, y_test = train_test_split(X, y, random_state=158)  #por default 25% de test\n"
   ]
  },
  {
   "cell_type": "code",
   "execution_count": null,
   "metadata": {
    "colab": {
     "base_uri": "https://localhost:8080/"
    },
    "id": "involved-bahamas",
    "outputId": "8ed93140-4a68-4f85-d464-4707d9af1531"
   },
   "outputs": [],
   "source": [
    "print(\"El tamaño de X_train es: \", X_train.shape)\n",
    "print(\"El tamaño de X_test es: \",X_test.shape)\n",
    "print(\"El tamaño de y_train es: \",y_train.shape)\n",
    "print(\"El tamaño de y_test es: \",y_test.shape)"
   ]
  },
  {
   "cell_type": "code",
   "execution_count": null,
   "metadata": {
    "id": "retained-contamination"
   },
   "outputs": [],
   "source": [
    "# Importamos el modelo que utilizaremos. KNN: \n",
    "\n",
    "from sklearn.neighbors import KNeighborsClassifier"
   ]
  },
  {
   "cell_type": "markdown",
   "metadata": {},
   "source": [
    "##### Instanciar el modelo y definir hiperparámetros\n",
    "\n",
    "En este momento tenemos que instanciar el modelo que utilizaremos y definir sus hiperparámetros. Se puede observar las opciones en la [documentación](https://scikit-learn.org/stable/modules/generated/sklearn.neighbors.KNeighborsClassifier.html#sklearn.neighbors.KNeighborsClassifier).\n",
    "Lo que definiremos en este caso es la cantidad de \"vecinos\" que el modelo utilizará para realizar las predicciones, en este caso k=3"
   ]
  },
  {
   "cell_type": "code",
   "execution_count": null,
   "metadata": {
    "id": "japanese-gossip"
   },
   "outputs": [],
   "source": [
    "# Instanciamos el modelo que utilizaremos KKN con el hiperárametro de cantidad de vecinos, en este caso 3\n",
    "\n",
    "modelo_2variables_k3 = KNeighborsClassifier(n_neighbors = 3)"
   ]
  },
  {
   "cell_type": "code",
   "execution_count": null,
   "metadata": {
    "colab": {
     "base_uri": "https://localhost:8080/"
    },
    "id": "extended-prophet",
    "outputId": "af73254f-4691-485f-c6b7-df067daab507"
   },
   "outputs": [],
   "source": [
    "modelo_2variables_k3"
   ]
  },
  {
   "cell_type": "code",
   "execution_count": null,
   "metadata": {
    "colab": {
     "base_uri": "https://localhost:8080/"
    },
    "id": "satisfactory-capability",
    "outputId": "220644a0-f766-4f2b-bd02-959df46ebb9d"
   },
   "outputs": [],
   "source": [
    "# Entrenamos el modelo\n",
    "\n",
    "modelo_2variables_k3.fit(X_train, y_train)"
   ]
  },
  {
   "cell_type": "markdown",
   "metadata": {},
   "source": [
    "##### Probamos nuestro modelo\n",
    "\n",
    "Utilizamos el metodo *predict* para probar nuestro modelo con los datos de test.\n",
    "\n",
    "En este caso realizaremos una matriz de confusión que sirve para comparar los datos obtenidos con los datos reales (que guardamos previamente). La métrica que utilizaremos es *exactitud (accuracy)* que veremos en profundidad la clase que viene."
   ]
  },
  {
   "cell_type": "code",
   "execution_count": null,
   "metadata": {
    "id": "agreed-library"
   },
   "outputs": [],
   "source": [
    "# Probamos nuestro modelo con los datos de test\n",
    "\n",
    "y_pred_2variables_k3 = modelo_2variables_k3.predict(X_test)\n",
    "y_pred_2variables_k3"
   ]
  },
  {
   "cell_type": "code",
   "execution_count": null,
   "metadata": {
    "id": "informal-intersection"
   },
   "outputs": [],
   "source": [
    "# Comparamos y_test(datos reales) con y_pred_knn3 (datos predichos) para ver si el modelo hizo las predicciones correctas\n",
    "\n",
    "# Matriz de confusión: comparando resultado original (y_test) con predicción del modelo (y_pred_knn5)\n",
    "\n",
    "from sklearn.metrics import confusion_matrix\n",
    "\n",
    "matriz_2variables_k3 = confusion_matrix(y_test, y_pred_2variables_k3)\n",
    "matriz_2variables_k3"
   ]
  },
  {
   "cell_type": "markdown",
   "metadata": {
    "id": "historical-import"
   },
   "source": [
    "![Matriz de confusión - Python.png](data:image/png;base64,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)"
   ]
  },
  {
   "cell_type": "code",
   "execution_count": null,
   "metadata": {
    "id": "addressed-relative"
   },
   "outputs": [],
   "source": [
    "# Vemos la matriz de confusión en una visualización heatmap\n",
    "\n",
    "sns.heatmap(matriz_2variables_k3, annot=True)\n",
    "plt.xlabel(\"Etiquetas predichas\")\n",
    "plt.ylabel(\"Etiquetas reales\")"
   ]
  },
  {
   "cell_type": "markdown",
   "metadata": {
    "id": "careful-shaft"
   },
   "source": [
    "##### Métrica Accuracy (exactitud)"
   ]
  },
  {
   "cell_type": "code",
   "execution_count": null,
   "metadata": {
    "id": "rotary-hardware"
   },
   "outputs": [],
   "source": [
    "from sklearn.metrics import accuracy_score\n",
    "\n",
    "exactitud_2variables_k3 = accuracy_score(y_test, y_pred_2variables_k3)\n",
    "exactitud_2variables_k3"
   ]
  },
  {
   "cell_type": "markdown",
   "metadata": {},
   "source": [
    "##### Gráficamos los resultados y comparamos con reales\n",
    "\n",
    "Para poder comparar visualmente la predicción realizada con la de los datos de test, vamos a generar un dataset con los registros de test. Vamos a tener 4 columnas: las variables predi toras, las especies reales y las especies predichas, de esta manera podremos realizar un gráfico."
   ]
  },
  {
   "cell_type": "code",
   "execution_count": null,
   "metadata": {},
   "outputs": [],
   "source": [
    "df_grafico = pd.concat([X_test[\"PetalWidthCm\"], X_test[\"PetalLengthCm\"]], axis=1)\n",
    "df_grafico[\"Species_reales\"] = y_test\n",
    "df_grafico[\"Species_predichas\"] = y_pred_2variables_k3\n",
    "df_grafico.head()"
   ]
  },
  {
   "cell_type": "code",
   "execution_count": null,
   "metadata": {},
   "outputs": [],
   "source": [
    "# Visualizamos para comparar\n",
    "\n",
    "plt.figure(figsize = (10,10))\n",
    "sns.scatterplot(data = df_grafico, x = \"PetalWidthCm\", y = \"PetalLengthCm\",  hue=df_grafico[\"Species_reales\"].to_list(), s=250)\n",
    "sns.scatterplot(data = df_grafico, x = \"PetalWidthCm\", y = \"PetalLengthCm\",  hue=df_grafico[\"Species_predichas\"].to_list(), s=250, marker=\"P\")\n"
   ]
  },
  {
   "cell_type": "markdown",
   "metadata": {},
   "source": [
    "### Hiperparámetro distinto\n",
    "\n",
    "Ahora vamos a realizar el entrenamiento y testeo del modelo siguiendo utilizando solo 2 variables pero en este caso vamos a cambiar la cantiddad de \"vecinos\" con los que realizar la comparación: k=5"
   ]
  },
  {
   "cell_type": "code",
   "execution_count": null,
   "metadata": {
    "id": "japanese-gossip"
   },
   "outputs": [],
   "source": [
    "#Instanciamos el modelo que utilizaremos: KNN con hiperparámetro k = 5 (5 vecinos más cercanos)\n",
    "\n",
    "modelo_2variables_k5 = KNeighborsClassifier(n_neighbors = 5)"
   ]
  },
  {
   "cell_type": "code",
   "execution_count": null,
   "metadata": {
    "colab": {
     "base_uri": "https://localhost:8080/"
    },
    "id": "extended-prophet",
    "outputId": "af73254f-4691-485f-c6b7-df067daab507"
   },
   "outputs": [],
   "source": [
    "modelo_2variables_k5"
   ]
  },
  {
   "cell_type": "code",
   "execution_count": null,
   "metadata": {
    "colab": {
     "base_uri": "https://localhost:8080/"
    },
    "id": "satisfactory-capability",
    "outputId": "220644a0-f766-4f2b-bd02-959df46ebb9d"
   },
   "outputs": [],
   "source": [
    "#Entrenamos el modelo\n",
    "\n",
    "modelo_2variables_k5.fit(X_train, y_train)"
   ]
  },
  {
   "cell_type": "markdown",
   "metadata": {},
   "source": [
    "##### Probamos nuestro modelo\n",
    "\n",
    "Utilizamos el metodo predict para probar nuestro modelo con los datos de test"
   ]
  },
  {
   "cell_type": "code",
   "execution_count": null,
   "metadata": {
    "id": "agreed-library"
   },
   "outputs": [],
   "source": [
    "# Probamos nuestro modelo con los datos de test\n",
    "\n",
    "y_pred_2variables_k5 = modelo_2variables_k5.predict(X_test)\n",
    "y_pred_2variables_k5"
   ]
  },
  {
   "cell_type": "code",
   "execution_count": null,
   "metadata": {
    "id": "informal-intersection"
   },
   "outputs": [],
   "source": [
    "# Matriz de confusión: comparando resultado original (y_test) con predicción del modelo (y_pred_knn5)\n",
    "\n",
    "matriz_2variables_k5 = confusion_matrix(y_test, y_pred_2variables_k5)\n",
    "matriz_2variables_k5"
   ]
  },
  {
   "cell_type": "markdown",
   "metadata": {
    "id": "historical-import"
   },
   "source": [
    "![Matriz de confusión - Python.png](data:image/png;base64,iVBORw0KGgoAAAANSUhEUgAAAcwAAACuCAIAAAA08qo0AAAAAXNSR0IArs4c6QAAAARnQU1BAACxjwv8YQUAAAAJcEhZcwAADsMAAA7DAcdvqGQAAGO0SURBVHhe7Z0FQBXZ/se53fdy6e7u7m4Q6e6uG4Sda3d3dyvSSrfStgKCubu6FogojfufueCKrO5/3+6Kjsz3fd973jPnnrnMmfnMb86c4Pr9byszM3PLli2jH2DB+rI6OjrYbPa9e/dGP8OCNYkFQxbWfy8YsrBg/SEYsrD+e8GQhQXrD/0PkIUFCxYsWP+rYMjCggUL1lcUDFlYsGDB+oqCIQsLFixYX1EwZGHBggXrKwqG7I+j3t7ely9fPn/+/BksWLC+sl68eNHV1dXX1zd6+X1ZMGR/HL1+/drW1lZdW0ddzwA2hKyirqGkqqqmozsuHfb3bE19QwtLK4Czo5fflwVD9sfRb7/9pqysnNTwS8rdHtgQstOavaapPzFvvByXDvt7dmrzG1VtHeDB8f3796NX4BcEQ/bH0ZMnT2Tl5BIanyQ/GIINIdut3mvInp90+/W4dNjfs1PaepQ0tYHIBobsJBIMWYgahiwUDUN2MgqGLEQNQxaKhiE7GQVDFqKGIQtFw5CdjIIhC1HDkIWiYchORsGQhahhyELRMGQnoyYasvcHx3tchn/p+4PsewMj/lA4uBf2f76jjwbKH90j6K+4o0880ZAdqayxHpfh3xisoD8dQE6tfcXjOeZUAffy9XY0xjBkJ6MmErLA2cxsecto7v7olrfMu73se8ApPj7zP/H9vqSbLyLKW0Pzr4UW3064/QbAX/K9Hsad14k3Ophtfexx+f8Ls9veMa4/iq5uDiu8GVLUGnu1Y2Iu14mD7P0BVlvv+Fprfcdq72f/F7XGvtfPankdU/MgrOhWaNGtyIZnIPXae5ktXYk3O5Nuv2F9nePJvPMqtvZuRAmw09uRl58wWnrHZfgahiE7GTWRkI2vaXXddsB25U6b5TsARtiv3e+w8ZDr3guBxfcTbnezANT+6Sv/m9tfOi+czy8hQRYQpCnp251qTr7Xy6qr0vEKVPSMt911KfHen74yxqy7vUm3XjNae1l/mW2c2W1vwzaF88nJkviFSYIW9oeaJiaYnSDIguFeX/CJ0zYrd9quALwLqDX7dQect5/xPn8luvE5sw1A7b/6ewHIMq/Vy6ipUwSFyCKSstPPsNr6mDceT125TNUjRNF/fVRr/xfvjsCuga+3dCfdefO/Qj82P0fL1YAmKkYWkZGeujTi6ptxGb6GYchORk0gZAej84u1nAxIdAoaT6RIaoqb24uoKhBoFDyfqO6Ss1E33v1rPA3GVzfpWKjjCWiCsKz90RvJ7W+Tik5wiwlhyGJaM07Gto3LP9aD0UVVNsu2ux4qib71v1yu9/vZzU8so1yQaBwKZ2i9oxYMzMfl+QqeKMgCQeUbt4UJfKJ0LJGIJYuKmDuJG5lwi/BjKVQRF0ZAzStm+8D4b/1PBnfR67N5jQAdg6XQpJMOMVt7EutuGkV64mk8RAGPoBu9rC9Vx70+5vWfvQ+cslu9P7img9n+Pxx5VvPLoL1reSSEMSQ+MZslYfWd4zJ8DcOQnYyayEiWeacjYPNcXjE6AoUTs53jV3jH7/B+KSURJBpD1fexO9GcdKuLcacr6U4X424vo7WHcfs1kJJ05y3w/PghZnmTdKszEYg3WwAifyyZ3dbLbAY3xda22Yfq4XFcOAEpuyPXWXffJlRX6sWyNUJTnA9dTmzn5Aev6j7GHSD/a7CoZuDht4fV2uW9OARH5Ra2D/Qsf5kIRNZ3wedHICcQKCVydgr8EiBc+rBTIMTrZzZ3g7/nxsupK2dxIdBItJ7Vtsvgr/3ww76eJ6q5ADzssVXXDVzVMDgchmQyJet2SG65eYwvhZuEofLKzCuOufaacbsL+CWM5m5mWx+j5S1wYIFjxbzbB5QAtgbcfcepSvDZH2y0Ga04sBmU2fqWcbsz8ebLoJMnZGURGCJZKmE/UE7ilftTNmzSDGVox22MutPHgSwYU7NagcI7wfKBolp7Gc1d0ReyVa2UCHxC5seb4291A1XJaWMdAHd6h9PgcAdI7P14/74P/J4e4NcmXvstOi+TV1oChaeLWi0OrYMhC+vraELbZFvfRB3bKCQHUBUv7bEq8g5wvXVYe6sjUGiEmK3uigseW4/Zrt5uvXidw86cwAv1TsvWGrCXWG8siW/uBYKdxPpWj237zabNM05b7rD9QtS1XhYQQwHPs+198TW3p27aaTJjgRFruoymGAYzCtn4qmv26w5ZL9lq8dN2z4ybDLAdYJDV2h1d1jhl9Q6TlIWmM9barT3jm3srsqBU2VqLiwtBVDHR+OmA/bqTQZVPgas6vq7Na9dRk2mLDNgrbdenh196Bu4UuODbexMa2j22HTFNW2w4c52Kod4PClnQCfV3LcMscUQijmblW9PBaOkMObRFVJobSaCSXPf4ZlY5rdxhs2yD1bw1XgX3/I+dNZ++yGj24dCm18ChYNz4LfjsBdsFSw2TF1gs2uubdzepBWxhAG9Rt54Hns62AjfN1w0PpdEQaACy8fuSbr4MPJ5utXSn5cJNlstOx7aCL6aAuki6+sjv0CnLGcuMU5dZ/rRnypFLkTVtLoum0YUoKBxBJGGd/eYTbsdr4m52s1o7Q88X2i1aa8BaZL5wj1dmM0B8zq16AAhgQzMu2sxda5j8k2FAMJnODUMW1tfVREP2yBjI3gbQ2WkXoIZAYZDyLgabiz1WLeSVkyfy8ZOEJejSsnQxYSIQadgvjbzaEZWdIaiiSpdRF9Z1FtFWp0nI8SjFB9e8BMLMyLPHJQ10KULCwoZmspb2JCIOhfwA2bLLOuZm3OISZGEVvXnpcXfB92D++zbzyCpwyyhJWVpyiwpQRVQV3Nhqfp5kQQEuLi4MrzBFXpNPRcf6SENcVYW2vSZdSlbcJVhKUp4kKCE2le2Ze5/V1hdTVqFhrEgTkaGqO2n5uJJ4eH9wyIYAkCWNQDapGYDsVjFZGopIo4Sc8EvP1XKzp4qKEfkEaTLKdElJiqAQRczLvfBxUtN9q5RE4ADSZa0V3adQRUR5FJyttlYlNb9NaLhny47klZGjikuqRDCERUVRKAQKD0B2P+PmS89li0UkpciC4twyISE3e4GAN768Us7WBjgrBDX0RPX1aaJAUb4OG1fySUtgiQQkFkeQUOBV01OOmh9YdtOZ7QVUMa+qrqyFC6+YDLesusHm2oQbncw7PzvE+/EBO5XSFLVyE9dQxhIIMGRhfV19E8giUDgJp58Cqx6EZpyVkZZC4Sm8VjFTsh4k3XxsaiOMQCKRRG5pzziz8Kk0MWVp54Xh5XX6TrZIBIJb1WLKuZsey1J5RegIFElzcXFC3S1te0s8kYzhlrE+0BhdWq2irYxGjUKWeacj+sxWEjcQ6QhqTTsZ2/yOWVssLSSIxBJlwhb6XbzpkijLLaGuGLgmKK9QRV0FgCyPnqPTudvhFfdiqm/bhVngyCS8lvfUzBtBR3dhMUg0SVJz9tGE2y8dIkwxGBSObmOxvjyu8ZF5oNUkgCwRQzZ3K7wbXtxokxROo3Lj6BKam6/FNPziu34+vzAJicGRpNR1k2bKGWvTZT3cL94L3ruBn5cHReA2Wn8hJK9W104WS6Lx2M2Jqn8WdHAbNwmPJfPJJ+6MqXvsuX4ZFYNAE0abC+Iq6nW8bYHy8Lzuwdd7EptabSMCSWQKjlvc7tQt392r5AyleBR83HNvTpk/nZtIQOHwOhvKwqsfRNf/4rN2oaCUEJpEl2IdiSiukjMzROOJ3MqeXkUPQvdvEJIRxBBIwubrAkvv+m1ayi3EA0MW1tfVt4EsAkmSkJeZ4kURFkQTBXjVHU2XlCe0Ag90nVbukkgMlmIY4nT6DvNKq9eBPO/T9WHH90pry3IhuPgdZ3qlV3utXyQoK4xAoKVc1vplXBBVk0VgaXilhaF1r5Ku37f31yUSRiHLbutOLDxKFeIdgWzMzVehmxLIPBQ0Vcl0TWliy9uE6iavEyUBhS1JN28ZmBhwIRCC1n5eVa8Zd3tjSwsk0Gg0EiVkHeZ+vNz70HEJfgQKjRHxmRldU6siLgb8TjH/uf5VL1ltPa6LWZMAsjgAo+KuYVJmxigMiSymIeW8PupWD6P5VdDuFYISVDSZLj+3OKb+57CcSo/DlRE1jx3infAUMkrU3HbnBZ/j+SYBFlgCCUu29Sq85zQjGLibYoSm2B28BgS2oWePy4gjsCQAsgcYLe8Saq8bhLlhiZQRyEbm5qlaqWGIFJLS7Ojmd4lXfw7KKPM61xBz5Vf/TSsFaVQ0kWx+vDmx+R2r5VcLXy8iBosh8eotOheYVarvYoYnYPEiisab81yS4mgUMpbKY368LeHW67iLGXyycJssrK+sbwNZJIquqqfJWKDPnGc8Y5v7qYb4OyNdC7qs3aWAK5luHT8152fwRUdbL/DwGLR5AfDMB4SZVCl5ea8IRRtzYXVVuoySrOdmr2NHhWQFuLB0wtS9UVe6mDd/mRqrTyJ9hGxSyXGqMN8IZKOv/urONCZSsBhhLct99UywAzy4C+bdd+yWFkMzIwCyQrb+3pffsO4NRGYeo3BxAeEzlldBwWaqnLUnn5wCj6iEbPD8qOIcMVEh4HfKxS4PaXrHvtfvvm7eJIAsHog0lWJmG7AXGrCX22/KDa/5jdU+wGrtDN6zEoAshsKrse5K/K237PZe4KgmNN4zdZQG0IwiUCSd/eUcPGQM1HnlVanivl7FLdYRpsDRxmqEOKe3Me/2RmSmKykhsGQOZFvfJdTdMIxwx5KoHMi+Cz5xUFaDD9g7yWlDQls/+DKtDdhFH+Pm84Atq4W4aWgixfxkS1JrL/tmm46bIwaFRhNpdDVHFRc/ES0jXnllfnkds00ZllGBRBIRy83rnP88qeVtYmURv7wMDFlYX1ffqE0WJ+X2U9j1bsbY174PgH+8ASGLxfFYx7vl/jKyidXS4b88QUQEDUCWz3f+1AO57ofyPI9c9DiU55fdGnjyGAhZHJ3gvDPiahfjLyEb1fTAwUeIQESihbUt9zYwwfIH2ffAt1jsltYRyAra+HtXdzHb+sNO7UQggASEqFOQ86aTU3dxdro3w+/cpYSyLDERQQCyMlFLghveAKSeHJAlYGmGHlVPk1p6xvSyGPoIWSqvxtorCXdGevUPJl5pNTDAYPEYlLKD9YaTrnvOex7N9ziU77avMrrxoXWYCXBwMWqBTumtwHPDX0L2bcC+jZIyaBSeRHLZnHC3DzwxwBvkIPPWi4+QPdGc2PKOeeWmios1EoXCUHkMlx9125HpfuACsF+vAxeCcqstwn2IJOCv4HXIfZLU3J1YAUMW1tfXxEK2K/LIBiFZ4Q+9C8b1Yx8H2V9HtrLvvo06sV1aUxyALL/BktCmF4m3u+KbnoZkVcRc7YjIzhJVkeBCEfAioUG1zxOvP7D00MFhRyGb/Adk8ZxI9vqLwGWBJG4iiiCttyA79jYQhPYmXO+Obehk3rozAll+C2/3kheJt7qi83PEMVxoFELENSmo/GewM9DN5+HFtyJKW5nXaxXERBAoDJ8d2zPvEav1zZSF8RzI6lttq/kBIVsHQNZipHeBT80r5qcdgT+B7Lo/IDuUdOM3+ygzPJmIItu4nLsRd72DcbszqrI1pPRu4s3nzqkeXMAhoxpa7qpOutMVfOqouNBIF64/Q7YnPOO8krEsGk8giESFXOtmtHQzW7rir3XHNz4ZhSyBbHr0VvytN4wbD8283YkYFIbMY7LjcuLNrsQbz+Ov3A+60BJz6YZjYiSFTMKQuXU3NMY1PY/JOsErLQZDFtbX1URCFog7/NfO4RXlQaBw4o4LQxpfAU/lf2wFwknmzfuGdgCCsVT9YOdTraNjwO71Mi5XqLuYoHFYkoSy5uzDvuerpm5YR5WQ1VxdHlN+WcFEF4PBo4j82guOT12/XlBaAI3mwvJLmu9tSLjxMvLUZhIvDYnlU4nfFd7wLC5nP58EP4ZA5DUPtN2V738yS9vLVjMpN/5mm5GdKRLFRZAx0F54wnH5jiknS8ztJPBEPJYsrzPzgF9Wncf2LYp2mgZLjiXeeWBir4LG4dBkXc3UQ37HT8goC3AhUAiUlvnGUmb7wNcYvzvOEwVZsJ9sTFmjvqM62E+WYuZW9CCxpWdsHsatp97r5vCJkNAkbsW5pTHXRodOMZs7fbfMoQnyYAgUEbdZ7meq/U5mafj583svib7y3HvdbDwOiyZQhT1m+mZUGgVNwWAQKDxRLGp73I2u6LIa8MUXnojjtvOufhFdXqcf4EygUHA0PpW0fV4nC+xmBQjrLQupexq4Z7OwIA8ahxfwWe12OMd56yn76bF8wtzATvm1Q1yOVPiezDGPMxI28/ApbvdZDfxOXjSBwqPOcNpz3ix8KpFGQmGpQiazg6p/m4BagyE7GTWBkB2ILihT11XFoZAIBJIspWa65nzCnY+XK6v5ZciOeWQeTkMoUlo5/mBi8+iDZ/L9twG7V8sYamAIBAQaCBgxRFFlaZdQz4v3mLefec6cJSbBB34LRaeIawrL0TBYLgSBJh653uN8tY6LEQaHBqJObnVPpyNXWW0vnVKDBWTEUVgsEo1DYgSErSItdzYmtnT7rkvh5edCYVAoHDddzUpvU3Fk1llZU0MihYjEYJAYPI4mLeE23eVsC7OtL3DvJmEFKbAQHJGiZCagpgbEZQgEWnzKtGiwX+foH/X1PEGQvd/PvtvpvpDJDdQJAoSgbOCcgKpnY/IMxpRUak/Rx+CBQ0QkigVOzbw/sgnsSlx31SxyKlWQDzxQGCyazCNg6Gy2ITvxTndMYYWuoRaJjAfuqWiivKCWDo2XC4lBYxXtbU43u29eJyDKjUQhAXCrsE5GNvwacmS3ogWwFxxQ+0AF0eSNlRhHI692xJeV607RwOERQDqeX1E2ernH6QKDqHBeEQEUWGtYNJ6PX8tBa0Fu1LWuhMoaLQ9nLAGPRKHx/BJC+qZYMgWBwhJE1K22ljDuDX1tzsKQnYyaQMgOxldfc1m92XL+Oov566wWb3U7UZXYCg4KGjG7rTsy/ZTt0s3m89aZz9vkdKia0fpxeBWzuSM0s8By/hqTactMZq2025wZUvkLOO6rrZfRdN93+y6T6ctMZ2112V3sd3C35fxVZnPX2e26GFR6x2ndbquF6y0WbLBaciyg4CHwLJ9w9ZHXnmPms1eYzFhhNn+fT25r/G1wupOkq488Nq41m7ncbM4W1yOXYq+9ZLV2heeU2y/ZZDpjmcmMldYrTgWVPExs7mHfG0y68dz30CnzOStM56x1PFDle+ai2Wxgp2usl52KvTv440Sy4FiP7qADey3nrbOYt87yp002K/eGNX6y04T6Fo/NW6x+2mCxYJPVioMB5b+NbgJH1r2LuXTLZeMe0xnLTWYst1i00zP9aty1TnZ7P/NOZ2R2of2i1cCBtVh4xvd82ZS1q8znrrVctNXt4qPg7GKrn4BaWwd8dNpWEXerm9XaEZZdYjkPyL/MdM4W533l0Vc7Ga097NbXoRm5NgtWmM5YYb3yTFD548RbnQl1rR5bDgBVaTJ9ufm8nR4nG+Nuc6YiansXmX/JasEq05nLrdcc9c24ZL10q9mcNRYLdnidu878+rdGGLKTURPZXPDvzRmj2ccCnsfHXQ/3B1ltvaONoeArEfCtCDgSd2yeseaME2O1fWbmEeD6Z386GB8ojdUG7PTjq55RjxQykg4OSQJHc/4304n9DU9km+y/NVg7wNHmvLD6ZBNwAPvB9JF/j1TcX9QaYLBfAWfs1qfpnHI+beIHauRLOwW7lIymc04Vzk4npOJgyE5GQQuyoL94Mfzlxfkv/ddX/rcwlCAL+D88gP9TUd9ZxcGQnYyCHmRhcwwxyMLmGIbsZBQMWYgahiwUDUN2MgqGLEQNQxaKhiE7GfXNIHt/zLJO4EuqkXTOsk5/vIsYm/8rmjN8qL0f2OmfNn2//uaQHVN9HwxU2b+sNU7ts9rBV1tf7AYH5ulngfUFnC1/2vp9G4bsZNQ3guwg++475p0uzrTZH6blBt9ccZYS4SQyPu3x/hV9r5fZ3Bl/5beE6x2s+1+9p+R/5W8KWfC2NDJh+egU2uAs2l2cSbtB9v0p/981OJn67c7Yxqfx1zsYdz9XFED2tneJ118AeRLBOdQn7E783xiG7GTUt4Hs/cHE2jtTVq0DMGHAnGc8f0/klU6w/1P7U5e5y4zYC4ymb/PKvvuVVtBLutUR1/Rb4p13IyPK2HeeeG5cJWfrIuv2U8RdIEAbn//79LeFLLv5uee2/SYpCwxYcw2TfzKatsx4xjKzuett1572y26Nv9Uzrhvc3/L9QVZrh/ey6RI2LsrB0z2LnjHbB1htb+ObnsZffZXUDC64yW7vja+sMw73l7J0MthUndTyp35137dhyE5GfSPIDiRcvmaTGEDmJiGQSCy3sNm68qT2/uT2544RIRQshV831uVEy3+wtOJnPBh4cI9e0hzHQ1Vxd8BLlHW93W5GOJZEJAo7B9we+uJyUt+ZvyVkARre+c11yQJBEUEkCoXlkxBzClNydeXloSNQRF71GOfDLUktH4eZ/F3fH2Te/tUp0hiNw1G1ne3SHye19ibduGuZONNw+g6v7EdgbHu3O/pCloImHwpPkpieGXdroh53/iPDkJ2M+nbNBW9Djx0SlBZEgINR8ULWiV4XHwJPi9EXzkviBVSjd0dcG1nFC2yAAxdrutGRcO0VuHJU28fmWia44lNHwvWXiTdeAbgBzGh+C6AZbC4EHjyb3yTe7EgANt3pZnKePcFe6K0dNiGaOG5eBcb64NpXibe6Eq78EnAm23LBOpvVZ2LvDiW1vAOX8wJLe5N0u5vZ0s1qBf7RBRQCBFPgOIj2PmZzVxJQ8vWX4EpTd3snbADCWH/jSPZeX8LlWi0dTSQaRVY0s9jbGF5yxTE5GonCYMhiqolbY651AdAEl2UDauHGK7CObnVx1oAZrTuwXfVD9SXc6Ei684bZ2pN0/beQw0cs5q6x3XguuLaT0dwVW3CWRqMT5R1MN9fEXX2VePNVXNX1qeu2WMzbMCXjbsLtd8yWN+C6cOAiY12Mlrfg2dLylvMRLBDc0cgqbTeAk6QD+A2cYQhj/5YJNQzZyahv9uLrwVD4+QwheTEkEgFEQ2iqrNaMI/F3emMKcuRIQlqsI7Et4PMm62537OVbLis2aARGK3smGM3e5V/wkNkGDvth3nkdcOyUKTNV3T9SIzrFeNZK09mrzX/aH3zpaVLLm8jiuinrt+vHM5QDo3UTVniebwZoyGrpCD15gC7Gj8DgiCZeWjPWmM7a6rB6k0HyIv3EWfqp2yObe30PHjGZtdps1krg4dd8eXbU5dtuW3ebzV5lPn+1/Z7GhNtvEmpb3NZu0g0LVfWP0Z++xfvCPTDC+jotG3/hb/zi6/4A49pNI1NDAKpUdTu7Uw+Am1Dkub1IDAaIMWVCZkc0vGDdfRdf3zJ1/RbdkFgVrxDt6MVTT1+LBxtSwRsVwFPffUcNGWwV31CN0FTD2Rs9M664b9pvlvaTYdw0kzlb/StexNfcsIk2QKLRaIq0pAvTZPYK63XnrFMXGrPm6sek2Ry6BgDa7+BBs7lrTWetMpuz1nptbtyVdpcNu4AzwWzeaqcD9Yy23viaO25rN+uEhan6xRhM3+xX+IjRMnaCzQk1DNnJqG8OWWFjPSIRDIDwBkGeJb9G5maPgexgxMVcJU0eHL+EkI2vqqoqiZePR3+KW057wpUnHtN8SXRuooCCsk+wgJIihkjG0ISocg4uZ0rM/NVwNB6arKWUoTWdh4Yjknk0zD3zHyZUlEiZGBBoVAQaixeWoSvrCmjom874SUJSDEemUMQ9A2/0Oi+byy0qiCVTSMKyesvzo2qb7eKjKDy8ZElV3c2XQ9NzlCyNcBQqr5KTqq8HSUCQKGjrnPck6eM0CxPk7wCyNz5C9vTDpDtdEQBk0QBkafKRiyIbnsVVVyprcxP4RSnGnmru2tyCAliynFrSiYirb5JuPrWP8wAOMlXKWjkonldGhixnrLEg1339clFlGSyZTDdwsz/X5pYcJSgtAtyDUUQ6UUyZT1Vf2G+jWbgrRYAPR+WRnpUd0/DEdcUcbnExLJmG55XUX5wRf/W+ZZAvt4AASUpLd21h9MUCWVMDPJ2PX8tbztGOzEsnCjq6ZD1gtX2bxlwYspNR3xyyhiv3W3hrYfA4DJmmmHYqOOO8DHEEsn3J7S8svE0xeCzJIMT+cG107llefgqaKKA++1hg9kUxMgGNIYg6xgRVPHJfmMiFQHLx6Wr8lBd//baWuQWPkr7BusKIyps2NsZYLBonqmJ7qAl8/CzNk+ChIzE4qZAFvkX3oi4/ji1vsEjwweCwRCHXoFuDMVVXjINdsYDoBvbZv8Zffxa4Zz1dVEgodF9U42Or2FAKiYTklnc43hCaeUHOQBFF5OZ12xt1ZXR+vwnz9wNZoqyhwZpC3xPpRgF2KOCGJmFosvJCbNMD+zB7NAZJVnex2lcXXV1vqKPMxYXCa/raHb8RX1MpLyrChUBI+k3zyrkdfOqInFus+ab66Nq7dgHaKAyapuXkcPZ+bN0Djzm+SDQKLWakuzI/rPJBdN3PYedOyinTgB3JTsuIudaZUHNVz9MOi0GjyTqO6c3s9m7vNfP4xAXF446HlV6xSwwlU6lofhWXjGb/w8fldCUxJB5+tx0JQDA77i+aEMOQnYz65pA13VESlXdORIGbC4XlEjS3WrVVgSikDUC2+V3y7UZZEWEkGsejH2q56qzX4WNiErxIPEnAf7nTtp0IcN0CXlnvZdE3uoMPbUIgUVxCZlrLK5JaXgUeyXLdfia85kl8Xbvv4lgSNwnNK2e8uZJ5vze55YqiqDAKT1RgbQq7Bk6lyLrRbjczEkskcCA7xGx77bNhCZ2PiKIISk8ria5tsU2NJYpbuWTdTay/q+FkxIXCIURtLTeecd24R0pHEYEkINH+vmUfpp6aKH8/kEXg6VQlEwE5PiwRS5U31Z+7J6KhM+FSpbyEKAKJFPdgBNS+YYIzSc4EqIomaRsuvhBTXqYoLAQuwC6joxwxc+rpxsianxNudTNu/+ISY4zCYrm1nBzPPUy81em/OhnYBUbG1nh7U0JzL/tud8zFLEVtvhHIxt16l3yv221uIi8dXG9GeWYm887PxiFeFClzr6rnkQXVWvaaGCIRI2XnsDfXaeVaWV0ZNJaI5wkKvdHzTd5wwpCdjPrmkDXZUcq48dgmwYdEJACXIFVamUYQ1GQejrn9hlFxlleIH4g6cdJ6YgYOEsY+QtpGgkqa8jHrfc7litNIaCxJ0CLc98Jtl5nBAGRJ6q6Wh+4w776Lr7nj9NNSDRdfWbspkpqyeBIOhOymcZDdGHYNfDEyDrKse/3RedliKlIo4GlWLdF9934NewO5xAPRVzviKmsUdSS40DgEWUDUyl3CxEpUV59f1YAklBJYMxHz6o/19wNZtKiqDGOz/fpDLjvOeJ+tj256xWztib2YzicqhEAiRN2S/C53MVvfBh1cC0KWKKox82hc4yOX6Uw8jYYhkoE651E1UoteG1TbmXj98echK2VrvO2zkO0BfknEuSOSWrJoPInfmOF3Nl3ezEAmelf87Tfh588rqdEweDyGwiPt7CthYiGhry+gZsAtPS3s9sjUXxNtGLKTUd8esjvLWW094WfPKBgpI1ESXFxIFF5AnQPZpJLjFEE+ALLSQdM9M66HFLSEFd8KL70dWf8spuaB78IAHImIofLxKWtyS0hiKfxS7quD6l4zb7QYGxiQ+fnpahZ683bZxDph8Rg0j5zxxk8hy1gf2vQWnNj0ettHyHK6cCVdbTO0NMVjcBiKkJylg7CwjcuZlqS7vbEVlQqafCBkbed4ZzSEFN4IK7kdWtwSdPFx/I234/66r+3vB7JkNRurU+0Jd3o4I0rArez23ti8k9yiggBkJbw4kWxrd/AIZElqhstyE250xNW1u23YKK6ljsETgBskXkxXd1VV7JWHYyD7aEwka2O8vSHh9jtWa9d4yD4YSmq6ZeJoi8UTSMJSym5+/OJeDoevAaAPTz+tqIQGW6Ic5wZevBYKnjzNoYV3wkofMT43y+UEGIbsZNS3hGz6eSE5MdNdleBIyuanU1KTSXgCcB2OQra5h33npqIk2FzAZx3ndr6V0dKT0NQeerE0rOrn2Jp7zlHmWGElEd+5Fgs3WS7aM/Vkfdztbmbz64h98+iivGi8oHrsyaj6B14z/fAEDJpXHoAs6wNkkViCdNTKwOoXCQ1PEhubx0GW1dIZuDGZLszNBTzuokji7rPC6zuAH5nYcFfTxZgLiUVg3NzyWsCV+K49Dcmt8cz/JeH2RHfY/J5efNnann449tUf2H+uvkZZThw4fvy2ke75T5Nud3qvnQZULoZuZLK2NLb6qsehfN+iX2OqbzmluIIL+ZCkFUP2R1xudx6BrLazY/oYyIqa6q8uj216Fn/1WfSFD5D90E8WXGpz0ww8lYxAolE4ikzk2rD616z2gdiSSzrOmlgCEUPx8i5/FH/zddKNZwHp5T75Dz4zO/CEGIbsZNS3gSzY7fy5z/rVPIJ0ueRDMTd7WO19cWXlSiZKQPg4CtmWvuT7HXbRdsBTO5osK+M13W79Ias5MxTstU3W54Tl5QqR8Wi6pJAz23TuOsuFm6wWb7PdcMo390bYwcXconwIFEXclmGzdIWyojSeiEfRJDXnZ8beeMO+266hIYbGYkhqjroz1htGpTocyDEKckDjsDi6gXPuo8SWXnb7u8SqfCkFaQCyOCE9w2UXgcTkB4PMO89tZ8RSeCgAeYUdkmzW7rdesETCzFpiem7CP+h7/+/8TSE7CByiyAu5impKSBSKIGdktK02/lb3xwz3gbvmM9dkdyyJiJMy1Jx3zO90rqaNJgpP57dLc89ujzq/h1dFVyp8o/fZSq/1c9FADQlq6c4qDi+uNXBVQ2HQJAVT0x118ddfhexehiUS0URBMcdY89mLdZi7vfZtFZWhIjF4oeAtobUvgXOJ3d4TX14gxM+LxmAxvJrmm0oT74JTHyRduWc/M5ImQMeSaOLu06xW7bGev1hE30RyeiYThiysCdO3gey9/tiCfH0HLRwGQ1CysTnzgHG3n9X8PHjLTDIPBU0Q1mCfjG0FezJG5pdoebtTebmBmAiBQOL5VJUilvkUPgq/mEsCPo+s2c0R8A8ukqCg99yArBxNF3PORiRFRlPVz4dKISMxFB4L9tTsB+x7ve5L4vkFgRAViSIIi0+J10lO5ROmodAALegijmvCG18DjEhuf2kXaINA4YSdWN7lr0YH4N7riyksMI/zxVM4O0ehcYIKsr6pHhcfAo+fH/+6CfG3hCzA0FuPzRkRJG4yAFkkVZjXeYZv8eNPHsDv98dfatQJ9OGREidKKInpqBJ4+MUdEpwPX0lsfheTe0xMQRHDLShsaCGiLIYmSClELPGreOKzcQGfOC9YF1RhsYAlIdVP4i81KNuaAI/8CBSGJGuiEr5M30cfRwJXBsOIGZjsucLp8TrIuPWLtaMqkcojYBXnV/LzyG9gt7+NLS01jvIj0ID7IgooAScgrxA4zSP3LhzJwpo4fatIlnH959CsEs8jF71PV4Q3dIHDtNp7mdcf+pws9DxWElrxZGTdaWbzm5iqOz5HL7juPOu6M93r1OXImifMtr7Qs4cxwLMnWURA10MtOE7N209YEaAzHq/q5nWxJaq0yW1fuuueDJ/0uqhLrX7HCz2P5HufvxZ9pQu4JhObHvqfzJm6K93tYElI+aPI8mvex/I9j1zwPFbsc/bWSNAKMCK2vG7q3iz/vOaE1v7RMULg4PquuNpW76N5rjvOue4+73mqOrz6V8aYgUwT5m8cyba9Cc2v9zqW73EYOG5FXuevAE8J4/IwW9/FXm71P1fitj/b7UCW5/GSkNL7iXfese/1M2/+GpxR7XEg131/lvvBHI9jleGXnjDa+mKrrvmdBioLLNM371bC7bfM1u7I4kaP/RmuezJ90hsja38Jyy4C93sk3+tEWcjlFyO7Y7f1xBZVeBzK882+BUB89Dfc72e3vY2tafU+dgGsrz0ZQH1FXH4CLg0HD0aANWH6hm2y/4M/zKoHjtQEU945x7siECh+fZZXQVtUzeOoytu+G5g4MpGg4e1VBIRUnNkLgQfJL3fT4Wz9yysNzDAyN9hnNiV/8nu+gb9xm+zfN+c4g4f6z8eKc4Q5B/nT9D8ZLOH/nYiSs4vP1zjn6xN/I/yzYchORkEDsuPd45oWjEAgKLKaBosPTj2Y47plj5aLIYFfRCZsSeSna6n+qIYMZGGPMQzZyShoQnYwtqJOPTBcySNQYWqAoqu/whRfJa9QvdTVvgXt36q5bYINQxaKhiE7GQVNyAIeTG7vjq17GFHaHAb2V22Orv+NcXeiX/F/Q8OQhaJhyE5GQRaygMFZEFng2vq94Px1I8ufjM/zwxqGLBQNQ3YyCsqQndSGIQtFw5CdjIIhC1HDkIWi/xVkh4eH+/r6uru7O2BBSm1tbdLS0lGVdxOuvYANIVst2aKXOCum9udx6bC/Zydd+U1BTeMfQnZgYKC1tZXNZsXFxcCGkAMDA6g0qqpHkFZwHGwIWczAXEBVS803Ylw67O/ZOsGxCsoq/xCyQBhbXV0dGWqTeyYRNoR8ZHeosBCt8tKlmy13YUPIS5evSGIw669eG5cO+3v2tVt31DU1/yFke3t7y8rKkmJtr1VPgw0hF2clSIjRf3v6ZLQiYUFE+/fvX7hwYXd39+hnWFBQf3+/jo4ODNnJZRiyEBUMWSgKhuxkNAxZiAqGLBQFQ3YyGoYsRAVDFoqCITsZDUMWooIhC0XBkJ2MhiELUcGQhaJgyE5Gw5CFqGDIQlE/NGSr0gA3lqXUl6Y0VqRdAT6Oy/DVfLUqramMVZWXmJ8el3cuviSPNZF7/38NQxaigiELRf3IkL1amVqfG719tcfaZW67d0ddLk8dl+Ezrkq7UpnaWJ56pTLt6rhN/4uBXVee8GEEqJgaShmZKMWk+tdWwJCF9W8FQxaK+pEhW1/MPL5AW0OazMtLMbY2OJPFHpdhvMHwk110JuLI7qC8jMTGymn/nLMArEuTNk3TFebFE3npNrEeNX8H8RNlGLIQFQxZKOpHhmx1VgTTQZIHj0KhUSJKUsu2R4+FJvBEf6Uitb40ua4kua40BYhemypSL+XGzvMV46UTg5JdyouS68tSGspTgP+tL0tt4IS3wFcawI9AeurVqg9FVaYB3wWLAp3SVJHG2ZR2Zo21CC8OTaWZh7j/rTh6ogxDFqKCIQtF/cCQTcva5WauRMahEVxIJILKF8Dyqqv6GJw2lrKLTofvX++1cYX7jvV+xw9GlhUwz+2YaqOERaOQpt7Gu3YEHtkdcvpQyMGdgYd3Bx07HFtfyio8E3F4R+DhXUFH90fVlI82KdQVMfJOhO3b7L1pjcf2DX5Z55IAHAPpp1fbiAKQpXAgWwZDFta/FQxZKOoHhSz4tM7YMNtEWErEyV6OhMeg0Hg7D7OCgtSmymlANFqTG7tqloWDmZS+qrCVmbSygpCpqfrmTe4upmI0IhqJQNDEeU1MZZwcVKKiDbQ1RbW0JPQ9ncsvJuycY2mhIaqtLm5qaphTkFxXzDi+yjrUR8POQs7aRFZXU0BBVtDGSXvP8cSmyjQOZPEwZGH9V4IhC0X9mJC9Wpl6KSOc7SMrb224bfNUazoei0YqG6sdOcWor0hrLGEdW2KtJ0pBolBeCU7bVjpZq2AFBYSXrPNfmWIkg0MhEVzGLrob13rt2eq/a7WTvjwZjccT9KyKLjIzd7gZyNMwKAwfv/K5HPal3Khke3F+OlHCymDbJi+WnQwdiSDRKWELg+vLU2HI/lcCzs6/p9H8Y78wmvInjW7maDTpuxcUITt6iP9Coxk/ajR9jEY3QFM/JmQby5LPb3a2FRHwT3TLOh35kwsJj0VRaeLzV4RdKkm5lBef4ilBIeFROIVDZxKqLiQe2jB1+RKPjKzE7N2upiQMCoHwjncozWfXlabkHvC11+LBEggEfeviAnbJ6SA7A0EcBsvHr5Kew64rStyeahrgorpsR3R1AfPEKlsZQQKWTNLxda0shSH732h4eHjob2vkmhz9wBHw9dGCxmhcmf/v2f+dCHKQHVcXXxBQG5zjD1bd8NBnaxvIAVnU/pCQTasvZq2JVxLkEfQPdti4ym22vzgeiySQ8D5JLsUX2RVZ0RFW/Hg8DqWik5XNAJ7rGzgvsurLUvL3u1mQsUAo65fkWF2WdqVqWv5hf0dtHhzxA2TPBNsbCeGwuBHI1pckX86Jzz4Stn+919aV7mkhGsLcWDSRqOU/pao0BYbsv9bw70OdlRdzz55NB5SRkZGVnQ38L/jhw8esrIzM0YQz2bn5T1+/6+t+UVlSkJGVCSSdPXs2r/xqZ8/A0MhlPKrBG8UXM8+fPX8+PSMzKzP34s0nr0e3fN+CGGTfD7950Z6Xnfmhys5nZGRmjygrKzMzMwOogPRz5zOzrj14CnB0sL+77VZ9TnYWkDqaOwsQ8CkjIzs7v7Cs4cqdJ887e/v6R8uHiH5EyFal1l6M8lLBCfGTtTXFdbXEdDSE+FFIDA4rYWN8PiOpND3UXRWDA4JbVb3sHOYfr8KuVKQWHPgCZEkEgjEI2dJPIVtXyDi1yMHPWlqWQtA0kDM3EKERUUgCUcsLhux/ofcDv7+7MlVcGIUEheMVUtXUlJQUQaHABBwer6CpoaIsLsCDQqPBDCKyivm3Hnf+cm0WM1CWRgaTkCheZduzV3/uGfwjngVO9Xe7I92VhJFYNHDrpRi6hu2qvje68fsWpCD7/vfhwUdX0j2t9IWIeCRQZWgMRURWkyMNDQ0lWXEcFotCoUlU7hmH8vv6+3s6H5/fv9hMRowAVBsSSabRZeSV1NWVZSUEgRrHYOlKmrbsOSvKrj2AVlT7A0K2sYSVt9VaTJBu7W1+eE/w8b3BB7d6e6hT8DgMmldi68GYkoyoMHMe4COKV+HIucT68pSGUlZdSXJNUfKFfaOQ9Ul0qChOrS9PzTvo66BDxxFwBA2TixeZBUf9rLT4sOjR5oKCI74e2vw0Al5MVGXbrtBdC80k+XGoTyDL6cIV7gZA9p/3uv2vDSXI9l71FRPE4nDa9t6r9p0oLCk5tGm2qQQCjeTi1ffNLikpLMjet2GWuqwQHoMUlpIvuPm4v6/n1we3Vofbc3GEJ1B07Bc2/9Y5WiZw8f8+/LS9ZhXLhYeA4zXyrbzW3vW2d3Tj9y3IRbI93a9ulJ3zMVdHIFFYAilh7ZHSEZWUFORlLmKFyRNxVG76rEMX+/r6hwb7Xj9/mL0uRZSXAlyDmpbOO89cKCwqzMs8s3X9EidzHQqZTOOm2/jEXLr3urd/aHQv371+OMhWpV2+EDXHlp9HQijup+CmKrA/bE0BY26YPAGLQiAw0QsCirPipgcrUojAXRQ/NcE1LzP+5CbbME+TQ8cSLxxwN6Ph0EiEuoPR2fTY/et8ju71n2oiSMBjcBTahl1hW9jG8hQM58WX2rkcVvo2Fx1ZMhaDk5QyzjoftSRQTQAPlErQ9JtSWcQ+tZrTT5ZENvFxqihNAeLi8b/2GxlSkL3mKyZEEtVcfqLiVU//+/fD7ZWHw7QRODSXhMviLuDz7793dzw9udBXgEYYgezIV+vPrwAIC4a8KCwCwZeyq7JvEGzYG9n6fqCjdP9SeSrZfvouCAVF0GuTHR4c7Ho4I84deNYgUum7K1pGNwC3uvfDT5rrZvqbCwoKzj1aAESyQOrw0ODTppPKskJoFNLGP6bpWd8AUGfDQwO9b2py91vryGAxaCq/ZOSKomfdfSMFff/6sSBblXa1NGl9shadgkVzU+1inEuKUpoqUqoyQgNthDFg1ywEN5/Shn3Rpzc42KtQgFiWQMCQKXgeXoq8vva+U4kVGREMGyoBi8Rh0RQqSUZDOnGpT5SXPA0Ib9EoCo3Iw0siEdDApUuhkWevCj6/19NWh4+Ix6DRGBqdzMtDIuOA0wkjJa+ya1fgvDAZKgG4hSPl1KX2HU1o+G5G1kILsj5iouoWHlUtvw2CLz+G71ceihyBrPOiNxzIApdgV3uuiozoJ5DNXYdEIqlUIPohIhBoKTXDzDudPR/Cn/eDHeUHlynSKFNn7BlJgYQgB1mQmm8ez0jw/ADZ5tF0UO/73r4q2bPKQUtr6bnqgYFBIAnI/uT6WRU5EeAas/aPbvytF4AskBOo5+7Oxyfn+grS8ASSgL332tZnkDkIPxpkr+RHMyJ0bSzkLC3k/SOtzmWymypSy495OtkqWJvJWpjK2tupTF8TUVuYlL7Tw8dZycxY2txE3i/A6tDRmJqy1PpiZvZut1AXGXMjaQszzeWbwoouMHL2eQW5qZgZSTs6acxbMCUySMvCVMbGUiGJ6XohL+nYagdnG3kzY5mpnnrLl7jGuqlZmcnZO2rOm+eSFKplZSZjaSrjMEVn/a7oes4Ihe/B0IHs0O8D938KDpuzePdvb8An+s9CFsj2fuDpoZiI4MjYK49ecb4JQhaNpjt6RDk7GAD3VzyPuHPK7oev3o6c5u8HOwHIKsGQ/dp6/3nIgtQcGhro73v94lnLneaHzzqHOJ1APkIWPQrZ/qFRMA30vCrfzRTnp+AJfDZuK1ufvhlJ//71I774AofMgv5s4seGUeDfFSkjY2rBVoUx2ZrKU4BEIPD8o5CRnI2cFIDajRWcGWQ+bL0C5k9u4qT84dEvjnz8UPh3YshAlqOBgf6BgQ8R6Gchy9HQ4GB//+Af5zEAWQwO75Uy/9iB5XQqgQuBEJHVPZp/rZezHYbsBOlLkB0eevv8wd22ey/e9I/t+PEXkB3s7ao/MUdCCAhlQci2wJCFiscCcZzHkfFL2aBoaEEW0B8n519AFtDYc3gEsh4pS2pa7q5lOHBTiRgs1T5i0ZV28FyHITtB+jxk3/e9667cGuMfmXis4WnvwMc6/AvI9nT9fCrNX4hCIJJFXAIOP3j1biT9+9dkh+zkNOQg+4f+GrJjNQJZ9+QlV3/t7HpQNEWEDw1c5zzCSw7n9g0ODw2AbbIwZL+6PkAWiULjydQdJbffAup+87y9MkSEpqhjvq30UXffx34CYyFr5RtZ9+vbHuAxZqC/r7f3fsPFEDtdMoHIK6ow98jV128h01sWhuxk9GSC7OLrz3oGB/oKdjH5iAgMBiNgknC7o6e37xUM2YnQB8giEAgkBitk4RofHx0VGWAqLY7HoKU0zHaWPv4SZE3cggtv/fLzL08e3Gu7XJoV4W1DwOPxBCEjyzWP3g0OfIhwv3/BkJ2MnlSQvfG8b/j970/u1U/3VCPgsSQqPWBB+q8vfyk/tByG7FfXH5BFItE4vKaZbUCAn5+Pp72pNhGHkdI021X6+O0XICskp+YRwWAkMQJ9pkpLSQpJSCtqm3r4raxrew6ZcdAcwZCdjJ6EkH0/0F2fv1tLjh+BwCAQ6nsKasqPrIS7cH11jWkuIFBo67NrOzs7Ol4+u3kp01mJKK/9V5AVlFHxiUxkMFlsNjtt+qzF63acK2l88bYPQngdESQhOzLfdkMZ+E4fnG97tP8puHLMyMzZ9WUpIzO6fnVXpV2rTK0tZl8qZNWVpTZ9N520/tqTELLA1d79rHVVxBQRAh6BwFp7zdi5Yr48mQRD9utqDGSJVO7d5XeGwbl5Bt91d+St8jKycz1c88uXXnwZTw0suPHw8S9Pnjx9+uz5i9dd3e96+0d6ekFLkITslYqUgoP+q5a4rljosvQn9zNn4jndrVJLzoVvWuSyatHUlct8ykq/yjBWgN0AxxvKU0e6c12rSr2SF57oo+nrqTtroX9F6Xc0QcFfeDJC9vffB/t720sO22jLIhAIASlFt6BQBTE+GLJfVx8gO64L19DgQHfH06e/Pe18NzA4pnV1LGRt/KObRgcjQFvQhGw5+9QSUxVJCoWIIeAxNj4WuTnsxvKUc+unWItSBXm5VTTNcgpSvgZkq3Pj9q1337LWOzOb3ViZBvafPe0lK0GlUCku3vYX8lPG5f8+PTkhC+Qd7Ht5em4QGgnEVWg0FotEoWDIfl19AbIAbgCecuYw/IQ8YyE72oULhuw3imRT64oYKwMlCFgkAsFFoQlPWxF8uTi5Ojt6rpu8DK/k6n1xNSWjkG0qTwEnJCxi1xQn15eBgwhGC6lMbShLBp70a4rYtSXJgOs4ISpnTEFaU3kqOGUMsJXzrZF2gKuVqdk7XCxUqUIi3LN3xFYXsmuLWNXpgX5uao52qtNmehbmJ4+u9AUWmNJQljLarDGyjNiHsQxAnstFLKDkuglr1vjUPwhkXf8GZFMW33gxClmOhp+1X55qIEEiYMHJYxAIGLJfV1+A7Jf0AbKiHyELnV4EXxJUX3wBcesOhjKFgEIiESgMRkJd7XQG81Je3Eo/FQ1R+R3Hk+rAqQUBqKUUnAjduNBpGtN67kyXPbsjQfiCAxDSqvPiD210XzLDbkay9eKFLuuWu21c6bFtU0hlaUp9MSv3WMiW5VPmTreePctxy6aQigI28JW6/PjFSdoCZASBSjCPdVizzG37Ws+1y92WzXdaNNd5x87w/PSorWs9N65037DCfc1y77On4qrOBq9b6QF8XL/W/0I2EyB72bmInctdZidbzp3uuHlLSFlR6sRPHANhyA4P36s8EqEFQlbcdd6r4fdDnz1x379vzFkLQNYjZfHNTyD7+2DP6wcXl+rxUREgY2HIfl2BE8S8eTwzwWukTXZX+Z2/5szQ0ODTa+lgJItCWflFNTztgSH7jSErxIeXEKfgcGgcgWCV7AMwboWPivoHyNYVJe2bb2SlJyIrzWdmIq8rxScjKxg127eygFVyIijJV0leiq4gI2VvIy0pQZeU4JGS5jcy1tu92zPYQVxPU1RFSclMg1tChCYlxc9c6F1TmnJsrY2aHB2D5MITcdzifKoqwt5emkHWcgpSPJISAr6hzif2+jhbSgGxtLQUn5GV5pY9ESWHPB2UBOXl+A2mGO05GJW33dlQU1hJRtDGQk5ZUUBWTsjT3zEnL3mCh5NBFLJAmNPf0335xFpzCgKN4KKLq2bfetnd0z/uzB0aHOh9+yZzbSgKjdFyjy+49rgfnH9rdOvw0MDg2982JzgQUFwoJAzZr6r3A33vXrQ3JnibI5AoDJ4YvjG3613vwODH7gRj9X54qL/n7dXM9RJC3EDVyJi4Ha242/Wu79MJ16EnaENWVVVwWqyWshAWg0EJSwmu2BKyyFdFdRSyKTm73W3VqCQSjmZjlX4kKNpLEYlA8AmKbzoat2OGiTINh0QioxYHnt3r76ZDx2AxaCWtY6dj9i23VaDi+HU1dh+MOr7e2YqEQSK4DP1sKouSy7OjF4Vr8CC4CCRc9E8BmScj889EF+52EuYj4PBEJw+79PMJ6WvMuclYLI5o42mdnpFUX8xcES5DFRaMWxCQc9TXWYxCwKM1jRUOHY1eFiaPx6H5ZCSmrQyf4GAWopAd6Ht16cxuN1EROoFAJBDovEKKGjFnK26/GwbniP1DvV1P8nYvkRQXJZLINH4R94R5V590j4uHbled8VSgUMgkr7kHR5OgIIhB9v1w5+ObK5JDhQX5CUQikUyVVtJYuDfz4YvPTzsw2Nt1s/SMg6kOH50KZKfzCRp7R5+9dPeT2Q0gKGhDVktHYt/BYD8HCTwWgSES9Z2MZ7opq4kAkE2sK2Fsm24ihkYQCHi/FO/TB4N/itIUxnORuMlu07xnRKhy5pPl2XQ0vjgjOtZDhkDCY1QN8nIZBSeC50QYLF3lV5bHKDwenOgsBtxU+Q0MLhQm15UkbWYbiCAQNG7SjG0xl4rYDSWsSyc9xIVJI5DNzWPV50d5ShIBekrpq23dG113McJVgaJpono6k3V4kRkfFYshkc09rU4ejtg60wCPRWEw3B6+LtUfVhefGEMUsr0d99ZNnTrV0dHeDpS9g6Ozi+fitedfDXwC2a5fryfEhDo5OY7kcfPySb/xZNxTJwDi8weXOzs5zNlzcTQJCoIUZN///n7o1xs5rlNcHB0dRmrMyWVKSMrCS3efjWb5VH1dT47tXubu5upgD9YwUHcurlPnH614B1QelCkLccjqSh46xzi+0kxViIDFYvgEaIayfNICsgBkawsSVjB0KAjg0R7PKynrZa9srCsJPPtLC9N9Z/osZ+qKUIBIlpK2JiTrSFCAlRCJQhS1tizKZ9UWMTP3B26a6zA9yZwRqmOmwo0EIGtocLEguaGMsS3FUBSB4OYhz94RU1eWerUiufaMp6QIeQSyFy4mX6lI2RorScZjsLwi7NkeZ5aZiIrzByf7XC5P3p6sRSWgUDisqIygk7O6g76QpBhdSEDEN9i1Cobs39BAb2/3y5cdL8fo1auevr5xUSpwTr969Wo0w8uXnV1vegeHP64+w9H74YF+oLAXz7sg9BIJgpFsb2/PaDWM6FVHR2dXX//AaIZPBbbz9HR3dn6s4VevOrp7+uBI9ptCVk/yUDqrMjt6ob8cCYhmufBcXFzcPNI7jiXWXIidG6OGQHDhSDhPhv2SaY7L5rmuXTp1/cIph47EZG6dYq/Bi0AiFLTlnG3lpQXxNLpA+JyA6kLWhb0+YeZSCgIUGVWZkEBtU2UqUAi/7njIztoRU1uWMgJZiTGQvVqZlrvbRZ2ERSFxVvZqobr8iipaB88ymirZ6yLkKDgEikrWmWq0cI7jykVT1iyZunyB594d0Q2VEzodInRffE1yQe7FFyxA0Iastp7kkfOs2pLkstN+NtwE4Pl/FLLHE+uKkjamGAogufAEnP+cgJIcRtVFRmVeTMbJmJKcxLzdHlONBZGS4oEB+mGBBjFRlhs3Bhbksmouxq+MUeIhYnjosqs2hZzf5x/rIIhEIPj1DPLHQJZCI03bHFVdwGosZdUAkBXmQNaTA9mqtOqcKIYNHxaNIhFxvCR8QGpAVUkqkH5wrgE3CY3Ckq2n2l/MY1TlMysvMDJPRF/MYcFtsrD+jmDIQlGQhOzVytS6IuaaEFlFNbGNB+NrSlMaSpP3ztLhIWOAqJMD2aS6MvaptbZ6oliAdHRe6bVbQrOPh65mK2hpCG86GLttmpEcnYiUUdm4LeDY3uDj+0PPHInIz0yozI6ZGySNxSCpVNmNO8OOLLEypuNRCARd3yA7h1lXytg6zVgCiySR8bp+jge2+W5f55Ozb4qIABGLI9hMscrMYV2tmtZYwtg2R58ErkODJlFlDqUDYSwYqF7cN0VSkIjHYkTlJBasCsg5E7l7qbW0tjxrVVgTDFlYf0MwZKEoSEIWiB8zNtjpU7AkOtUu3DEzk3mlIrUiPTjKgg+JBJ7lZbafALtwVWdHpYRryotSMED4iEUTiXhRcQEbX/sz6fEL4zToJAwXAoFCIzEYFBYwHkuSk124JXTtND0BbhwGDS7zJSkjIC9JwyIQBLJg8KyAquLkrB0uLhpECgGFxqJ5+OhGLpqBzjJUEgaFQonISS1dF9oIdsJNzdrlbsSHo1DJDkkeVYXJI00BdUUJWxMVFCWp4B6xaDwByy/G7+hpcOhkItyFC9bfEQxZKAqSkL1Szs7a5JgUZRwXaTxroUceGD+mNZYwT273iA41SIpzybmQ3FSR1lieUpkVs32hQ2SAbqi/bkSwyaKfvPPzmOW5CfNjNfhIWDyBpq0rbqQnrqlI5wZQjMXIeztlngpfnGIRHqgXHmSwcrXfzpVTEkMN4qJMmfMDL5en1hUmHV1jnximFxqgn8x2PrwncPFM67gIo+hQw9hIq507IgHIXqtOu5Qbu2a6aVykJQDQ+vLRCQ3AVWqKEvasdo4M0g/x0w0PNpg5zyPj/Mi4iY9/3QQYhixEBUMWioJqm+z/4CqQbg1lKQB2R1LKMyKDDblpFB7XQNt9uwJP7gs6sMrWXIsXjUHJTnUqLkq5UpkKLuT15QGvTeWpjeX/z0gtsJDKz/cZGBlr+2HysG9gGLIQFQxZKGoSQJbjsc/jZelhXsp4ChnvGGx5dH9YxomwnYus9FV4CCR8wNzg2jLO9Fpjvvs1PMHtA+MMQxaigiELRU0WyI51bQFjKctAQYZXSopXUV5AWUFAUY5PQY7fI8axpIDVVDk+/49nGLIQFQxZKGoyQhZswC1jl2ZEn9obdHCr377Nvod2h+RlJH6rObEm3jBkISoYslDUZITsiAGeNnLaakGPzHD4pzw/qmHIQlQwZKGoyQvZyWwYshAVDFkoCobsZDQMWYgKhiwU9R9ANjbSuqYIXF8ANlR84WyMmAj3w4cP3sKClHbu3Dl37tznz5+PfoYFBXV2dmpqav4ryDrbay+a4wgbQp6ZbM1DJ27evAmIjGBBSFFRUe7u7gBqRz/DgohUVFT+HWQdtBfPcYQNIacyLHl5SOvWrT0AC1KKiIhwdXXdvn376GdYUNDevXs1NDTgNtnJZbhNFqICYiK4TRZygl98TUbDkIWoYMhCUTBkJ6NhyEJUMGShKBiyk9EwZCEqGLJQFAzZyWgYshAVDFkoCobsZDQMWYgKhiwUBUN2MhqGLEQFQxaK+tEhW5XWVJE6Ov/LRE7hWpV2pTy5tohZcYFRnsesLkz+thPIjjMMWYgKhiwU9UNDFiBsUdK5Q2HH94VknEmsn8BpDK9Wplw+H7JmtmVshFF0pMWSVWH1324dhD8bhixEBUMWivqRIdtQwspYZ+FoKqGtJe4ZYJOVlzwuw3iDC9Ukl2fFnj8WWZzLaKoCl5gdn+dvuiqtPi9yfpSKEB+Bws9rF+VR82Glr+/BMGQhKhiyUNSPDNmavOg5HrICJDQag5ZWl9u4P27s1qtVaVcrwcaExvLUxorUK5VpgGsvxq+KVVKU44+f7V5VAqY3cfI0VaRxGhxAj/n4sSjgu2OLAtOrUk+utBThwaGpNPNQ98swZGH9a8GQhaJ+YMim5R/ycdDmwWOQCCQKzS8YNtsfXK/7Q4am8pSafEbR+di8MzH56fFleYyakuT8E4HBBgQ8Du0Ra5d9PqE4J7EsN7EoK6E4O7E0j9VYnlxTyAQIVZyVWJrLbKgYnee7sSy5+mJSYUbshXOxF9PjqwuTr1SBnD29ykaUF4em0MxD3C9P+JK0f2EYshAVDFko6geFLBBylrP2LLKQE+dWUuADoIlEk1x8bEpK0q4AnK1MrS9MOrHdkx2q7WQsbWkma2oo5+1jeuBAEDtAiU5CIxEIbkVRdw+NQD/9ZKapk72yi5OKW6RbZX7inkW2nnZKLvaqnp7W+UUpDaXs/CP+a39ySAjVdXdUNDEWN9SXi0p0zMxiAaHu6dUAZPEwZGH9V4IhC0X9mJAFMZobNT1URUhfZ+UyR00aDoNCallqnDrPAsLPplJ21pYpNmp8SCTCxFErNcFQSQTJQxdcsNQ1aIq8EBaFQHAp6shEhhulMC3nTTeXE8Gj8HiCnmXRhaRjK+zVhIkYFIaPX/FsDrs6N2rmFFE6FcejLJcUZ+ahJ0RGIMg8lPgVYfXlqTBkYf23giELRf2YkG0qS8nd7e6mLDQlwvnssZBUEyIei+QTkV6xMepyaWrNxYQFIYr8FDwKK7Zhf3Tx+ejV043joq2Onoo7v93FgIgBIln3aLuCXEZ1ISt7n7edJh1LACBrXVzALj4ZYKMngMVg+fhV0nPYtQXxq6J07IxlEhcHll5I3DvbTIKOxVHI5hEe1WUwZP8zvf/9/fD/o6HhD6cw8P+jaYCAD+NO7E82AwIz/D/n/ncjSEH2/62yT/RHFYx+/lRDwH/BqoRKRX2iHxOy9SXsbdN1xPjEEpP9sk5HbE2QxmNRJDIxYppbWUFyZXZsrKMwgYBDKWlnZjGaKlNriliXiti1pSn5+90syFgUEuGX5FhdBrYt5B/2d9TmwREJBH0QsiVngu2NhHBY3Ahk60uTKzPjLp6JuXg+7sKpyE3TjCX4cGgiSStgSlVpCgzZ/0bvB9+9efXg/r32Ed27d+/+/fsPRgV84qS23nv4y+v+90OD/Z0vfmu/B/ynva2tvf3Rb53dfWNP7uHBga6nj+9zvgPq/sMX7wYGP17j37WgA9n3w0P9vz1+0NbKOcgjVXb//ofKGk34o+7a7z183Tc0BNTT8MCzJ7+03x+tnw/fa2tru//w55+fv3r1pvttb1//xzsqFPQjQrYqrbYwPtoEz0PDi4nySIpziwtTSGgkFo9Tm2qZk8UoTQ91V8PiAO4q6WbnMK+O9DSoSmsqTy34C8gafAaydUWs4gMBs0K1tLiJ0jICUuI0Ig6JJBC1vGDI/mca7nmetX+OmqQoL4VCBkzn4xORkJKWlpGRkZaWFuDnp5DJgMVkFQ/ffN394s7KWWHSfLzcQCKVRlFw3HDucv/g0GhZwBn/5tlxS2MlcQEKR9Iq2o7HW7r7P2b4ngUdyA73drYm6WvycaqGyssvKCYuLiFKp3MDx5xKowkKC0tKigsJ0skcCYmI7bn2vGdgsPfZtaRwNxkhASqVSqFSefj4xcXFwZwCfDRA3PJeYTPSi+qeve4dGBoe3dV3rx8Qsk1l7OJDUxT5KAZW6isWTV2zxHXFfHsrUQIOh8FIyu87FldyPsJfn4zHY1CSaqfPJzVUpDaWJTeUpdSVpFzcNwpZ3ySHypLUhoq0C4f8HHV4cAQcQc+84CKr6ESAjS7/H80FZWdDYoxEeUl4IUHxuUu8N8wCIlks6hPIcnoXhLrBkP3Hej/U9/pJ87G50YqC3FwIBJ+seujstVu2btu+ffu2rVvnz2CZaSgT0CheManDtzrf9r79tfXych9LbiKOC4HkQhNMfWe1PAMoOnpNDva8e9nauCzCkIpCY0VUZ+3IuNfR3zMIjSsWQpDt6WhNVVOgoDEUflErv6gFq9duWL9AT4bKxYXACSiEpc7dtHnznBRvPTUZPA5DpfPsbfrtbf/Q0MC7ezcqFrmZoVEoNAarYeG0cNnKrVvXL5jF9ppiJyshQqVyC0vKzdx48vGLN1CJZX9AyNblx60LluKREI6YFwSEokBKTQFjhp8kEYdCIIipq0JKs+NYXtJEPFCPtKRF/mX5zAuHPZfOdD17lpG3d6opBYSsmY/FhTxGxqHw0/v8nA34AEDjBcQPHI85vNhOQ5DAefGllp7LPr/dRUuahEXjpWVM8/MStrD0RShoELJ+rtWlKWfW2IjyAZClmgZOqSpL/edDG/5rQ69Ndqjv3d0cZzMVBAKp6+hd8qhn4MMD/nD/m8untyqK8fOJSR+59RrA5XD/2xeXtkkK83BxROFRnn2qCdgwkp+j9zWnN2nhiDK+i6ruvhpNg4KgBNnO1mlqCnQSXcd3TkP70+Ghgb7uX5d7iSEQCIpe5JnaR739Q+86f8vb+5OaFN8oZAeAW93794O998q2YLEYHJHsk7b04fPXQHHv3w89e3hr99IkAR4qCoPjlzfdf+Ha2Br9nvVjQbYq7Vo588AScyUhPJ6P7s5yryxNbapIrc6JinWVwIIvtBCyanr7jsbsW2yuJ0nAoFEC4gL6epJ6GoIqupp7jieUng0J1SXh0AgaH7eunpSplcq0lT5BLtJkIhaNQatqSqjJ8tJwKBDPdL6V2yPP73Y3U6MTcBgSiW5gIKUszk3GIIE7sLyO7vGjEasYKnQSEonBqBiqnDib1DiB43r/2hCEbH/voyIXSw0AsjqOXsUPgevxw/n6frjrtzsz7M2UFFWP3X7TN/R+eOBd953jUqJCXFw4Li4kBocXUtQvaH4y9gRvTN9ujicZRa5pfABew1ARtCCbpqYoLiy5NPPW63f9HMj+vGIEstrhpy8/BCALpHXcu+Rrr8dL5933B2SH+h7W7MNisQBkvVIXP3zeOVLiYH/vi0dNyRaSQFCDwknPXJvRNQSNN5Y/GmSbcsOmWErw0Ak0OknLWvPwGWZTRUrRHgdxYQqdhqdS8ILCPP6zgy5djD+40lZFhk6j4mk0soaexvod4VUlKXWFSSdXWxnKEoB0bm5hxgLfnKyE0xscdZR4qVS8qJRgWKy5maEoNw3Px0tx8bDKyIzbNt1ATIhMoxJkVCUZSRbWCnx0GlFQXDgi2tzZTATYKY2CF5YVn70mrO67mb4AkpB9XOJipQlC1gGAbPfHSHZ4uPft23v1NZeqah92DwPp7wd73raelBYXExOdamWuRQDumQiEYcy+Fz0DQ0Oj32pK32aFJ5lGrbnysGskBRKCEGT73tybbqSnpe7e8GKoH7jzcSC78gNkz3Agy3k99nJvVKCauOSR6x29g0DtcCBbu//PkAU29fUAmRXoeDSCSzht2emOwd8h0crzwzUXVKU1lKXUFrNripPry1LAoQfgmNfUupLkGiCxiF1XmtJQnnoFbIdNqS1glOYkluYyLhUng4ngQNvUxvKUSxeB9KTKAnZdGTiDF5BSW8goyUkAUoBiLxWwqvIZlwtZ9WXgINqGsuTLQDm5iVWF7NriZHDXRezakuTG8lTgBwD/BndakjzR04D9pX8YyAJn7ZvXHS9edvT19A4ODgIIBS/TUcgKyKio717HctLkQyERgpJq687deNMzMFIgDNmvreHhoe6uzted3SM9AT4PWbAGh3u6uzs7ugaHRrpx/QVkf+/v7S5Y6cNHxiG4RGDIQsYA+D7DPk7iuCZUANZjP47z9wPQv2NoQ/aP5oL3wwM9rzP3Lluw+dDPr96OZv0IWX5Zdd3Smso10wKoODQez2vklNZw/+VILAtDdgLEYcooVr4EWVAfcwH6MmTfA48sTzd7KdLwOCRKZuaqrK5huLkA9vdqKEMWAUayD972DgwODfZ1PrjkoyGu7hJ589HH91d/QFZOU7+y9cn9hhwrfjoWiaAJSiw/kPmqF7y2YchOsP4Ksp/oU8imLH7wrBNgEyCggCe3ihylxPAoHFXUaNuZhkEg9+i3vmvBkJ2Mhi5kuRAIqpSSW8qCFStXLl8yy0dPjY7H6UyJuvP4S5D9tbf7VeUuNj/4VhorbhaZXdcOnOswZCdY/wCyWDzRk72o5dHTN2+6Ol69aK4vjA9wppFIFLKQvfeG2086IUFYQDBkJ6MhDFkuBJbCzS0M9lAXExYSoFFwGLT2X0IW+O5g76O5LqJYDBqJowQuOtDdN1h3FobshOofQBaNxUsZOsxdvGLD6lWRwV6SEmL8/Hy8vAJq2tNq2l+/64VKDy4YspPSkG4uUDJ1OFxxq/3+g/t3b2VsmyktSPnrSBZsGhweasrfriBMxKDR3ALWp269qDi1FYbsROofQBaFxvCISJmYmdva2trY2to5OE0JY+06V/6kCxwHPfz/Aev7EbQhC46FBafKTmko++jG/2JFL7BHQTE4m0HDFybbvlKZVleSXFuSXFcK7m7c1u/ckIastr1n0f03fQODg/29r5+1zPDRsQhgt/zy8R30eMhy1PG0fedMLwEiHk+ianqvPrFjtR2ZYha9FobsxOgfQBaDw1uFsMtqGpqb7zS3tNx7+PPzl53vevsGoTOgdkTQhuyV8uTCU+GHt/vv38bx9oADOwOO7gvNOptQW/ZhhYJ/4rTsPd6zp9sumOl0/HQSpwcCuPYB6A99DOpLmDuXOMxKtV29MfRyScqY70LAUIbsJ124hgb7G6vyMwsrOt/2jeQE9FnI/j7c/7Apf4qhEgqJQSCE/YIiXBXEzGLWwZCdGP2zF1/eqUtGRnxBWtCGbENR4sZUI10FfglRbklJXjk5AXUVIQVZfjkZAQtLy+MnQT6O+8rfc8o2trq0KFlKSSxtXSQYtBYzMg+HnzoUeTGTMdK1qzovJsyUW0SE2yDIoegC+9Ovf+/+YSALnLXASdjT0zP24fHzkP19uO/t83NLIlUFSAgEmkyi8NFoRnAkO1H6Z5Ad108WooI2ZJvKki9lhISYieGQCCI31T/Z/fgOD19tISIWTSBwu3o6V1WA7QYjrQoNZSl1peBEMI2cxNFCOEMVgMT6UtCcoQepTRXsrQlqsqIUaRUJALJNlWmVmcE2IlQBMdFgps9lTqNERVZkmAG3mBjdMNixMI8FFAJ8saEcLAHIDxhc76s8BfBo28WH3zCyFwDc//QG8B/4h4HsZ/UFyP4+PNjfebfcz14PHAHGxYXBkwzgNtmJ0h+Q5YIh+2V9n22yqVfKEqbby1KRSKoAT+LikPqylIzNDvzcOAwaZWitlpGX0gTSLbnwTOSJXQF7Nvke2hWSm5HU8KEl4WplamV23Kl9gfu2+u3fFnh0f1hOekLxuejTu/13b/DavTkgK4vZVMY+udqCRsZiuXkcguxPHgo9dyzq3N7gQ1t9dq33OXg49lIRuyor+szh8DOHws4eDjt3IraqmHXhdOSZw8DH0KxziQ0VaVfKkovORh3b6bdvi9+x/eFA8PsNpzKAImT7Hpe6WGn9Tci++wjZMX8j+AKsv/7EMnE0Cg1DdmLFgewvo5A1CDlVe//LkO1/VHsAhuyovjlkr1WnXatImOEgS0MhaYK8jKWhQIR4YZ8rAFk0CmVgo5Z5MaU6P27nPBMPB3lDQ2k7SwltdXGnKXqLlgaXFiZfqUw5v9U1zF3VRF/GwlzOUE9Kx1AuPMXjyDonbzs5A01RYzOlBZsiLuxw9zXlI+BQSCxeRFzI1kpuSqD1zEB1Y11xfW0J13jXkjzGiTU2ZsYyxvpSRvrSwTEueTlxa5iGDqayJkbS4TN9S3Pj18+z8XFS1NeQsjGXMtCXcfMyP3osvqny2wwVgxhk378f6Hv3S91pCx05IAaV1LXeW97aDVyjn+Xs++G+t50tucuE+CjiytoZtW19/YNj2xLePG/bEmTBTSbAkJ0wgXNx97579aiBocUHQJYgpr0+varrbc+fX2EBt8Het6+vZ6zEYDBoHN4wIOXavSd9A+CkBtDVjwLZkUh2aWh9KfvAT6a8VOBGiLdxMSkqTT223ExVBIuj0Sx8zHZscnIUJuOxWGFNtaU7oxpL48I1+Eg4jJK2/LyFbktT9Cm8dGNP5/xzYSxXcRIOyS0qkLQ4qOhw4Aw/GRwGiSSR9Rz0F81zWrs+8MgGF0MxNJ6IU/OwuZCVdPGIv6uJIBaNQiJp8zeGlV1IOvqThYE8N05acfO+8MOrHdSESCQS3i3CYdUcK0slChKBd4ycUsuZF/xPf9RXN7QgC4Q2v9ypnRfvLS7AjUajCbyiNiEpOfWtbz8TCgE87r5ZkRHipMNNxlN4BEJSF9e0/jIWx8MDPW8eFHqpC+BJVOOYdVcfvRndAAVBFLIAOR/euLwhxF2JmwrUIJ5A0jWPOFt8tXN8X9f3Q71dTUVn/BwM8TgcBounSyizV++59rDj/8XT96wfBLJUBAJDIKhb6TCCFZUlAZzhpBREl28ObyqLizEQAaIWCRXJFdsja0tY2xnqwEcskTc0cWpVfqSzAAmPRgkrSs5e6Z+XHrt3g/eRQ7H15az10fJ0IpJHTIC9LLShNPnQPEMSAY3i4XNnelQWsmpL2KXnw73VsMCOND1s8nOYdQWJG5N0ZYhoJBId8VNwWV7izmn6+jLUkLm+xelR84PlCVgURUHlwOGonMOBDE9pJBIpKKZ+9kJyw7eYmgtikO3ryDm8VENVUVJcTFhYWERMQkZJzWfx0V86P/Yo+KD3g51tK2ZHKcpJiYuJioqKKSqrLjmY0TPwEcdArDQ8+C5r72wxCSnnlK0tTz9OevD9C6KQHep9dnx6op6ivJS4OFCDQL1IyygZmMxsedU7mmNE74f7XzUnRfrIycqIigASFZOQVNHSm3XmJoR6xf5ZPwhkKQgECovlFuRWUeRXUhCwctTftif6UhGr6UKYoyo/DoNW1JXddTzxalVa1mY7KgmLQlJ8w53KiuJilPipRAwOj6FxEx19jHYfiCrLZ1+pSt4Up8BLQvKKCSSvCGuqTDv6kzGFiEHz8HszfRrA2DOtMifSTwNLJo9AltVUlpy71cFBjYhCIkTNLM+dCI92lZHV1jpyOrH0bDjbRQSDQlBoRAdfg2B3dXMlCjcVLyKmdDgbhuzf0PBAf2/3i+fPnnzQb89fvHjT++6zkexQH/C8CZzQo1mfPOnsBAe/j27/oNednb/8/Muz128/Fw5/v4IqZAf6e96+ef5sTA3+9uzlq6537/pHc4zo/fDw0EDHq1ejmZ48efr0KVDXr990w5HsdxDJIpE4Xu6pM30rLiZdKmKPvOK/UpFcf85PS5EHjUFLa8luPBQPQDZ7ux0NXGAG5xpgWVyUmn/Yx9lSWowfICgSjUFxC4hOXxNWX/EFyPLye7M/D1lwEfK8yNgpsjgEgpdfNHWmnYkkb2Ccc0VRcskJv1ANLBqArLhgUKCBt7tmTJhhVKhhSIBzbuG3GcgAtRdfwMk5PPSJRhYvHd38qcZnBrKObhkjcAFUcBPELl6ovvgCDvP4GvxSFYJr3I7mGBWYcXQjNPWjQBYITQV4EpeFgv2l/thamdqUF2anyo/FoiTVpTceiAMgm77BCoxkMbTAKJeqYub5o5EnDwSvmWMz1VSQSkThCCQjZ9vSUvbGz0KWzufJ9KqtAMiYWpE9BrK5rGtVaVcrWFvY+sIUNImElVMQUlBQWL0xorEitfp8GNOOF4hkyXJqB07EluQmlecmXTgdWZCdVAOOmPjjb5k4Qw2ysEYFVchObkEbslerUptK45LtZSicF19Jy0LBPrAfM6Rdq2TMcBIh4dEUcZH4nwJrS9kbYpUpJCyOXyR+tk91ur+tlaJvql91IfPcJnsZYSIOSzQwti4uYq6NAdtk6aL8rJVhQJnHFpnQSBg0nmztbpF5Kmzfnoii8+FealgiCafhYXORs+QtsMecPVNVpchYNBKAtb2PbUY2G5xEPD9+WZwKAYciU+neSW4XcpIKz4QxwnSmJk29VA6/+IL1PwiGLBQFbcg2lLDSNzsZK9ORCASKSDT2t8vJYX3ayplWsM9VmJ8E0FBRVzY5Xk9CmEylUSwdrdIzki6f9hQTpgqK8oXFWsW6SfJS0DyCPBFz/ItP+NsaCqNQCDSRZO5rk38xOf+AuzAfuN4tnogXEKTKSMouXWBGIaBQaBRWXGbDnihgp1erpl3KiWBqCZDxaF5xwfkbI4BAFfgNVyuSM3e6WCkSKGQsgYTn5SUJCVIEBalB09xHvjXm106QYchCVDBkoShoQ7a+MHHldBNDXXF1FWF1NVFDG82VO2PqP32VVFvEytnjEequpKMhoq8jrqMlnpTskpXNqitNrs8OTXRV01YH07U1xbTUFWYsDSi6yMjY7OBlLTFSpq2b/qHTjOoCxrEV1kBOVRVhM3vt9VsClwZJamuIqKuKqKuLhS8MauSM4GooYp1dbKivKerkYpR9IbnpA0DrS1lnd7q72sqqKAmqKAkZmSnNWOhTlMsEV8cZ81MnzDBkISoYslAUxNtkAUhVcibi4hhskP1TYDgyt0tjeUpdCbu2GFy2q2l0rC1nTC3wxdLkmiL2pSJ2/cjrsipgKzjW9mOZHwqpL2FdKmTXl6UAewQ+/rHfP2aN4bTMgtN3AXsZ+0uAf4P5y1Iu5QMlsOqAEsCf+g1eeY0YhixEBUMWioL6i6//zX9G8IhHmfun9D/7b2b7kkd29E2i17GGIQtRwZCFoiYXZGGPGIYsRAVDFoqCITsZDUMWooIhC0XBkJ2MhiELUcGQhaJgyE5Gw5CFqGDIQlEwZCejYchCVDBkoaj/ALLx0TYNY9YxhP39u+B8nLgo988/PwaqHxaEtGfPnvnz53d0dIx+hgUFvX37VktL619BNiTALOtkFGwI+fjeYGFBakNDfSssSGnVqlXJyck3btwY/QwLCmppaVFVVf2HkB0YGLh582ZERGhYqB9sCDnA39vd3S04ODgKFqTk7+/v7e0dHh4++hkWRBQXF9fV9f+vwfEZyH7Q+98BQsOGjv/QaAXCgojgWvux9ReQhQULFixY/1YwZGHBggXrKwqGLCxYsGB9RcGQhQULFqyvKBiysGDBgvUVBUMWFixYsL6iYMjCggUL1lcUDFlYsGDB+oqCIQsLFixYX02///5/U67Bwx1f72gAAAAASUVORK5CYII=)"
   ]
  },
  {
   "cell_type": "code",
   "execution_count": null,
   "metadata": {
    "id": "addressed-relative"
   },
   "outputs": [],
   "source": [
    "sns.heatmap(matriz_2variables_k5, annot=True)\n",
    "plt.xlabel(\"Etiquetas predichas\")\n",
    "plt.ylabel(\"Etiquetas reales\")"
   ]
  },
  {
   "cell_type": "markdown",
   "metadata": {
    "id": "careful-shaft"
   },
   "source": [
    "##### Métrica Accuracy (exactitud)"
   ]
  },
  {
   "cell_type": "code",
   "execution_count": null,
   "metadata": {
    "id": "rotary-hardware"
   },
   "outputs": [],
   "source": [
    "exactitud_2variables_k5 = accuracy_score(y_test, y_pred_2variables_k5)\n",
    "exactitud_2variables_k5"
   ]
  },
  {
   "cell_type": "code",
   "execution_count": null,
   "metadata": {},
   "outputs": [],
   "source": [
    "print(\"La exactitud del modelo con 2 variables y k = 3 es\", exactitud_2variables_k3)\n",
    "print(\"La exactitud del modelo con 2 variables y k = 5 es\", exactitud_2variables_k5)"
   ]
  },
  {
   "cell_type": "markdown",
   "metadata": {},
   "source": [
    "##### Gráficamos los resultados y comparamos con reales\n",
    "\n",
    "Nuevamente para poder comparar visualmente la predicción realizada con la de los datos de test, vamos a generar un dataset con los registros de test con 4 columnas: las variables preditoras, las especies reales y las especies predichas, de esta manera podremos realizar un gráfico."
   ]
  },
  {
   "cell_type": "code",
   "execution_count": null,
   "metadata": {},
   "outputs": [],
   "source": [
    "df_grafico_hiper5 = pd.concat([X_test[\"PetalWidthCm\"], X_test[\"PetalLengthCm\"]], axis=1)\n",
    "df_grafico_hiper5[\"Species_reales\"] = y_test\n",
    "df_grafico_hiper5[\"Species_predichas\"] = y_pred_2variables_k5\n",
    "df_grafico_hiper5.head()"
   ]
  },
  {
   "cell_type": "code",
   "execution_count": null,
   "metadata": {},
   "outputs": [],
   "source": [
    "# Visualizamos para comparar\n",
    "\n",
    "plt.figure(figsize = (10,10))\n",
    "sns.scatterplot(data = df_grafico_hiper5, x = \"PetalWidthCm\", y = \"PetalLengthCm\",  hue=df_grafico_hiper5[\"Species_reales\"].to_list(), s=250)\n",
    "sns.scatterplot(data = df_grafico_hiper5, x = \"PetalWidthCm\", y = \"PetalLengthCm\",  hue=df_grafico_hiper5[\"Species_predichas\"].to_list(), s=250, marker=\"P\")\n"
   ]
  },
  {
   "cell_type": "markdown",
   "metadata": {},
   "source": [
    "### Modelo utilizando todas las variables\n",
    "\n",
    "Ahora vamos a entrenar un 3er modelo pero utilizando las 4 variables del Dataset. En este caso no podremos realizar la visualización pero si veremos la performance a través de la métrica accuracy."
   ]
  },
  {
   "cell_type": "code",
   "execution_count": null,
   "metadata": {
    "id": "preliminary-comparative"
   },
   "outputs": [],
   "source": [
    "# Generamos X e y en base al dataset completo orginial: data\n",
    "\n",
    "X = data.drop(columns = \"Species\")   #variables predictora\n",
    "y = data[\"Species\"]   #variable a predecir"
   ]
  },
  {
   "cell_type": "code",
   "execution_count": null,
   "metadata": {
    "id": "finished-scale"
   },
   "outputs": [],
   "source": [
    "# Dividimos datos en train y test\n",
    "\n",
    "X_train, X_test, y_train, y_test = train_test_split(X, y, random_state=180)  #por default 25% de test"
   ]
  },
  {
   "cell_type": "code",
   "execution_count": null,
   "metadata": {
    "colab": {
     "base_uri": "https://localhost:8080/"
    },
    "id": "involved-bahamas",
    "outputId": "8ed93140-4a68-4f85-d464-4707d9af1531"
   },
   "outputs": [],
   "source": [
    "print(\"El tamaño de X_train es: \", X_train.shape)\n",
    "print(\"El tamaño de X_test es: \",X_test.shape)\n",
    "print(\"El tamaño de y_train es: \",y_train.shape)\n",
    "print(\"El tamaño de y_test es: \",y_test.shape)"
   ]
  },
  {
   "cell_type": "code",
   "execution_count": null,
   "metadata": {
    "id": "japanese-gossip"
   },
   "outputs": [],
   "source": [
    "#Instanciamos el modelo que utilizaremos: KNN y el hiperparámetro k=3 (cantidad de vecinos)\n",
    "\n",
    "modelo_data_k3 = KNeighborsClassifier(n_neighbors = 3)"
   ]
  },
  {
   "cell_type": "code",
   "execution_count": null,
   "metadata": {
    "colab": {
     "base_uri": "https://localhost:8080/"
    },
    "id": "extended-prophet",
    "outputId": "af73254f-4691-485f-c6b7-df067daab507"
   },
   "outputs": [],
   "source": [
    "modelo_data_k3"
   ]
  },
  {
   "cell_type": "code",
   "execution_count": null,
   "metadata": {
    "colab": {
     "base_uri": "https://localhost:8080/"
    },
    "id": "satisfactory-capability",
    "outputId": "220644a0-f766-4f2b-bd02-959df46ebb9d"
   },
   "outputs": [],
   "source": [
    "#Entrenamos el modelo\n",
    "\n",
    "modelo_data_k3.fit(X_train, y_train)"
   ]
  },
  {
   "cell_type": "markdown",
   "metadata": {},
   "source": [
    "##### Probamos nuestro modelo\n",
    "\n",
    "Utilizamos el metodo predict para probar nuestro modelo con los datos de test"
   ]
  },
  {
   "cell_type": "code",
   "execution_count": null,
   "metadata": {
    "id": "agreed-library"
   },
   "outputs": [],
   "source": [
    "# Probamos nuestro modelo con los datos de test\n",
    "\n",
    "y_pred_data_k3 = modelo_data_k3.predict(X_test)\n",
    "y_pred_data_k3"
   ]
  },
  {
   "cell_type": "code",
   "execution_count": null,
   "metadata": {
    "id": "informal-intersection"
   },
   "outputs": [],
   "source": [
    "# Matriz de confusión:comparando resultado original (y_test) con predicción del modelo (y_pred_knn5)\n",
    "\n",
    "matriz_data_k3 = confusion_matrix(y_test, y_pred_data_k3)\n",
    "\n",
    "matriz_data_k3"
   ]
  },
  {
   "cell_type": "markdown",
   "metadata": {
    "id": "historical-import"
   },
   "source": [
    "![Matriz de confusión - Python.png](data:image/png;base64,iVBORw0KGgoAAAANSUhEUgAAAcwAAACuCAIAAAA08qo0AAAAAXNSR0IArs4c6QAAAARnQU1BAACxjwv8YQUAAAAJcEhZcwAADsMAAA7DAcdvqGQAAGO0SURBVHhe7Z0FQBXZ/se53fdy6e7u7m4Q6e6uG4Sda3d3dyvSSrfStgKCubu6FogojfufueCKrO5/3+6Kjsz3fd973jPnnrnMmfnMb86c4Pr9byszM3PLli2jH2DB+rI6OjrYbPa9e/dGP8OCNYkFQxbWfy8YsrBg/SEYsrD+e8GQhQXrD/0PkIUFCxYsWP+rYMjCggUL1lcUDFlYsGDB+oqCIQsLFixYX1EwZGHBggXrKwqG7I+j3t7ely9fPn/+/BksWLC+sl68eNHV1dXX1zd6+X1ZMGR/HL1+/drW1lZdW0ddzwA2hKyirqGkqqqmozsuHfb3bE19QwtLK4Czo5fflwVD9sfRb7/9pqysnNTwS8rdHtgQstOavaapPzFvvByXDvt7dmrzG1VtHeDB8f3796NX4BcEQ/bH0ZMnT2Tl5BIanyQ/GIINIdut3mvInp90+/W4dNjfs1PaepQ0tYHIBobsJBIMWYgahiwUDUN2MgqGLEQNQxaKhiE7GQVDFqKGIQtFw5CdjIIhC1HDkIWiYchORsGQhahhyELRMGQnoyYasvcHx3tchn/p+4PsewMj/lA4uBf2f76jjwbKH90j6K+4o0880ZAdqayxHpfh3xisoD8dQE6tfcXjOeZUAffy9XY0xjBkJ6MmErLA2cxsecto7v7olrfMu73se8ApPj7zP/H9vqSbLyLKW0Pzr4UW3064/QbAX/K9Hsad14k3Ophtfexx+f8Ls9veMa4/iq5uDiu8GVLUGnu1Y2Iu14mD7P0BVlvv+Fprfcdq72f/F7XGvtfPankdU/MgrOhWaNGtyIZnIPXae5ktXYk3O5Nuv2F9nePJvPMqtvZuRAmw09uRl58wWnrHZfgahiE7GTWRkI2vaXXddsB25U6b5TsARtiv3e+w8ZDr3guBxfcTbnezANT+6Sv/m9tfOi+czy8hQRYQpCnp251qTr7Xy6qr0vEKVPSMt911KfHen74yxqy7vUm3XjNae1l/mW2c2W1vwzaF88nJkviFSYIW9oeaJiaYnSDIguFeX/CJ0zYrd9quALwLqDX7dQect5/xPn8luvE5sw1A7b/6ewHIMq/Vy6ipUwSFyCKSstPPsNr6mDceT125TNUjRNF/fVRr/xfvjsCuga+3dCfdefO/Qj82P0fL1YAmKkYWkZGeujTi6ptxGb6GYchORk0gZAej84u1nAxIdAoaT6RIaoqb24uoKhBoFDyfqO6Ss1E33v1rPA3GVzfpWKjjCWiCsKz90RvJ7W+Tik5wiwlhyGJaM07Gto3LP9aD0UVVNsu2ux4qib71v1yu9/vZzU8so1yQaBwKZ2i9oxYMzMfl+QqeKMgCQeUbt4UJfKJ0LJGIJYuKmDuJG5lwi/BjKVQRF0ZAzStm+8D4b/1PBnfR67N5jQAdg6XQpJMOMVt7EutuGkV64mk8RAGPoBu9rC9Vx70+5vWfvQ+cslu9P7img9n+Pxx5VvPLoL1reSSEMSQ+MZslYfWd4zJ8DcOQnYyayEiWeacjYPNcXjE6AoUTs53jV3jH7/B+KSURJBpD1fexO9GcdKuLcacr6U4X424vo7WHcfs1kJJ05y3w/PghZnmTdKszEYg3WwAifyyZ3dbLbAY3xda22Yfq4XFcOAEpuyPXWXffJlRX6sWyNUJTnA9dTmzn5Aev6j7GHSD/a7CoZuDht4fV2uW9OARH5Ra2D/Qsf5kIRNZ3wedHICcQKCVydgr8EiBc+rBTIMTrZzZ3g7/nxsupK2dxIdBItJ7Vtsvgr/3ww76eJ6q5ADzssVXXDVzVMDgchmQyJet2SG65eYwvhZuEofLKzCuOufaacbsL+CWM5m5mWx+j5S1wYIFjxbzbB5QAtgbcfcepSvDZH2y0Ga04sBmU2fqWcbsz8ebLoJMnZGURGCJZKmE/UE7ilftTNmzSDGVox22MutPHgSwYU7NagcI7wfKBolp7Gc1d0ReyVa2UCHxC5seb4291A1XJaWMdAHd6h9PgcAdI7P14/74P/J4e4NcmXvstOi+TV1oChaeLWi0OrYMhC+vraELbZFvfRB3bKCQHUBUv7bEq8g5wvXVYe6sjUGiEmK3uigseW4/Zrt5uvXidw86cwAv1TsvWGrCXWG8siW/uBYKdxPpWj237zabNM05b7rD9QtS1XhYQQwHPs+198TW3p27aaTJjgRFruoymGAYzCtn4qmv26w5ZL9lq8dN2z4ybDLAdYJDV2h1d1jhl9Q6TlIWmM9barT3jm3srsqBU2VqLiwtBVDHR+OmA/bqTQZVPgas6vq7Na9dRk2mLDNgrbdenh196Bu4UuODbexMa2j22HTFNW2w4c52Kod4PClnQCfV3LcMscUQijmblW9PBaOkMObRFVJobSaCSXPf4ZlY5rdxhs2yD1bw1XgX3/I+dNZ++yGj24dCm18ChYNz4LfjsBdsFSw2TF1gs2uubdzepBWxhAG9Rt54Hns62AjfN1w0PpdEQaACy8fuSbr4MPJ5utXSn5cJNlstOx7aCL6aAuki6+sjv0CnLGcuMU5dZ/rRnypFLkTVtLoum0YUoKBxBJGGd/eYTbsdr4m52s1o7Q88X2i1aa8BaZL5wj1dmM0B8zq16AAhgQzMu2sxda5j8k2FAMJnODUMW1tfVREP2yBjI3gbQ2WkXoIZAYZDyLgabiz1WLeSVkyfy8ZOEJejSsnQxYSIQadgvjbzaEZWdIaiiSpdRF9Z1FtFWp0nI8SjFB9e8BMLMyLPHJQ10KULCwoZmspb2JCIOhfwA2bLLOuZm3OISZGEVvXnpcXfB92D++zbzyCpwyyhJWVpyiwpQRVQV3Nhqfp5kQQEuLi4MrzBFXpNPRcf6SENcVYW2vSZdSlbcJVhKUp4kKCE2le2Ze5/V1hdTVqFhrEgTkaGqO2n5uJJ4eH9wyIYAkCWNQDapGYDsVjFZGopIo4Sc8EvP1XKzp4qKEfkEaTLKdElJiqAQRczLvfBxUtN9q5RE4ADSZa0V3adQRUR5FJyttlYlNb9NaLhny47klZGjikuqRDCERUVRKAQKD0B2P+PmS89li0UkpciC4twyISE3e4GAN768Us7WBjgrBDX0RPX1aaJAUb4OG1fySUtgiQQkFkeQUOBV01OOmh9YdtOZ7QVUMa+qrqyFC6+YDLesusHm2oQbncw7PzvE+/EBO5XSFLVyE9dQxhIIMGRhfV19E8giUDgJp58Cqx6EZpyVkZZC4Sm8VjFTsh4k3XxsaiOMQCKRRG5pzziz8Kk0MWVp54Xh5XX6TrZIBIJb1WLKuZsey1J5RegIFElzcXFC3S1te0s8kYzhlrE+0BhdWq2irYxGjUKWeacj+sxWEjcQ6QhqTTsZ2/yOWVssLSSIxBJlwhb6XbzpkijLLaGuGLgmKK9QRV0FgCyPnqPTudvhFfdiqm/bhVngyCS8lvfUzBtBR3dhMUg0SVJz9tGE2y8dIkwxGBSObmOxvjyu8ZF5oNUkgCwRQzZ3K7wbXtxokxROo3Lj6BKam6/FNPziu34+vzAJicGRpNR1k2bKGWvTZT3cL94L3ruBn5cHReA2Wn8hJK9W104WS6Lx2M2Jqn8WdHAbNwmPJfPJJ+6MqXvsuX4ZFYNAE0abC+Iq6nW8bYHy8Lzuwdd7EptabSMCSWQKjlvc7tQt392r5AyleBR83HNvTpk/nZtIQOHwOhvKwqsfRNf/4rN2oaCUEJpEl2IdiSiukjMzROOJ3MqeXkUPQvdvEJIRxBBIwubrAkvv+m1ayi3EA0MW1tfVt4EsAkmSkJeZ4kURFkQTBXjVHU2XlCe0Ag90nVbukkgMlmIY4nT6DvNKq9eBPO/T9WHH90pry3IhuPgdZ3qlV3utXyQoK4xAoKVc1vplXBBVk0VgaXilhaF1r5Ku37f31yUSRiHLbutOLDxKFeIdgWzMzVehmxLIPBQ0Vcl0TWliy9uE6iavEyUBhS1JN28ZmBhwIRCC1n5eVa8Zd3tjSwsk0Gg0EiVkHeZ+vNz70HEJfgQKjRHxmRldU6siLgb8TjH/uf5VL1ltPa6LWZMAsjgAo+KuYVJmxigMiSymIeW8PupWD6P5VdDuFYISVDSZLj+3OKb+57CcSo/DlRE1jx3infAUMkrU3HbnBZ/j+SYBFlgCCUu29Sq85zQjGLibYoSm2B28BgS2oWePy4gjsCQAsgcYLe8Saq8bhLlhiZQRyEbm5qlaqWGIFJLS7Ojmd4lXfw7KKPM61xBz5Vf/TSsFaVQ0kWx+vDmx+R2r5VcLXy8iBosh8eotOheYVarvYoYnYPEiisab81yS4mgUMpbKY368LeHW67iLGXyycJssrK+sbwNZJIquqqfJWKDPnGc8Y5v7qYb4OyNdC7qs3aWAK5luHT8152fwRUdbL/DwGLR5AfDMB4SZVCl5ea8IRRtzYXVVuoySrOdmr2NHhWQFuLB0wtS9UVe6mDd/mRqrTyJ9hGxSyXGqMN8IZKOv/urONCZSsBhhLct99UywAzy4C+bdd+yWFkMzIwCyQrb+3pffsO4NRGYeo3BxAeEzlldBwWaqnLUnn5wCj6iEbPD8qOIcMVEh4HfKxS4PaXrHvtfvvm7eJIAsHog0lWJmG7AXGrCX22/KDa/5jdU+wGrtDN6zEoAshsKrse5K/K237PZe4KgmNN4zdZQG0IwiUCSd/eUcPGQM1HnlVanivl7FLdYRpsDRxmqEOKe3Me/2RmSmKykhsGQOZFvfJdTdMIxwx5KoHMi+Cz5xUFaDD9g7yWlDQls/+DKtDdhFH+Pm84Atq4W4aWgixfxkS1JrL/tmm46bIwaFRhNpdDVHFRc/ES0jXnllfnkds00ZllGBRBIRy83rnP88qeVtYmURv7wMDFlYX1ffqE0WJ+X2U9j1bsbY174PgH+8ASGLxfFYx7vl/jKyidXS4b88QUQEDUCWz3f+1AO57ofyPI9c9DiU55fdGnjyGAhZHJ3gvDPiahfjLyEb1fTAwUeIQESihbUt9zYwwfIH2ffAt1jsltYRyAra+HtXdzHb+sNO7UQggASEqFOQ86aTU3dxdro3w+/cpYSyLDERQQCyMlFLghveAKSeHJAlYGmGHlVPk1p6xvSyGPoIWSqvxtorCXdGevUPJl5pNTDAYPEYlLKD9YaTrnvOex7N9ziU77avMrrxoXWYCXBwMWqBTumtwHPDX0L2bcC+jZIyaBSeRHLZnHC3DzwxwBvkIPPWi4+QPdGc2PKOeeWmios1EoXCUHkMlx9125HpfuACsF+vAxeCcqstwn2IJOCv4HXIfZLU3J1YAUMW1tfXxEK2K/LIBiFZ4Q+9C8b1Yx8H2V9HtrLvvo06sV1aUxyALL/BktCmF4m3u+KbnoZkVcRc7YjIzhJVkeBCEfAioUG1zxOvP7D00MFhRyGb/Adk8ZxI9vqLwGWBJG4iiiCttyA79jYQhPYmXO+Obehk3rozAll+C2/3kheJt7qi83PEMVxoFELENSmo/GewM9DN5+HFtyJKW5nXaxXERBAoDJ8d2zPvEav1zZSF8RzI6lttq/kBIVsHQNZipHeBT80r5qcdgT+B7Lo/IDuUdOM3+ygzPJmIItu4nLsRd72DcbszqrI1pPRu4s3nzqkeXMAhoxpa7qpOutMVfOqouNBIF64/Q7YnPOO8krEsGk8giESFXOtmtHQzW7rir3XHNz4ZhSyBbHr0VvytN4wbD8283YkYFIbMY7LjcuLNrsQbz+Ov3A+60BJz6YZjYiSFTMKQuXU3NMY1PY/JOsErLQZDFtbX1URCFog7/NfO4RXlQaBw4o4LQxpfAU/lf2wFwknmzfuGdgCCsVT9YOdTraNjwO71Mi5XqLuYoHFYkoSy5uzDvuerpm5YR5WQ1VxdHlN+WcFEF4PBo4j82guOT12/XlBaAI3mwvJLmu9tSLjxMvLUZhIvDYnlU4nfFd7wLC5nP58EP4ZA5DUPtN2V738yS9vLVjMpN/5mm5GdKRLFRZAx0F54wnH5jiknS8ztJPBEPJYsrzPzgF9Wncf2LYp2mgZLjiXeeWBir4LG4dBkXc3UQ37HT8goC3AhUAiUlvnGUmb7wNcYvzvOEwVZsJ9sTFmjvqM62E+WYuZW9CCxpWdsHsatp97r5vCJkNAkbsW5pTHXRodOMZs7fbfMoQnyYAgUEbdZ7meq/U5mafj583svib7y3HvdbDwOiyZQhT1m+mZUGgVNwWAQKDxRLGp73I2u6LIa8MUXnojjtvOufhFdXqcf4EygUHA0PpW0fV4nC+xmBQjrLQupexq4Z7OwIA8ahxfwWe12OMd56yn76bF8wtzATvm1Q1yOVPiezDGPMxI28/ApbvdZDfxOXjSBwqPOcNpz3ix8KpFGQmGpQiazg6p/m4BagyE7GTWBkB2ILihT11XFoZAIBJIspWa65nzCnY+XK6v5ZciOeWQeTkMoUlo5/mBi8+iDZ/L9twG7V8sYamAIBAQaCBgxRFFlaZdQz4v3mLefec6cJSbBB34LRaeIawrL0TBYLgSBJh653uN8tY6LEQaHBqJObnVPpyNXWW0vnVKDBWTEUVgsEo1DYgSErSItdzYmtnT7rkvh5edCYVAoHDddzUpvU3Fk1llZU0MihYjEYJAYPI4mLeE23eVsC7OtL3DvJmEFKbAQHJGiZCagpgbEZQgEWnzKtGiwX+foH/X1PEGQvd/PvtvpvpDJDdQJAoSgbOCcgKpnY/IMxpRUak/Rx+CBQ0QkigVOzbw/sgnsSlx31SxyKlWQDzxQGCyazCNg6Gy2ITvxTndMYYWuoRaJjAfuqWiivKCWDo2XC4lBYxXtbU43u29eJyDKjUQhAXCrsE5GNvwacmS3ogWwFxxQ+0AF0eSNlRhHI692xJeV607RwOERQDqeX1E2ernH6QKDqHBeEQEUWGtYNJ6PX8tBa0Fu1LWuhMoaLQ9nLAGPRKHx/BJC+qZYMgWBwhJE1K22ljDuDX1tzsKQnYyaQMgOxldfc1m92XL+Oov566wWb3U7UZXYCg4KGjG7rTsy/ZTt0s3m89aZz9vkdKia0fpxeBWzuSM0s8By/hqTactMZq2025wZUvkLOO6rrZfRdN93+y6T6ctMZ2112V3sd3C35fxVZnPX2e26GFR6x2ndbquF6y0WbLBaciyg4CHwLJ9w9ZHXnmPms1eYzFhhNn+fT25r/G1wupOkq488Nq41m7ncbM4W1yOXYq+9ZLV2heeU2y/ZZDpjmcmMldYrTgWVPExs7mHfG0y68dz30CnzOStM56x1PFDle+ai2Wxgp2usl52KvTv440Sy4FiP7qADey3nrbOYt87yp002K/eGNX6y04T6Fo/NW6x+2mCxYJPVioMB5b+NbgJH1r2LuXTLZeMe0xnLTWYst1i00zP9aty1TnZ7P/NOZ2R2of2i1cCBtVh4xvd82ZS1q8znrrVctNXt4qPg7GKrn4BaWwd8dNpWEXerm9XaEZZdYjkPyL/MdM4W533l0Vc7Ga097NbXoRm5NgtWmM5YYb3yTFD548RbnQl1rR5bDgBVaTJ9ufm8nR4nG+Nuc6YiansXmX/JasEq05nLrdcc9c24ZL10q9mcNRYLdnidu878+rdGGLKTURPZXPDvzRmj2ccCnsfHXQ/3B1ltvaONoeArEfCtCDgSd2yeseaME2O1fWbmEeD6Z386GB8ojdUG7PTjq55RjxQykg4OSQJHc/4304n9DU9km+y/NVg7wNHmvLD6ZBNwAPvB9JF/j1TcX9QaYLBfAWfs1qfpnHI+beIHauRLOwW7lIymc04Vzk4npOJgyE5GQQuyoL94Mfzlxfkv/ddX/rcwlCAL+D88gP9TUd9ZxcGQnYyCHmRhcwwxyMLmGIbsZBQMWYgahiwUDUN2MgqGLEQNQxaKhiE7GfXNIHt/zLJO4EuqkXTOsk5/vIsYm/8rmjN8qL0f2OmfNn2//uaQHVN9HwxU2b+sNU7ts9rBV1tf7AYH5ulngfUFnC1/2vp9G4bsZNQ3guwg++475p0uzrTZH6blBt9ccZYS4SQyPu3x/hV9r5fZ3Bl/5beE6x2s+1+9p+R/5W8KWfC2NDJh+egU2uAs2l2cSbtB9v0p/981OJn67c7Yxqfx1zsYdz9XFED2tneJ118AeRLBOdQn7E783xiG7GTUt4Hs/cHE2jtTVq0DMGHAnGc8f0/klU6w/1P7U5e5y4zYC4ymb/PKvvuVVtBLutUR1/Rb4p13IyPK2HeeeG5cJWfrIuv2U8RdIEAbn//79LeFLLv5uee2/SYpCwxYcw2TfzKatsx4xjKzuett1572y26Nv9Uzrhvc3/L9QVZrh/ey6RI2LsrB0z2LnjHbB1htb+ObnsZffZXUDC64yW7vja+sMw73l7J0MthUndTyp35137dhyE5GfSPIDiRcvmaTGEDmJiGQSCy3sNm68qT2/uT2544RIRQshV831uVEy3+wtOJnPBh4cI9e0hzHQ1Vxd8BLlHW93W5GOJZEJAo7B9we+uJyUt+ZvyVkARre+c11yQJBEUEkCoXlkxBzClNydeXloSNQRF71GOfDLUktH4eZ/F3fH2Te/tUp0hiNw1G1ne3SHye19ibduGuZONNw+g6v7EdgbHu3O/pCloImHwpPkpieGXdroh53/iPDkJ2M+nbNBW9Djx0SlBZEgINR8ULWiV4XHwJPi9EXzkviBVSjd0dcG1nFC2yAAxdrutGRcO0VuHJU28fmWia44lNHwvWXiTdeAbgBzGh+C6AZbC4EHjyb3yTe7EgANt3pZnKePcFe6K0dNiGaOG5eBcb64NpXibe6Eq78EnAm23LBOpvVZ2LvDiW1vAOX8wJLe5N0u5vZ0s1qBf7RBRQCBFPgOIj2PmZzVxJQ8vWX4EpTd3snbADCWH/jSPZeX8LlWi0dTSQaRVY0s9jbGF5yxTE5GonCYMhiqolbY651AdAEl2UDauHGK7CObnVx1oAZrTuwXfVD9SXc6Ei684bZ2pN0/beQw0cs5q6x3XguuLaT0dwVW3CWRqMT5R1MN9fEXX2VePNVXNX1qeu2WMzbMCXjbsLtd8yWN+C6cOAiY12Mlrfg2dLylvMRLBDc0cgqbTeAk6QD+A2cYQhj/5YJNQzZyahv9uLrwVD4+QwheTEkEgFEQ2iqrNaMI/F3emMKcuRIQlqsI7Et4PMm62537OVbLis2aARGK3smGM3e5V/wkNkGDvth3nkdcOyUKTNV3T9SIzrFeNZK09mrzX/aH3zpaVLLm8jiuinrt+vHM5QDo3UTVniebwZoyGrpCD15gC7Gj8DgiCZeWjPWmM7a6rB6k0HyIv3EWfqp2yObe30PHjGZtdps1krg4dd8eXbU5dtuW3ebzV5lPn+1/Z7GhNtvEmpb3NZu0g0LVfWP0Z++xfvCPTDC+jotG3/hb/zi6/4A49pNI1NDAKpUdTu7Uw+Am1Dkub1IDAaIMWVCZkc0vGDdfRdf3zJ1/RbdkFgVrxDt6MVTT1+LBxtSwRsVwFPffUcNGWwV31CN0FTD2Rs9M664b9pvlvaTYdw0kzlb/StexNfcsIk2QKLRaIq0pAvTZPYK63XnrFMXGrPm6sek2Ry6BgDa7+BBs7lrTWetMpuz1nptbtyVdpcNu4AzwWzeaqcD9Yy23viaO25rN+uEhan6xRhM3+xX+IjRMnaCzQk1DNnJqG8OWWFjPSIRDIDwBkGeJb9G5maPgexgxMVcJU0eHL+EkI2vqqoqiZePR3+KW057wpUnHtN8SXRuooCCsk+wgJIihkjG0ISocg4uZ0rM/NVwNB6arKWUoTWdh4Yjknk0zD3zHyZUlEiZGBBoVAQaixeWoSvrCmjom874SUJSDEemUMQ9A2/0Oi+byy0qiCVTSMKyesvzo2qb7eKjKDy8ZElV3c2XQ9NzlCyNcBQqr5KTqq8HSUCQKGjrnPck6eM0CxPk7wCyNz5C9vTDpDtdEQBk0QBkafKRiyIbnsVVVyprcxP4RSnGnmru2tyCAliynFrSiYirb5JuPrWP8wAOMlXKWjkonldGhixnrLEg1339clFlGSyZTDdwsz/X5pYcJSgtAtyDUUQ6UUyZT1Vf2G+jWbgrRYAPR+WRnpUd0/DEdcUcbnExLJmG55XUX5wRf/W+ZZAvt4AASUpLd21h9MUCWVMDPJ2PX8tbztGOzEsnCjq6ZD1gtX2bxlwYspNR3xyyhiv3W3hrYfA4DJmmmHYqOOO8DHEEsn3J7S8svE0xeCzJIMT+cG107llefgqaKKA++1hg9kUxMgGNIYg6xgRVPHJfmMiFQHLx6Wr8lBd//baWuQWPkr7BusKIyps2NsZYLBonqmJ7qAl8/CzNk+ChIzE4qZAFvkX3oi4/ji1vsEjwweCwRCHXoFuDMVVXjINdsYDoBvbZv8Zffxa4Zz1dVEgodF9U42Or2FAKiYTklnc43hCaeUHOQBFF5OZ12xt1ZXR+vwnz9wNZoqyhwZpC3xPpRgF2KOCGJmFosvJCbNMD+zB7NAZJVnex2lcXXV1vqKPMxYXCa/raHb8RX1MpLyrChUBI+k3zyrkdfOqInFus+ab66Nq7dgHaKAyapuXkcPZ+bN0Djzm+SDQKLWakuzI/rPJBdN3PYedOyinTgB3JTsuIudaZUHNVz9MOi0GjyTqO6c3s9m7vNfP4xAXF446HlV6xSwwlU6lofhWXjGb/w8fldCUxJB5+tx0JQDA77i+aEMOQnYz65pA13VESlXdORIGbC4XlEjS3WrVVgSikDUC2+V3y7UZZEWEkGsejH2q56qzX4WNiErxIPEnAf7nTtp0IcN0CXlnvZdE3uoMPbUIgUVxCZlrLK5JaXgUeyXLdfia85kl8Xbvv4lgSNwnNK2e8uZJ5vze55YqiqDAKT1RgbQq7Bk6lyLrRbjczEkskcCA7xGx77bNhCZ2PiKIISk8ria5tsU2NJYpbuWTdTay/q+FkxIXCIURtLTeecd24R0pHEYEkINH+vmUfpp6aKH8/kEXg6VQlEwE5PiwRS5U31Z+7J6KhM+FSpbyEKAKJFPdgBNS+YYIzSc4EqIomaRsuvhBTXqYoLAQuwC6joxwxc+rpxsianxNudTNu/+ISY4zCYrm1nBzPPUy81em/OhnYBUbG1nh7U0JzL/tud8zFLEVtvhHIxt16l3yv221uIi8dXG9GeWYm887PxiFeFClzr6rnkQXVWvaaGCIRI2XnsDfXaeVaWV0ZNJaI5wkKvdHzTd5wwpCdjPrmkDXZUcq48dgmwYdEJACXIFVamUYQ1GQejrn9hlFxlleIH4g6cdJ6YgYOEsY+QtpGgkqa8jHrfc7litNIaCxJ0CLc98Jtl5nBAGRJ6q6Wh+4w776Lr7nj9NNSDRdfWbspkpqyeBIOhOymcZDdGHYNfDEyDrKse/3RedliKlIo4GlWLdF9934NewO5xAPRVzviKmsUdSS40DgEWUDUyl3CxEpUV59f1YAklBJYMxHz6o/19wNZtKiqDGOz/fpDLjvOeJ+tj256xWztib2YzicqhEAiRN2S/C53MVvfBh1cC0KWKKox82hc4yOX6Uw8jYYhkoE651E1UoteG1TbmXj98echK2VrvO2zkO0BfknEuSOSWrJoPInfmOF3Nl3ezEAmelf87Tfh588rqdEweDyGwiPt7CthYiGhry+gZsAtPS3s9sjUXxNtGLKTUd8esjvLWW094WfPKBgpI1ESXFxIFF5AnQPZpJLjFEE+ALLSQdM9M66HFLSEFd8KL70dWf8spuaB78IAHImIofLxKWtyS0hiKfxS7quD6l4zb7QYGxiQ+fnpahZ683bZxDph8Rg0j5zxxk8hy1gf2vQWnNj0ettHyHK6cCVdbTO0NMVjcBiKkJylg7CwjcuZlqS7vbEVlQqafCBkbed4ZzSEFN4IK7kdWtwSdPFx/I234/66r+3vB7JkNRurU+0Jd3o4I0rArez23ti8k9yiggBkJbw4kWxrd/AIZElqhstyE250xNW1u23YKK6ljsETgBskXkxXd1VV7JWHYyD7aEwka2O8vSHh9jtWa9d4yD4YSmq6ZeJoi8UTSMJSym5+/OJeDoevAaAPTz+tqIQGW6Ic5wZevBYKnjzNoYV3wkofMT43y+UEGIbsZNS3hGz6eSE5MdNdleBIyuanU1KTSXgCcB2OQra5h33npqIk2FzAZx3ndr6V0dKT0NQeerE0rOrn2Jp7zlHmWGElEd+5Fgs3WS7aM/Vkfdztbmbz64h98+iivGi8oHrsyaj6B14z/fAEDJpXHoAs6wNkkViCdNTKwOoXCQ1PEhubx0GW1dIZuDGZLszNBTzuokji7rPC6zuAH5nYcFfTxZgLiUVg3NzyWsCV+K49Dcmt8cz/JeH2RHfY/J5efNnann449tUf2H+uvkZZThw4fvy2ke75T5Nud3qvnQZULoZuZLK2NLb6qsehfN+iX2OqbzmluIIL+ZCkFUP2R1xudx6BrLazY/oYyIqa6q8uj216Fn/1WfSFD5D90E8WXGpz0ww8lYxAolE4ikzk2rD616z2gdiSSzrOmlgCEUPx8i5/FH/zddKNZwHp5T75Dz4zO/CEGIbsZNS3gSzY7fy5z/rVPIJ0ueRDMTd7WO19cWXlSiZKQPg4CtmWvuT7HXbRdsBTO5osK+M13W79Ias5MxTstU3W54Tl5QqR8Wi6pJAz23TuOsuFm6wWb7PdcMo390bYwcXconwIFEXclmGzdIWyojSeiEfRJDXnZ8beeMO+266hIYbGYkhqjroz1htGpTocyDEKckDjsDi6gXPuo8SWXnb7u8SqfCkFaQCyOCE9w2UXgcTkB4PMO89tZ8RSeCgAeYUdkmzW7rdesETCzFpiem7CP+h7/+/8TSE7CByiyAu5impKSBSKIGdktK02/lb3xwz3gbvmM9dkdyyJiJMy1Jx3zO90rqaNJgpP57dLc89ujzq/h1dFVyp8o/fZSq/1c9FADQlq6c4qDi+uNXBVQ2HQJAVT0x118ddfhexehiUS0URBMcdY89mLdZi7vfZtFZWhIjF4oeAtobUvgXOJ3d4TX14gxM+LxmAxvJrmm0oT74JTHyRduWc/M5ImQMeSaOLu06xW7bGev1hE30RyeiYThiysCdO3gey9/tiCfH0HLRwGQ1CysTnzgHG3n9X8PHjLTDIPBU0Q1mCfjG0FezJG5pdoebtTebmBmAiBQOL5VJUilvkUPgq/mEsCPo+s2c0R8A8ukqCg99yArBxNF3PORiRFRlPVz4dKISMxFB4L9tTsB+x7ve5L4vkFgRAViSIIi0+J10lO5ROmodAALegijmvCG18DjEhuf2kXaINA4YSdWN7lr0YH4N7riyksMI/zxVM4O0ehcYIKsr6pHhcfAo+fH/+6CfG3hCzA0FuPzRkRJG4yAFkkVZjXeYZv8eNPHsDv98dfatQJ9OGREidKKInpqBJ4+MUdEpwPX0lsfheTe0xMQRHDLShsaCGiLIYmSClELPGreOKzcQGfOC9YF1RhsYAlIdVP4i81KNuaAI/8CBSGJGuiEr5M30cfRwJXBsOIGZjsucLp8TrIuPWLtaMqkcojYBXnV/LzyG9gt7+NLS01jvIj0ID7IgooAScgrxA4zSP3LhzJwpo4fatIlnH959CsEs8jF71PV4Q3dIHDtNp7mdcf+pws9DxWElrxZGTdaWbzm5iqOz5HL7juPOu6M93r1OXImifMtr7Qs4cxwLMnWURA10MtOE7N209YEaAzHq/q5nWxJaq0yW1fuuueDJ/0uqhLrX7HCz2P5HufvxZ9pQu4JhObHvqfzJm6K93tYElI+aPI8mvex/I9j1zwPFbsc/bWSNAKMCK2vG7q3iz/vOaE1v7RMULg4PquuNpW76N5rjvOue4+73mqOrz6V8aYgUwT5m8cyba9Cc2v9zqW73EYOG5FXuevAE8J4/IwW9/FXm71P1fitj/b7UCW5/GSkNL7iXfese/1M2/+GpxR7XEg131/lvvBHI9jleGXnjDa+mKrrvmdBioLLNM371bC7bfM1u7I4kaP/RmuezJ90hsja38Jyy4C93sk3+tEWcjlFyO7Y7f1xBZVeBzK882+BUB89Dfc72e3vY2tafU+dgGsrz0ZQH1FXH4CLg0HD0aANWH6hm2y/4M/zKoHjtQEU945x7siECh+fZZXQVtUzeOoytu+G5g4MpGg4e1VBIRUnNkLgQfJL3fT4Wz9yysNzDAyN9hnNiV/8nu+gb9xm+zfN+c4g4f6z8eKc4Q5B/nT9D8ZLOH/nYiSs4vP1zjn6xN/I/yzYchORkEDsuPd45oWjEAgKLKaBosPTj2Y47plj5aLIYFfRCZsSeSna6n+qIYMZGGPMQzZyShoQnYwtqJOPTBcySNQYWqAoqu/whRfJa9QvdTVvgXt36q5bYINQxaKhiE7GQVNyAIeTG7vjq17GFHaHAb2V22Orv+NcXeiX/F/Q8OQhaJhyE5GQRaygMFZEFng2vq94Px1I8ufjM/zwxqGLBQNQ3YyCsqQndSGIQtFw5CdjIIhC1HDkIWi/xVkh4eH+/r6uru7O2BBSm1tbdLS0lGVdxOuvYANIVst2aKXOCum9udx6bC/Zydd+U1BTeMfQnZgYKC1tZXNZsXFxcCGkAMDA6g0qqpHkFZwHGwIWczAXEBVS803Ylw67O/ZOsGxCsoq/xCyQBhbXV0dGWqTeyYRNoR8ZHeosBCt8tKlmy13YUPIS5evSGIw669eG5cO+3v2tVt31DU1/yFke3t7y8rKkmJtr1VPgw0hF2clSIjRf3v6ZLQiYUFE+/fvX7hwYXd39+hnWFBQf3+/jo4ODNnJZRiyEBUMWSgKhuxkNAxZiAqGLBQFQ3YyGoYsRAVDFoqCITsZDUMWooIhC0XBkJ2MhiELUcGQhaJgyE5Gw5CFqGDIQlE/NGSr0gA3lqXUl6Y0VqRdAT6Oy/DVfLUqramMVZWXmJ8el3cuviSPNZF7/38NQxaigiELRf3IkL1amVqfG719tcfaZW67d0ddLk8dl+Ezrkq7UpnaWJ56pTLt6rhN/4uBXVee8GEEqJgaShmZKMWk+tdWwJCF9W8FQxaK+pEhW1/MPL5AW0OazMtLMbY2OJPFHpdhvMHwk110JuLI7qC8jMTGymn/nLMArEuTNk3TFebFE3npNrEeNX8H8RNlGLIQFQxZKOpHhmx1VgTTQZIHj0KhUSJKUsu2R4+FJvBEf6Uitb40ua4kua40BYhemypSL+XGzvMV46UTg5JdyouS68tSGspTgP+tL0tt4IS3wFcawI9AeurVqg9FVaYB3wWLAp3SVJHG2ZR2Zo21CC8OTaWZh7j/rTh6ogxDFqKCIQtF/cCQTcva5WauRMahEVxIJILKF8Dyqqv6GJw2lrKLTofvX++1cYX7jvV+xw9GlhUwz+2YaqOERaOQpt7Gu3YEHtkdcvpQyMGdgYd3Bx07HFtfyio8E3F4R+DhXUFH90fVlI82KdQVMfJOhO3b7L1pjcf2DX5Z55IAHAPpp1fbiAKQpXAgWwZDFta/FQxZKOoHhSz4tM7YMNtEWErEyV6OhMeg0Hg7D7OCgtSmymlANFqTG7tqloWDmZS+qrCVmbSygpCpqfrmTe4upmI0IhqJQNDEeU1MZZwcVKKiDbQ1RbW0JPQ9ncsvJuycY2mhIaqtLm5qaphTkFxXzDi+yjrUR8POQs7aRFZXU0BBVtDGSXvP8cSmyjQOZPEwZGH9V4IhC0X9mJC9Wpl6KSOc7SMrb224bfNUazoei0YqG6sdOcWor0hrLGEdW2KtJ0pBolBeCU7bVjpZq2AFBYSXrPNfmWIkg0MhEVzGLrob13rt2eq/a7WTvjwZjccT9KyKLjIzd7gZyNMwKAwfv/K5HPal3Khke3F+OlHCymDbJi+WnQwdiSDRKWELg+vLU2HI/lcCzs6/p9H8Y78wmvInjW7maDTpuxcUITt6iP9Coxk/ajR9jEY3QFM/JmQby5LPb3a2FRHwT3TLOh35kwsJj0VRaeLzV4RdKkm5lBef4ilBIeFROIVDZxKqLiQe2jB1+RKPjKzE7N2upiQMCoHwjncozWfXlabkHvC11+LBEggEfeviAnbJ6SA7A0EcBsvHr5Kew64rStyeahrgorpsR3R1AfPEKlsZQQKWTNLxda0shSH732h4eHjob2vkmhz9wBHw9dGCxmhcmf/v2f+dCHKQHVcXXxBQG5zjD1bd8NBnaxvIAVnU/pCQTasvZq2JVxLkEfQPdti4ym22vzgeiySQ8D5JLsUX2RVZ0RFW/Hg8DqWik5XNAJ7rGzgvsurLUvL3u1mQsUAo65fkWF2WdqVqWv5hf0dtHhzxA2TPBNsbCeGwuBHI1pckX86Jzz4Stn+919aV7mkhGsLcWDSRqOU/pao0BYbsv9bw70OdlRdzz55NB5SRkZGVnQ38L/jhw8esrIzM0YQz2bn5T1+/6+t+UVlSkJGVCSSdPXs2r/xqZ8/A0MhlPKrBG8UXM8+fPX8+PSMzKzP34s0nr0e3fN+CGGTfD7950Z6Xnfmhys5nZGRmjygrKzMzMwOogPRz5zOzrj14CnB0sL+77VZ9TnYWkDqaOwsQ8CkjIzs7v7Cs4cqdJ887e/v6R8uHiH5EyFal1l6M8lLBCfGTtTXFdbXEdDSE+FFIDA4rYWN8PiOpND3UXRWDA4JbVb3sHOYfr8KuVKQWHPgCZEkEgjEI2dJPIVtXyDi1yMHPWlqWQtA0kDM3EKERUUgCUcsLhux/ofcDv7+7MlVcGIUEheMVUtXUlJQUQaHABBwer6CpoaIsLsCDQqPBDCKyivm3Hnf+cm0WM1CWRgaTkCheZduzV3/uGfwjngVO9Xe7I92VhJFYNHDrpRi6hu2qvje68fsWpCD7/vfhwUdX0j2t9IWIeCRQZWgMRURWkyMNDQ0lWXEcFotCoUlU7hmH8vv6+3s6H5/fv9hMRowAVBsSSabRZeSV1NWVZSUEgRrHYOlKmrbsOSvKrj2AVlT7A0K2sYSVt9VaTJBu7W1+eE/w8b3BB7d6e6hT8DgMmldi68GYkoyoMHMe4COKV+HIucT68pSGUlZdSXJNUfKFfaOQ9Ul0qChOrS9PzTvo66BDxxFwBA2TixeZBUf9rLT4sOjR5oKCI74e2vw0Al5MVGXbrtBdC80k+XGoTyDL6cIV7gZA9p/3uv2vDSXI9l71FRPE4nDa9t6r9p0oLCk5tGm2qQQCjeTi1ffNLikpLMjet2GWuqwQHoMUlpIvuPm4v6/n1we3Vofbc3GEJ1B07Bc2/9Y5WiZw8f8+/LS9ZhXLhYeA4zXyrbzW3vW2d3Tj9y3IRbI93a9ulJ3zMVdHIFFYAilh7ZHSEZWUFORlLmKFyRNxVG76rEMX+/r6hwb7Xj9/mL0uRZSXAlyDmpbOO89cKCwqzMs8s3X9EidzHQqZTOOm2/jEXLr3urd/aHQv371+OMhWpV2+EDXHlp9HQijup+CmKrA/bE0BY26YPAGLQiAw0QsCirPipgcrUojAXRQ/NcE1LzP+5CbbME+TQ8cSLxxwN6Ph0EiEuoPR2fTY/et8ju71n2oiSMBjcBTahl1hW9jG8hQM58WX2rkcVvo2Fx1ZMhaDk5QyzjoftSRQTQAPlErQ9JtSWcQ+tZrTT5ZENvFxqihNAeLi8b/2GxlSkL3mKyZEEtVcfqLiVU//+/fD7ZWHw7QRODSXhMviLuDz7793dzw9udBXgEYYgezIV+vPrwAIC4a8KCwCwZeyq7JvEGzYG9n6fqCjdP9SeSrZfvouCAVF0GuTHR4c7Ho4I84deNYgUum7K1pGNwC3uvfDT5rrZvqbCwoKzj1aAESyQOrw0ODTppPKskJoFNLGP6bpWd8AUGfDQwO9b2py91vryGAxaCq/ZOSKomfdfSMFff/6sSBblXa1NGl9shadgkVzU+1inEuKUpoqUqoyQgNthDFg1ywEN5/Shn3Rpzc42KtQgFiWQMCQKXgeXoq8vva+U4kVGREMGyoBi8Rh0RQqSUZDOnGpT5SXPA0Ib9EoCo3Iw0siEdDApUuhkWevCj6/19NWh4+Ix6DRGBqdzMtDIuOA0wkjJa+ya1fgvDAZKgG4hSPl1KX2HU1o+G5G1kILsj5iouoWHlUtvw2CLz+G71ceihyBrPOiNxzIApdgV3uuiozoJ5DNXYdEIqlUIPohIhBoKTXDzDudPR/Cn/eDHeUHlynSKFNn7BlJgYQgB1mQmm8ez0jw/ADZ5tF0UO/73r4q2bPKQUtr6bnqgYFBIAnI/uT6WRU5EeAas/aPbvytF4AskBOo5+7Oxyfn+grS8ASSgL332tZnkDkIPxpkr+RHMyJ0bSzkLC3k/SOtzmWymypSy495OtkqWJvJWpjK2tupTF8TUVuYlL7Tw8dZycxY2txE3i/A6tDRmJqy1PpiZvZut1AXGXMjaQszzeWbwoouMHL2eQW5qZgZSTs6acxbMCUySMvCVMbGUiGJ6XohL+nYagdnG3kzY5mpnnrLl7jGuqlZmcnZO2rOm+eSFKplZSZjaSrjMEVn/a7oes4Ihe/B0IHs0O8D938KDpuzePdvb8An+s9CFsj2fuDpoZiI4MjYK49ecb4JQhaNpjt6RDk7GAD3VzyPuHPK7oev3o6c5u8HOwHIKsGQ/dp6/3nIgtQcGhro73v94lnLneaHzzqHOJ1APkIWPQrZ/qFRMA30vCrfzRTnp+AJfDZuK1ufvhlJ//71I774AofMgv5s4seGUeDfFSkjY2rBVoUx2ZrKU4BEIPD8o5CRnI2cFIDajRWcGWQ+bL0C5k9u4qT84dEvjnz8UPh3YshAlqOBgf6BgQ8R6Gchy9HQ4GB//+Af5zEAWQwO75Uy/9iB5XQqgQuBEJHVPZp/rZezHYbsBOlLkB0eevv8wd22ey/e9I/t+PEXkB3s7ao/MUdCCAhlQci2wJCFiscCcZzHkfFL2aBoaEEW0B8n519AFtDYc3gEsh4pS2pa7q5lOHBTiRgs1T5i0ZV28FyHITtB+jxk3/e9667cGuMfmXis4WnvwMc6/AvI9nT9fCrNX4hCIJJFXAIOP3j1biT9+9dkh+zkNOQg+4f+GrJjNQJZ9+QlV3/t7HpQNEWEDw1c5zzCSw7n9g0ODw2AbbIwZL+6PkAWiULjydQdJbffAup+87y9MkSEpqhjvq30UXffx34CYyFr5RtZ9+vbHuAxZqC/r7f3fsPFEDtdMoHIK6ow98jV128h01sWhuxk9GSC7OLrz3oGB/oKdjH5iAgMBiNgknC7o6e37xUM2YnQB8giEAgkBitk4RofHx0VGWAqLY7HoKU0zHaWPv4SZE3cggtv/fLzL08e3Gu7XJoV4W1DwOPxBCEjyzWP3g0OfIhwv3/BkJ2MnlSQvfG8b/j970/u1U/3VCPgsSQqPWBB+q8vfyk/tByG7FfXH5BFItE4vKaZbUCAn5+Pp72pNhGHkdI021X6+O0XICskp+YRwWAkMQJ9pkpLSQpJSCtqm3r4raxrew6ZcdAcwZCdjJ6EkH0/0F2fv1tLjh+BwCAQ6nsKasqPrIS7cH11jWkuIFBo67NrOzs7Ol4+u3kp01mJKK/9V5AVlFHxiUxkMFlsNjtt+qzF63acK2l88bYPQngdESQhOzLfdkMZ+E4fnG97tP8puHLMyMzZ9WUpIzO6fnVXpV2rTK0tZl8qZNWVpTZ9N520/tqTELLA1d79rHVVxBQRAh6BwFp7zdi5Yr48mQRD9utqDGSJVO7d5XeGwbl5Bt91d+St8jKycz1c88uXXnwZTw0suPHw8S9Pnjx9+uz5i9dd3e96+0d6ekFLkITslYqUgoP+q5a4rljosvQn9zNn4jndrVJLzoVvWuSyatHUlct8ykq/yjBWgN0AxxvKU0e6c12rSr2SF57oo+nrqTtroX9F6Xc0QcFfeDJC9vffB/t720sO22jLIhAIASlFt6BQBTE+GLJfVx8gO64L19DgQHfH06e/Pe18NzA4pnV1LGRt/KObRgcjQFvQhGw5+9QSUxVJCoWIIeAxNj4WuTnsxvKUc+unWItSBXm5VTTNcgpSvgZkq3Pj9q1337LWOzOb3ViZBvafPe0lK0GlUCku3vYX8lPG5f8+PTkhC+Qd7Ht5em4QGgnEVWg0FotEoWDIfl19AbIAbgCecuYw/IQ8YyE72oULhuw3imRT64oYKwMlCFgkAsFFoQlPWxF8uTi5Ojt6rpu8DK/k6n1xNSWjkG0qTwEnJCxi1xQn15eBgwhGC6lMbShLBp70a4rYtSXJgOs4ISpnTEFaU3kqOGUMsJXzrZF2gKuVqdk7XCxUqUIi3LN3xFYXsmuLWNXpgX5uao52qtNmehbmJ4+u9AUWmNJQljLarDGyjNiHsQxAnstFLKDkuglr1vjUPwhkXf8GZFMW33gxClmOhp+1X55qIEEiYMHJYxAIGLJfV1+A7Jf0AbKiHyELnV4EXxJUX3wBcesOhjKFgEIiESgMRkJd7XQG81Je3Eo/FQ1R+R3Hk+rAqQUBqKUUnAjduNBpGtN67kyXPbsjQfiCAxDSqvPiD210XzLDbkay9eKFLuuWu21c6bFtU0hlaUp9MSv3WMiW5VPmTreePctxy6aQigI28JW6/PjFSdoCZASBSjCPdVizzG37Ws+1y92WzXdaNNd5x87w/PSorWs9N65037DCfc1y77On4qrOBq9b6QF8XL/W/0I2EyB72bmInctdZidbzp3uuHlLSFlR6sRPHANhyA4P36s8EqEFQlbcdd6r4fdDnz1x379vzFkLQNYjZfHNTyD7+2DP6wcXl+rxUREgY2HIfl2BE8S8eTwzwWukTXZX+Z2/5szQ0ODTa+lgJItCWflFNTztgSH7jSErxIeXEKfgcGgcgWCV7AMwboWPivoHyNYVJe2bb2SlJyIrzWdmIq8rxScjKxg127eygFVyIijJV0leiq4gI2VvIy0pQZeU4JGS5jcy1tu92zPYQVxPU1RFSclMg1tChCYlxc9c6F1TmnJsrY2aHB2D5MITcdzifKoqwt5emkHWcgpSPJISAr6hzif2+jhbSgGxtLQUn5GV5pY9ESWHPB2UBOXl+A2mGO05GJW33dlQU1hJRtDGQk5ZUUBWTsjT3zEnL3mCh5NBFLJAmNPf0335xFpzCgKN4KKLq2bfetnd0z/uzB0aHOh9+yZzbSgKjdFyjy+49rgfnH9rdOvw0MDg2982JzgQUFwoJAzZr6r3A33vXrQ3JnibI5AoDJ4YvjG3613vwODH7gRj9X54qL/n7dXM9RJC3EDVyJi4Ha242/Wu79MJ16EnaENWVVVwWqyWshAWg0EJSwmu2BKyyFdFdRSyKTm73W3VqCQSjmZjlX4kKNpLEYlA8AmKbzoat2OGiTINh0QioxYHnt3r76ZDx2AxaCWtY6dj9i23VaDi+HU1dh+MOr7e2YqEQSK4DP1sKouSy7OjF4Vr8CC4CCRc9E8BmScj889EF+52EuYj4PBEJw+79PMJ6WvMuclYLI5o42mdnpFUX8xcES5DFRaMWxCQc9TXWYxCwKM1jRUOHY1eFiaPx6H5ZCSmrQyf4GAWopAd6Ht16cxuN1EROoFAJBDovEKKGjFnK26/GwbniP1DvV1P8nYvkRQXJZLINH4R94R5V590j4uHbled8VSgUMgkr7kHR5OgIIhB9v1w5+ObK5JDhQX5CUQikUyVVtJYuDfz4YvPTzsw2Nt1s/SMg6kOH50KZKfzCRp7R5+9dPeT2Q0gKGhDVktHYt/BYD8HCTwWgSES9Z2MZ7opq4kAkE2sK2Fsm24ihkYQCHi/FO/TB4N/itIUxnORuMlu07xnRKhy5pPl2XQ0vjgjOtZDhkDCY1QN8nIZBSeC50QYLF3lV5bHKDwenOgsBtxU+Q0MLhQm15UkbWYbiCAQNG7SjG0xl4rYDSWsSyc9xIVJI5DNzWPV50d5ShIBekrpq23dG113McJVgaJpono6k3V4kRkfFYshkc09rU4ejtg60wCPRWEw3B6+LtUfVhefGEMUsr0d99ZNnTrV0dHeDpS9g6Ozi+fitedfDXwC2a5fryfEhDo5OY7kcfPySb/xZNxTJwDi8weXOzs5zNlzcTQJCoIUZN///n7o1xs5rlNcHB0dRmrMyWVKSMrCS3efjWb5VH1dT47tXubu5upgD9YwUHcurlPnH614B1QelCkLccjqSh46xzi+0kxViIDFYvgEaIayfNICsgBkawsSVjB0KAjg0R7PKynrZa9srCsJPPtLC9N9Z/osZ+qKUIBIlpK2JiTrSFCAlRCJQhS1tizKZ9UWMTP3B26a6zA9yZwRqmOmwo0EIGtocLEguaGMsS3FUBSB4OYhz94RU1eWerUiufaMp6QIeQSyFy4mX6lI2RorScZjsLwi7NkeZ5aZiIrzByf7XC5P3p6sRSWgUDisqIygk7O6g76QpBhdSEDEN9i1Cobs39BAb2/3y5cdL8fo1auevr5xUSpwTr969Wo0w8uXnV1vegeHP64+w9H74YF+oLAXz7sg9BIJgpFsb2/PaDWM6FVHR2dXX//AaIZPBbbz9HR3dn6s4VevOrp7+uBI9ptCVk/yUDqrMjt6ob8cCYhmufBcXFzcPNI7jiXWXIidG6OGQHDhSDhPhv2SaY7L5rmuXTp1/cIph47EZG6dYq/Bi0AiFLTlnG3lpQXxNLpA+JyA6kLWhb0+YeZSCgIUGVWZkEBtU2UqUAi/7njIztoRU1uWMgJZiTGQvVqZlrvbRZ2ERSFxVvZqobr8iipaB88ymirZ6yLkKDgEikrWmWq0cI7jykVT1iyZunyB594d0Q2VEzodInRffE1yQe7FFyxA0Iastp7kkfOs2pLkstN+NtwE4Pl/FLLHE+uKkjamGAogufAEnP+cgJIcRtVFRmVeTMbJmJKcxLzdHlONBZGS4oEB+mGBBjFRlhs3Bhbksmouxq+MUeIhYnjosqs2hZzf5x/rIIhEIPj1DPLHQJZCI03bHFVdwGosZdUAkBXmQNaTA9mqtOqcKIYNHxaNIhFxvCR8QGpAVUkqkH5wrgE3CY3Ckq2n2l/MY1TlMysvMDJPRF/MYcFtsrD+jmDIQlGQhOzVytS6IuaaEFlFNbGNB+NrSlMaSpP3ztLhIWOAqJMD2aS6MvaptbZ6oliAdHRe6bVbQrOPh65mK2hpCG86GLttmpEcnYiUUdm4LeDY3uDj+0PPHInIz0yozI6ZGySNxSCpVNmNO8OOLLEypuNRCARd3yA7h1lXytg6zVgCiySR8bp+jge2+W5f55Ozb4qIABGLI9hMscrMYV2tmtZYwtg2R58ErkODJlFlDqUDYSwYqF7cN0VSkIjHYkTlJBasCsg5E7l7qbW0tjxrVVgTDFlYf0MwZKEoSEIWiB8zNtjpU7AkOtUu3DEzk3mlIrUiPTjKgg+JBJ7lZbafALtwVWdHpYRryotSMED4iEUTiXhRcQEbX/sz6fEL4zToJAwXAoFCIzEYFBYwHkuSk124JXTtND0BbhwGDS7zJSkjIC9JwyIQBLJg8KyAquLkrB0uLhpECgGFxqJ5+OhGLpqBzjJUEgaFQonISS1dF9oIdsJNzdrlbsSHo1DJDkkeVYXJI00BdUUJWxMVFCWp4B6xaDwByy/G7+hpcOhkItyFC9bfEQxZKAqSkL1Szs7a5JgUZRwXaTxroUceGD+mNZYwT273iA41SIpzybmQ3FSR1lieUpkVs32hQ2SAbqi/bkSwyaKfvPPzmOW5CfNjNfhIWDyBpq0rbqQnrqlI5wZQjMXIeztlngpfnGIRHqgXHmSwcrXfzpVTEkMN4qJMmfMDL5en1hUmHV1jnximFxqgn8x2PrwncPFM67gIo+hQw9hIq507IgHIXqtOu5Qbu2a6aVykJQDQ+vLRCQ3AVWqKEvasdo4M0g/x0w0PNpg5zyPj/Mi4iY9/3QQYhixEBUMWioJqm+z/4CqQbg1lKQB2R1LKMyKDDblpFB7XQNt9uwJP7gs6sMrWXIsXjUHJTnUqLkq5UpkKLuT15QGvTeWpjeX/z0gtsJDKz/cZGBlr+2HysG9gGLIQFQxZKGoSQJbjsc/jZelhXsp4ChnvGGx5dH9YxomwnYus9FV4CCR8wNzg2jLO9Fpjvvs1PMHtA+MMQxaigiELRU0WyI51bQFjKctAQYZXSopXUV5AWUFAUY5PQY7fI8axpIDVVDk+/49nGLIQFQxZKGoyQhZswC1jl2ZEn9obdHCr377Nvod2h+RlJH6rObEm3jBkISoYslDUZITsiAGeNnLaakGPzHD4pzw/qmHIQlQwZKGoyQvZyWwYshAVDFkoCobsZDQMWYgKhiwU9R9ANjbSuqYIXF8ANlR84WyMmAj3w4cP3sKClHbu3Dl37tznz5+PfoYFBXV2dmpqav4ryDrbay+a4wgbQp6ZbM1DJ27evAmIjGBBSFFRUe7u7gBqRz/DgohUVFT+HWQdtBfPcYQNIacyLHl5SOvWrT0AC1KKiIhwdXXdvn376GdYUNDevXs1NDTgNtnJZbhNFqICYiK4TRZygl98TUbDkIWoYMhCUTBkJ6NhyEJUMGShKBiyk9EwZCEqGLJQFAzZyWgYshAVDFkoCobsZDQMWYgKhiwUBUN2MhqGLEQFQxaK+tEhW5XWVJE6Ov/LRE7hWpV2pTy5tohZcYFRnsesLkz+thPIjjMMWYgKhiwU9UNDFiBsUdK5Q2HH94VknEmsn8BpDK9Wplw+H7JmtmVshFF0pMWSVWH1324dhD8bhixEBUMWivqRIdtQwspYZ+FoKqGtJe4ZYJOVlzwuw3iDC9Ukl2fFnj8WWZzLaKoCl5gdn+dvuiqtPi9yfpSKEB+Bws9rF+VR82Glr+/BMGQhKhiyUNSPDNmavOg5HrICJDQag5ZWl9u4P27s1qtVaVcrwcaExvLUxorUK5VpgGsvxq+KVVKU44+f7V5VAqY3cfI0VaRxGhxAj/n4sSjgu2OLAtOrUk+utBThwaGpNPNQ98swZGH9a8GQhaJ+YMim5R/ycdDmwWOQCCQKzS8YNtsfXK/7Q4am8pSafEbR+di8MzH56fFleYyakuT8E4HBBgQ8Du0Ra5d9PqE4J7EsN7EoK6E4O7E0j9VYnlxTyAQIVZyVWJrLbKgYnee7sSy5+mJSYUbshXOxF9PjqwuTr1SBnD29ykaUF4em0MxD3C9P+JK0f2EYshAVDFko6geFLBBylrP2LLKQE+dWUuADoIlEk1x8bEpK0q4AnK1MrS9MOrHdkx2q7WQsbWkma2oo5+1jeuBAEDtAiU5CIxEIbkVRdw+NQD/9ZKapk72yi5OKW6RbZX7inkW2nnZKLvaqnp7W+UUpDaXs/CP+a39ySAjVdXdUNDEWN9SXi0p0zMxiAaHu6dUAZPEwZGH9V4IhC0X9mJAFMZobNT1URUhfZ+UyR00aDoNCallqnDrPAsLPplJ21pYpNmp8SCTCxFErNcFQSQTJQxdcsNQ1aIq8EBaFQHAp6shEhhulMC3nTTeXE8Gj8HiCnmXRhaRjK+zVhIkYFIaPX/FsDrs6N2rmFFE6FcejLJcUZ+ahJ0RGIMg8lPgVYfXlqTBkYf23giELRf2YkG0qS8nd7e6mLDQlwvnssZBUEyIei+QTkV6xMepyaWrNxYQFIYr8FDwKK7Zhf3Tx+ejV043joq2Onoo7v93FgIgBIln3aLuCXEZ1ISt7n7edJh1LACBrXVzALj4ZYKMngMVg+fhV0nPYtQXxq6J07IxlEhcHll5I3DvbTIKOxVHI5hEe1WUwZP8zvf/9/fD/o6HhD6cw8P+jaYCAD+NO7E82AwIz/D/n/ncjSEH2/62yT/RHFYx+/lRDwH/BqoRKRX2iHxOy9SXsbdN1xPjEEpP9sk5HbE2QxmNRJDIxYppbWUFyZXZsrKMwgYBDKWlnZjGaKlNriliXiti1pSn5+90syFgUEuGX5FhdBrYt5B/2d9TmwREJBH0QsiVngu2NhHBY3Ahk60uTKzPjLp6JuXg+7sKpyE3TjCX4cGgiSStgSlVpCgzZ/0bvB9+9efXg/r32Ed27d+/+/fsPRgV84qS23nv4y+v+90OD/Z0vfmu/B/ynva2tvf3Rb53dfWNP7uHBga6nj+9zvgPq/sMX7wYGP17j37WgA9n3w0P9vz1+0NbKOcgjVXb//ofKGk34o+7a7z183Tc0BNTT8MCzJ7+03x+tnw/fa2tru//w55+fv3r1pvttb1//xzsqFPQjQrYqrbYwPtoEz0PDi4nySIpziwtTSGgkFo9Tm2qZk8UoTQ91V8PiAO4q6WbnMK+O9DSoSmsqTy34C8gafAaydUWs4gMBs0K1tLiJ0jICUuI0Ig6JJBC1vGDI/mca7nmetX+OmqQoL4VCBkzn4xORkJKWlpGRkZaWFuDnp5DJgMVkFQ/ffN394s7KWWHSfLzcQCKVRlFw3HDucv/g0GhZwBn/5tlxS2MlcQEKR9Iq2o7HW7r7P2b4ngUdyA73drYm6WvycaqGyssvKCYuLiFKp3MDx5xKowkKC0tKigsJ0skcCYmI7bn2vGdgsPfZtaRwNxkhASqVSqFSefj4xcXFwZwCfDRA3PJeYTPSi+qeve4dGBoe3dV3rx8Qsk1l7OJDUxT5KAZW6isWTV2zxHXFfHsrUQIOh8FIyu87FldyPsJfn4zHY1CSaqfPJzVUpDaWJTeUpdSVpFzcNwpZ3ySHypLUhoq0C4f8HHV4cAQcQc+84CKr6ESAjS7/H80FZWdDYoxEeUl4IUHxuUu8N8wCIlks6hPIcnoXhLrBkP3Hej/U9/pJ87G50YqC3FwIBJ+seujstVu2btu+ffu2rVvnz2CZaSgT0CheManDtzrf9r79tfXych9LbiKOC4HkQhNMfWe1PAMoOnpNDva8e9nauCzCkIpCY0VUZ+3IuNfR3zMIjSsWQpDt6WhNVVOgoDEUflErv6gFq9duWL9AT4bKxYXACSiEpc7dtHnznBRvPTUZPA5DpfPsbfrtbf/Q0MC7ezcqFrmZoVEoNAarYeG0cNnKrVvXL5jF9ppiJyshQqVyC0vKzdx48vGLN1CJZX9AyNblx60LluKREI6YFwSEokBKTQFjhp8kEYdCIIipq0JKs+NYXtJEPFCPtKRF/mX5zAuHPZfOdD17lpG3d6opBYSsmY/FhTxGxqHw0/v8nA34AEDjBcQPHI85vNhOQ5DAefGllp7LPr/dRUuahEXjpWVM8/MStrD0RShoELJ+rtWlKWfW2IjyAZClmgZOqSpL/edDG/5rQ69Ndqjv3d0cZzMVBAKp6+hd8qhn4MMD/nD/m8untyqK8fOJSR+59RrA5XD/2xeXtkkK83BxROFRnn2qCdgwkp+j9zWnN2nhiDK+i6ruvhpNg4KgBNnO1mlqCnQSXcd3TkP70+Ghgb7uX5d7iSEQCIpe5JnaR739Q+86f8vb+5OaFN8oZAeAW93794O998q2YLEYHJHsk7b04fPXQHHv3w89e3hr99IkAR4qCoPjlzfdf+Ha2Br9nvVjQbYq7Vo588AScyUhPJ6P7s5yryxNbapIrc6JinWVwIIvtBCyanr7jsbsW2yuJ0nAoFEC4gL6epJ6GoIqupp7jieUng0J1SXh0AgaH7eunpSplcq0lT5BLtJkIhaNQatqSqjJ8tJwKBDPdL6V2yPP73Y3U6MTcBgSiW5gIKUszk3GIIE7sLyO7vGjEasYKnQSEonBqBiqnDib1DiB43r/2hCEbH/voyIXSw0AsjqOXsUPgevxw/n6frjrtzsz7M2UFFWP3X7TN/R+eOBd953jUqJCXFw4Li4kBocXUtQvaH4y9gRvTN9ujicZRa5pfABew1ARtCCbpqYoLiy5NPPW63f9HMj+vGIEstrhpy8/BCALpHXcu+Rrr8dL5933B2SH+h7W7MNisQBkvVIXP3zeOVLiYH/vi0dNyRaSQFCDwknPXJvRNQSNN5Y/GmSbcsOmWErw0Ak0OknLWvPwGWZTRUrRHgdxYQqdhqdS8ILCPP6zgy5djD+40lZFhk6j4mk0soaexvod4VUlKXWFSSdXWxnKEoB0bm5hxgLfnKyE0xscdZR4qVS8qJRgWKy5maEoNw3Px0tx8bDKyIzbNt1ATIhMoxJkVCUZSRbWCnx0GlFQXDgi2tzZTATYKY2CF5YVn70mrO67mb4AkpB9XOJipQlC1gGAbPfHSHZ4uPft23v1NZeqah92DwPp7wd73raelBYXExOdamWuRQDumQiEYcy+Fz0DQ0Oj32pK32aFJ5lGrbnysGskBRKCEGT73tybbqSnpe7e8GKoH7jzcSC78gNkz3Agy3k99nJvVKCauOSR6x29g0DtcCBbu//PkAU29fUAmRXoeDSCSzht2emOwd8h0crzwzUXVKU1lKXUFrNripPry1LAoQfgmNfUupLkGiCxiF1XmtJQnnoFbIdNqS1glOYkluYyLhUng4ngQNvUxvKUSxeB9KTKAnZdGTiDF5BSW8goyUkAUoBiLxWwqvIZlwtZ9WXgINqGsuTLQDm5iVWF7NriZHDXRezakuTG8lTgBwD/BndakjzR04D9pX8YyAJn7ZvXHS9edvT19A4ODgIIBS/TUcgKyKio717HctLkQyERgpJq687deNMzMFIgDNmvreHhoe6uzted3SM9AT4PWbAGh3u6uzs7ugaHRrpx/QVkf+/v7S5Y6cNHxiG4RGDIQsYA+D7DPk7iuCZUANZjP47z9wPQv2NoQ/aP5oL3wwM9rzP3Lluw+dDPr96OZv0IWX5Zdd3Smso10wKoODQez2vklNZw/+VILAtDdgLEYcooVr4EWVAfcwH6MmTfA48sTzd7KdLwOCRKZuaqrK5huLkA9vdqKEMWAUayD972DgwODfZ1PrjkoyGu7hJ589HH91d/QFZOU7+y9cn9hhwrfjoWiaAJSiw/kPmqF7y2YchOsP4Ksp/oU8imLH7wrBNgEyCggCe3ihylxPAoHFXUaNuZhkEg9+i3vmvBkJ2Mhi5kuRAIqpSSW8qCFStXLl8yy0dPjY7H6UyJuvP4S5D9tbf7VeUuNj/4VhorbhaZXdcOnOswZCdY/wCyWDzRk72o5dHTN2+6Ol69aK4vjA9wppFIFLKQvfeG2086IUFYQDBkJ6MhDFkuBJbCzS0M9lAXExYSoFFwGLT2X0IW+O5g76O5LqJYDBqJowQuOtDdN1h3FobshOofQBaNxUsZOsxdvGLD6lWRwV6SEmL8/Hy8vAJq2tNq2l+/64VKDy4YspPSkG4uUDJ1OFxxq/3+g/t3b2VsmyktSPnrSBZsGhweasrfriBMxKDR3ALWp269qDi1FYbsROofQBaFxvCISJmYmdva2trY2to5OE0JY+06V/6kCxwHPfz/Aev7EbQhC46FBafKTmko++jG/2JFL7BHQTE4m0HDFybbvlKZVleSXFuSXFcK7m7c1u/ckIastr1n0f03fQODg/29r5+1zPDRsQhgt/zy8R30eMhy1PG0fedMLwEiHk+ianqvPrFjtR2ZYha9FobsxOgfQBaDw1uFsMtqGpqb7zS3tNx7+PPzl53vevsGoTOgdkTQhuyV8uTCU+GHt/vv38bx9oADOwOO7gvNOptQW/ZhhYJ/4rTsPd6zp9sumOl0/HQSpwcCuPYB6A99DOpLmDuXOMxKtV29MfRyScqY70LAUIbsJ124hgb7G6vyMwsrOt/2jeQE9FnI/j7c/7Apf4qhEgqJQSCE/YIiXBXEzGLWwZCdGP2zF1/eqUtGRnxBWtCGbENR4sZUI10FfglRbklJXjk5AXUVIQVZfjkZAQtLy+MnQT6O+8rfc8o2trq0KFlKSSxtXSQYtBYzMg+HnzoUeTGTMdK1qzovJsyUW0SE2yDIoegC+9Ovf+/+YSALnLXASdjT0zP24fHzkP19uO/t83NLIlUFSAgEmkyi8NFoRnAkO1H6Z5Ad108WooI2ZJvKki9lhISYieGQCCI31T/Z/fgOD19tISIWTSBwu3o6V1WA7QYjrQoNZSl1peBEMI2cxNFCOEMVgMT6UtCcoQepTRXsrQlqsqIUaRUJALJNlWmVmcE2IlQBMdFgps9lTqNERVZkmAG3mBjdMNixMI8FFAJ8saEcLAHIDxhc76s8BfBo28WH3zCyFwDc//QG8B/4h4HsZ/UFyP4+PNjfebfcz14PHAHGxYXBkwzgNtmJ0h+Q5YIh+2V9n22yqVfKEqbby1KRSKoAT+LikPqylIzNDvzcOAwaZWitlpGX0gTSLbnwTOSJXQF7Nvke2hWSm5HU8KEl4WplamV23Kl9gfu2+u3fFnh0f1hOekLxuejTu/13b/DavTkgK4vZVMY+udqCRsZiuXkcguxPHgo9dyzq3N7gQ1t9dq33OXg49lIRuyor+szh8DOHws4eDjt3IraqmHXhdOSZw8DH0KxziQ0VaVfKkovORh3b6bdvi9+x/eFA8PsNpzKAImT7Hpe6WGn9Tci++wjZMX8j+AKsv/7EMnE0Cg1DdmLFgewvo5A1CDlVe//LkO1/VHsAhuyovjlkr1WnXatImOEgS0MhaYK8jKWhQIR4YZ8rAFk0CmVgo5Z5MaU6P27nPBMPB3lDQ2k7SwltdXGnKXqLlgaXFiZfqUw5v9U1zF3VRF/GwlzOUE9Kx1AuPMXjyDonbzs5A01RYzOlBZsiLuxw9zXlI+BQSCxeRFzI1kpuSqD1zEB1Y11xfW0J13jXkjzGiTU2ZsYyxvpSRvrSwTEueTlxa5iGDqayJkbS4TN9S3Pj18+z8XFS1NeQsjGXMtCXcfMyP3osvqny2wwVgxhk378f6Hv3S91pCx05IAaV1LXeW97aDVyjn+Xs++G+t50tucuE+CjiytoZtW19/YNj2xLePG/bEmTBTSbAkJ0wgXNx97579aiBocUHQJYgpr0+varrbc+fX2EBt8Het6+vZ6zEYDBoHN4wIOXavSd9A+CkBtDVjwLZkUh2aWh9KfvAT6a8VOBGiLdxMSkqTT223ExVBIuj0Sx8zHZscnIUJuOxWGFNtaU7oxpL48I1+Eg4jJK2/LyFbktT9Cm8dGNP5/xzYSxXcRIOyS0qkLQ4qOhw4Aw/GRwGiSSR9Rz0F81zWrs+8MgGF0MxNJ6IU/OwuZCVdPGIv6uJIBaNQiJp8zeGlV1IOvqThYE8N05acfO+8MOrHdSESCQS3i3CYdUcK0slChKBd4ycUsuZF/xPf9RXN7QgC4Q2v9ypnRfvLS7AjUajCbyiNiEpOfWtbz8TCgE87r5ZkRHipMNNxlN4BEJSF9e0/jIWx8MDPW8eFHqpC+BJVOOYdVcfvRndAAVBFLIAOR/euLwhxF2JmwrUIJ5A0jWPOFt8tXN8X9f3Q71dTUVn/BwM8TgcBounSyizV++59rDj/8XT96wfBLJUBAJDIKhb6TCCFZUlAZzhpBREl28ObyqLizEQAaIWCRXJFdsja0tY2xnqwEcskTc0cWpVfqSzAAmPRgkrSs5e6Z+XHrt3g/eRQ7H15az10fJ0IpJHTIC9LLShNPnQPEMSAY3i4XNnelQWsmpL2KXnw73VsMCOND1s8nOYdQWJG5N0ZYhoJBId8VNwWV7izmn6+jLUkLm+xelR84PlCVgURUHlwOGonMOBDE9pJBIpKKZ+9kJyw7eYmgtikO3ryDm8VENVUVJcTFhYWERMQkZJzWfx0V86P/Yo+KD3g51tK2ZHKcpJiYuJioqKKSqrLjmY0TPwEcdArDQ8+C5r72wxCSnnlK0tTz9OevD9C6KQHep9dnx6op6ivJS4OFCDQL1IyygZmMxsedU7mmNE74f7XzUnRfrIycqIigASFZOQVNHSm3XmJoR6xf5ZPwhkKQgECovlFuRWUeRXUhCwctTftif6UhGr6UKYoyo/DoNW1JXddTzxalVa1mY7KgmLQlJ8w53KiuJilPipRAwOj6FxEx19jHYfiCrLZ1+pSt4Up8BLQvKKCSSvCGuqTDv6kzGFiEHz8HszfRrA2DOtMifSTwNLJo9AltVUlpy71cFBjYhCIkTNLM+dCI92lZHV1jpyOrH0bDjbRQSDQlBoRAdfg2B3dXMlCjcVLyKmdDgbhuzf0PBAf2/3i+fPnnzQb89fvHjT++6zkexQH/C8CZzQo1mfPOnsBAe/j27/oNednb/8/Muz128/Fw5/v4IqZAf6e96+ef5sTA3+9uzlq6537/pHc4zo/fDw0EDHq1ejmZ48efr0KVDXr990w5HsdxDJIpE4Xu6pM30rLiZdKmKPvOK/UpFcf85PS5EHjUFLa8luPBQPQDZ7ux0NXGAG5xpgWVyUmn/Yx9lSWowfICgSjUFxC4hOXxNWX/EFyPLye7M/D1lwEfK8yNgpsjgEgpdfNHWmnYkkb2Ccc0VRcskJv1ANLBqArLhgUKCBt7tmTJhhVKhhSIBzbuG3GcgAtRdfwMk5PPSJRhYvHd38qcZnBrKObhkjcAFUcBPELl6ovvgCDvP4GvxSFYJr3I7mGBWYcXQjNPWjQBYITQV4EpeFgv2l/thamdqUF2anyo/FoiTVpTceiAMgm77BCoxkMbTAKJeqYub5o5EnDwSvmWMz1VSQSkThCCQjZ9vSUvbGz0KWzufJ9KqtAMiYWpE9BrK5rGtVaVcrWFvY+sIUNImElVMQUlBQWL0xorEitfp8GNOOF4hkyXJqB07EluQmlecmXTgdWZCdVAOOmPjjb5k4Qw2ysEYFVchObkEbslerUptK45LtZSicF19Jy0LBPrAfM6Rdq2TMcBIh4dEUcZH4nwJrS9kbYpUpJCyOXyR+tk91ur+tlaJvql91IfPcJnsZYSIOSzQwti4uYq6NAdtk6aL8rJVhQJnHFpnQSBg0nmztbpF5Kmzfnoii8+FealgiCafhYXORs+QtsMecPVNVpchYNBKAtb2PbUY2G5xEPD9+WZwKAYciU+neSW4XcpIKz4QxwnSmJk29VA6/+IL1PwiGLBQFbcg2lLDSNzsZK9ORCASKSDT2t8vJYX3ayplWsM9VmJ8E0FBRVzY5Xk9CmEylUSwdrdIzki6f9hQTpgqK8oXFWsW6SfJS0DyCPBFz/ItP+NsaCqNQCDSRZO5rk38xOf+AuzAfuN4tnogXEKTKSMouXWBGIaBQaBRWXGbDnihgp1erpl3KiWBqCZDxaF5xwfkbI4BAFfgNVyuSM3e6WCkSKGQsgYTn5SUJCVIEBalB09xHvjXm106QYchCVDBkoShoQ7a+MHHldBNDXXF1FWF1NVFDG82VO2PqP32VVFvEytnjEequpKMhoq8jrqMlnpTskpXNqitNrs8OTXRV01YH07U1xbTUFWYsDSi6yMjY7OBlLTFSpq2b/qHTjOoCxrEV1kBOVRVhM3vt9VsClwZJamuIqKuKqKuLhS8MauSM4GooYp1dbKivKerkYpR9IbnpA0DrS1lnd7q72sqqKAmqKAkZmSnNWOhTlMsEV8cZ81MnzDBkISoYslAUxNtkAUhVcibi4hhskP1TYDgyt0tjeUpdCbu2GFy2q2l0rC1nTC3wxdLkmiL2pSJ2/cjrsipgKzjW9mOZHwqpL2FdKmTXl6UAewQ+/rHfP2aN4bTMgtN3AXsZ+0uAf4P5y1Iu5QMlsOqAEsCf+g1eeY0YhixEBUMWioL6i6//zX9G8IhHmfun9D/7b2b7kkd29E2i17GGIQtRwZCFoiYXZGGPGIYsRAVDFoqCITsZDUMWooIhC0XBkJ2MhiELUcGQhaJgyE5Gw5CFqGDIQlEwZCejYchCVDBkoaj/ALLx0TYNY9YxhP39u+B8nLgo988/PwaqHxaEtGfPnvnz53d0dIx+hgUFvX37VktL619BNiTALOtkFGwI+fjeYGFBakNDfSssSGnVqlXJyck3btwY/QwLCmppaVFVVf2HkB0YGLh582ZERGhYqB9sCDnA39vd3S04ODgKFqTk7+/v7e0dHh4++hkWRBQXF9fV9f+vwfEZyH7Q+98BQsOGjv/QaAXCgojgWvux9ReQhQULFixY/1YwZGHBggXrKwqGLCxYsGB9RcGQhQULFqyvKBiysGDBgvUVBUMWFixYsL6iYMjCggUL1lcUDFlYsGDB+oqCIQsLFixYX02///5/U67Bwx1f72gAAAAASUVORK5CYII=)"
   ]
  },
  {
   "cell_type": "code",
   "execution_count": null,
   "metadata": {
    "id": "addressed-relative"
   },
   "outputs": [],
   "source": [
    "sns.heatmap(matriz_data_k3, annot=True)\n",
    "plt.xlabel(\"Etiquetas predichas\")\n",
    "plt.ylabel(\"Etiquetas reales\")"
   ]
  },
  {
   "cell_type": "markdown",
   "metadata": {
    "id": "careful-shaft"
   },
   "source": [
    "##### Métrica Accuracy (exactitud)"
   ]
  },
  {
   "cell_type": "code",
   "execution_count": null,
   "metadata": {
    "id": "rotary-hardware"
   },
   "outputs": [],
   "source": [
    "exactitud_data_k3 = accuracy_score(y_test, y_pred_data_k3)\n",
    "exactitud_data_k3"
   ]
  },
  {
   "cell_type": "code",
   "execution_count": null,
   "metadata": {},
   "outputs": [],
   "source": [
    "print(\"La exactitud del modelo con 2 variables y k = 3 es\", round(exactitud_2variables_k3,2))\n",
    "print(\"La exactitud del modelo con 2 variables y k = 5 es\", round(exactitud_2variables_k5,2))\n",
    "print(\"La exactitud del modelo con todas las variables y k = 3 es\", exactitud_data_k3)\n"
   ]
  }
 ],
 "metadata": {
  "colab": {
   "name": "KNN.ipynb",
   "provenance": []
  },
  "kernelspec": {
   "display_name": "Python 3",
   "language": "python",
   "name": "python3"
  },
  "language_info": {
   "codemirror_mode": {
    "name": "ipython",
    "version": 3
   },
   "file_extension": ".py",
   "mimetype": "text/x-python",
   "name": "python",
   "nbconvert_exporter": "python",
   "pygments_lexer": "ipython3",
   "version": "3.7.10"
  }
 },
 "nbformat": 4,
 "nbformat_minor": 4
}
